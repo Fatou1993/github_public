{
 "cells": [
  {
   "cell_type": "markdown",
   "metadata": {},
   "source": [
    "# **AM 207**: Homework 5"
   ]
  },
  {
   "cell_type": "markdown",
   "metadata": {},
   "source": [
    "Verena Kaynig-Fittkau and Pavlos Protopapas  <br>\n",
    "**Due: 11.59 P.M. Thursday April 14th, 2016**\n",
    "\n",
    "### Note: This homework is only for one week"
   ]
  },
  {
   "cell_type": "markdown",
   "metadata": {},
   "source": [
    "<div class=\"alert alert-info\">\n",
    "<strong>\n",
    "Submission by Kendrick Lo (Harvard ID: 70984997) for <br>\n",
    "AM 207 - Stochastic Methods for Data Analysis, Inference, and Optimization\n",
    "</strong>\n",
    "<br><br>\n",
    "Collaborators: G. Dominedo, Wikipedia <br><br>\n",
    "We also used a previous CS205 project as reference: www.spark-n-spell.com\n",
    "</div>"
   ]
  },
  {
   "cell_type": "markdown",
   "metadata": {},
   "source": [
    "### Instructions:\n",
    "\n",
    "+ Upload your answers in an ipython notebook to Canvas.\n",
    "\n",
    "+ We will provide you imports for your ipython notebook. Please do not import additional libraries.\n",
    "\n",
    "+ Your individual submissions should use the following filenames: AM207_YOURNAME_HW5.ipynb\n",
    "\n",
    "+ Your code should be in code cells as part of your ipython notebook. Do not use a different language (or format). \n",
    "\n",
    "+ **Do not just send your code. The homework solutions should be in a report style. Be sure to add comments to your code as well as markdown cells where you describe your approach and discuss your results. **\n",
    "\n",
    "+ Please submit your notebook in an executed status, so that we can see all the results you computed. However, we will still run your code and all cells should reproduce the output when executed. \n",
    "\n",
    "+ If you have multiple files (e.g. you've added code files or images) create a tarball for all files in a single file and name it: AM207_YOURNAME_HW5.tar.gz or AM207_YOURNAME_HW5.zip\n",
    "\n",
    "\n",
    "### Have Fun!\n",
    "_ _ _ _ _"
   ]
  },
  {
   "cell_type": "code",
   "execution_count": 1,
   "metadata": {
    "collapsed": false
   },
   "outputs": [],
   "source": [
    "import numpy as np\n",
    "import matplotlib\n",
    "import matplotlib.pyplot as plt\n",
    "%matplotlib inline\n",
    "\n",
    "import seaborn as sns\n",
    "sns.set_style(\"white\")\n",
    "\n",
    "import time\n",
    "import timeit\n",
    "\n",
    "import scipy.stats \n",
    "import pandas as pd\n",
    "import pymc as pm\n",
    "\n",
    "import re\n",
    "import numpy as np\n",
    "\n",
    "import string\n",
    "\n",
    "import sys"
   ]
  },
  {
   "cell_type": "markdown",
   "metadata": {},
   "source": [
    "# Problem 1: HMM... I Think Your Text Got Corrupted!\n",
    "\n",
    "In this problem you should use a Hidden Markov Model to correct typos in a text without using a dictionary. Your data is in two different text files:\n",
    "\n",
    "* `Shakespeare_correct.txt` contains the words of some sonnets from Shakespeare\n",
    "* `Shakespeare_typos.txt` contains the same text, but now some of the characters are corrupted\n",
    "\n",
    "For convenience both text files only contain lower case letters a-z and spaces. \n",
    "\n",
    "First build a first order HMM:\n",
    "* What are the hidden states and what are the observed states?\n",
    "* What should you do to generate your HMM probability matrices?\n",
    "* For some of the HMM parameters, you won't have enough training data to get representative probabilities.  For example, some of your probabilites might be 0. You should address this problem by adding a small pseudocount, similar to the motif finding problem from a previous assignment. \n",
    "* Implement the Viterbi algorithm and run it on a test portion that contains errors. Show that your Viterbi implementation can improve text of length 100, 500, 1000, and 2000. Note: To do this correctly you would have to withhold the part of the text that you use for testing when you estimate the parameters for you HMM. For the sake of this homework it is ok though to report training error instead of test error. Just be aware that the correction rate you are reporting most likely is a very optimistic estimate. \n",
    "* What correction rate do you get?\n",
    "\n",
    "**Important**: Wikipedia has a nice article on [Viterbi](https://en.wikipedia.org/wiki/Viterbi_algorithm). **Please do not use the python implementation from this article!** (The lecture notebook also has the version from Wikipedia). Using dictionaries for Viterbi is really not intuitive and using numpy is typically faster. The article has very nice pseudo code that should enable you to easily program Viterbi by yourself. Please also refrain for this problem from using any other third party implementations. "
   ]
  },
  {
   "cell_type": "markdown",
   "metadata": {},
   "source": [
    "<div class=\"alert alert-danger\">\n",
    "NOTE: As I had already completed a working solution for word-based spellchecking rather than character-based spellchecking before clarification was made on Piazza, <strong>I have left in both solutions here</strong>. In theory, one could apply the character-based correction, followed by the word-based correction on the character-level corrected test, to improve accuracy, which I have also tried. <br><br>\n",
    "\n",
    "Contents:\n",
    "<ul>\n",
    "<li>1. Word-level correction\n",
    "<li>2. [Character-level correction (required)](#character)\n",
    "<li>3. [Character-level + Word-level correction](#wordchar)\n",
    "</ul>\n",
    "\n",
    "<br><br>\n",
    "Summary of Results:\n",
    "<ul>\n",
    "<li>1. We achieved around 70-75% accuracy, on unseen test data, for a first order HMM based on word-level correction, and around 10% accuracy for a second order HMM based on word-level correction.\n",
    "<li>2. <strong>We achieved around 90% accuracy, on unseen test data, for a first order HMM based on character-level correction, and around 95% accuracy for a second order HMM based on character-level correction.</strong>\n",
    "<li>3. We achieved around 80% accuracy, on unseen test data, on one example of applying both character-level correction (second order HMM) and word-level correction (first order HMM).\n",
    "</ul>\n",
    "</div>"
   ]
  },
  {
   "cell_type": "markdown",
   "metadata": {},
   "source": [
    "# Word-level correction solution"
   ]
  },
  {
   "cell_type": "markdown",
   "metadata": {},
   "source": [
    "<div class=\"alert alert-info\">\n",
    "The hidden states are the correctly spelled words (we assume that all words in the corpus text are correctly spelled); more generally, we can treat them as the words that were intended. The observed states are the words that we actually see, which may or may not be misspelled. <br><br>\n",
    "\n",
    "We generate our transition probability matrix by counting the number of instances in which one word in the corpus follows another; the preceding word is the hidden state from which we are transitioning, and the following word is the hidden state to which we are transitioning. <br><br>\n",
    "\n",
    "With respect to the emissions probability matrix, we could set one up, but as noted below, instead we calculated a probability on-demand (using probabilities derived from a Poisson distribution), allowing us to forego building this matrix (there are potentially a lot more misspelled variations that we would never see, compared to the number of words in the corpus). The downside of this is that we may have to tune some of the parameters of the distribution we use, in part because we are now not normalizing probabilities over rows of an emissions probability matrix. <br><br>\n",
    "\n",
    "With respect to the starting probabilties, we assume all words are equally likely as the first word. Note that this would not be a good assumption if we had punctuation since some words would be more likely to begin or end a sentence than others. <br><br>\n",
    "\n",
    "Note that it is very important to have a large corpus for this type of checking. In our example, the corpus is not that long, so we should not expect very accurate results as we may not have seen enough words and/or sequences to infer corrections.\n",
    "</div>"
   ]
  },
  {
   "cell_type": "code",
   "execution_count": 58,
   "metadata": {
    "collapsed": false
   },
   "outputs": [],
   "source": [
    "with open('Shakespeare_correct.txt', 'r') as f:\n",
    "    corpus = f.read()\n",
    "\n",
    "with open('Shakespeare_typos.txt', 'r') as f:\n",
    "    text_to_correct = f.read()"
   ]
  },
  {
   "cell_type": "code",
   "execution_count": 59,
   "metadata": {
    "collapsed": false
   },
   "outputs": [
    {
     "data": {
      "text/plain": [
       "'from fairest creatures we desire increase that thereby beautys rose might never die but as the riper should by time decease his tender heir might bear his memory but thou contracted to thine own bright eyes feedst thy lights flame with selfsubstantial fuel making a famine where abundance lies thy self thy foe to thy sweet self too cruel thou that art now the worlds fresh ornament and only herald to the gaudy spring within thine own bud buriest thy content and tender churl makst waste in niggarding pity the world or else this glutton be to eat the worlds due by the grave and thee when forty winters shall besiege thy brow and dig deep trenches in thy beautys field thy youths proud livery so gazed on now will be a totterd weed of small worth held then being asked where all thy beauty lies where all the treasure of thy lusty days to say within thine own deep sunken eyes were an alleating shame and thriftless praise how much more praise deservd thy beautys use if thou couldst answer this fair child of mine shall sum my count and make my old excuse proving his beauty by succession thine this were to be new made when thou art old and see thy blood warm when thou feelst it cold look in thy glass and tell the face thou viewest now is the time that face should form another whose fresh repair if now thou not renewest thou dost beguile the world unbless some mother for where is she so fair whose uneared womb disdains the tillage of thy husbandry or who is he so fond will be the tomb of his selflove to stop posterity thou art thy mothers glass and she in thee calls back the lovely april of her prime so thou through windows of thine age shalt see despite of wrinkles this thy golden time but if thou live remembered not to be die single and thine image dies with thee unthrifty loveliness why dost thou spend upon thy self thy beautys legacy natures bequest gives nothing but doth lend and being frank she lends to those are free then beauteous niggard why dost thou abuse the bounteous largess given thee to give profitless usurer why dost thou use so great a sum of sums yet canst not live for having traffic with thy self alone thou of thy self thy sweet self dost deceive then how when nature calls thee to be gone what acceptable audit canst thou leave thy unused beauty must be tombed with thee which used lives th executor to be those hours that with gentle work did frame the lovely gaze where every eye doth dwell will play the tyrants to the very same and that unfair which fairly doth excel for neverresting time leads summer on to hideous winter and confounds him there sap checked with frost and lusty leaves quite gone beauty oersnowed and bareness every where then were not summers distillation left a liquid prisoner pent in walls of glass beautys effect with beauty were bereft nor it nor no remembrance what it was but flowers distilled though they with winter meet leese but their show their substance still lives sweet then let not winters ragged hand deface in thee thy summer ere thou be distilled make sweet some vial treasure thou some place with beautys treasure ere it be selfkilled that use is not forbidden usury which happies those that pay the willing loan thats for thy self to breed another thee or ten times happier be it ten for one ten times thy self were happier than thou art if ten of thine ten times refigured thee then what could death do if thou shouldst depart leaving thee living in posterity be not selfwilled for thou art much too fair to be deaths conquest and make worms thine heir lo in the orient when the gracious light lifts up his burning head each under eye doth homage to his newappearing sight serving with looks his sacred majesty and having climbed the steepup heavenly hill resembling strong youth in his middle age yet mortal looks adore his beauty still attending on his golden pilgrimage but when from highmost pitch with weary car like feeble age he reeleth from the day the eyes fore duteous now converted are from his low tract and look another way so thou thyself outgoing in thy noon unlooked on diest unless thou get a son music to hear why hearst thou music sadly sweets with sweets war not joy delights in joy why lovst thou that which thou receivst not gladly or else receivst with pleasure thine annoy if the true concord of welltuned sounds by unions married do offend thine ear they do but sweetly chide thee who confounds in singleness the parts that thou shouldst bear mark how one string sweet husband to another strikes each in each by mutual ordering resembling sire and child and happy mother who all in one one pleasing note do sing whose speechless song being many seeming one sings this to thee thou single wilt prove none is it for fear to wet a widows eye that thou consumst thy self in single life ah if thou issueless shalt hap to die the world will wail thee like a makeless wife the world will be thy widow and still weep that thou no form of thee hast left behind when every private widow well may keep by childrens eyes her husbands shape in mind look what an unthrift in the world doth spend shifts but his place for still the world enjoys it but beautys waste hath in the world an end and kept unused the user so destroys it no love toward others in that bosom sits that on himself such murdrous shame commits for shame deny that thou bearst love to any who for thy self art so unprovident grant if thou wilt thou art beloved of many but that thou none lovst is most evident for thou art so possessed with murderous hate that gainst thy self thou stickst not to conspire seeking that beauteous roof to ruinate which to repair should be thy chief desire o change thy thought that i may change my mind shall hate be fairer lodged than gentle love be as thy presence is gracious and kind or to thyself at least kindhearted prove make thee another self for love of me that beauty still may live in thine or thee as fast as thou shalt wane so fast thou growst in one of thine from that which thou departest and that fresh blood which youngly thou bestowst thou mayst call thine when thou from youth convertest herein lives wisdom beauty and increase without this folly age and cold decay if all were minded so the times should cease and threescore year would make the world away let those whom nature hath not made for store harsh featureless and rude barrenly perish look whom she best endowed she gave the more which bounteous gift thou shouldst in bounty cherish she carved thee for her seal and meant thereby thou shouldst print more not let that copy die when i do count the clock that tells the time and see the brave day sunk in hideous night when i behold the violet past prime and sable curls all silvered oer with white when lofty trees i see barren of leaves which erst from heat did canopy the herd and summers green all girded up in sheaves borne on the bier with white and bristly beard then of thy beauty do i question make that thou among the wastes of time must go since sweets and beauties do themselves forsake and die as fast as they see others grow and nothing gainst times scythe can make defence save breed to brave him when he takes thee hence o that you were your self but love you are no longer yours than you your self here live against this coming end you should prepare and your sweet semblance to some other give so should that beauty which you hold in lease find no determination then you were yourself again after yourselfs decease when your sweet issue your sweet form should bear who lets so fair a house fall to decay which husbandry in honour might uphold against the stormy gusts of winters day and barren rage of deaths eternal cold o none but unthrifts dear my love you know you had a father let your son say so not from the stars do i my judgement pluck and yet methinks i have astronomy but not to tell of good or evil luck of plagues of dearths or seasons quality nor can i fortune to brief minutes tell pointing to each his thunder rain and wind or say with princes if it shall go well by oft predict that i in heaven find but from thine eyes my knowledge i derive and constant stars in them i read such art as truth and beauty shall together thrive if from thyself to store thou wouldst convert or else of thee this i prognosticate thy end is truths and beautys doom and date when i consider every thing that grows holds in perfection but a little moment that this huge stage presenteth nought but shows whereon the stars in secret influence comment when i perceive that men as plants increase cheered and checked even by the selfsame sky vaunt in their youthful sap at height decrease and wear their brave state out of memory then the conceit of this inconstant stay sets you most rich in youth before my sight where wasteful time debateth with decay to change your day of youth to sullied night and all in war with time for love of you as he takes from you i engraft you new but wherefore do not you a mightier way make war upon this bloody tyrant time and fortify your self in your decay with means more blessed than my barren rhyme now stand you on the top of happy hours and many maiden gardens yet unset with virtuous wish would bear you living flowers much liker than your painted counterfeit so should the lines of life that life repair which this times pencil or my pupil pen neither in inward worth nor outward fair can make you live your self in eyes of men to give away yourself keeps yourself still and you must live drawn by your own sweet skill who will believe my verse in time to come if it were filled with your most high deserts though yet heaven knows it is but as a tomb which hides your life and shows not half your parts if i could write the beauty of your eyes and in fresh numbers number all your graces the age to come would say this poet lies such heavenly touches neer touched earthly faces so should my papers yellowed with their age be scorned like old men of less truth than tongue and your true rights be termed a poets rage and stretched metre of an antique song but were some child of yours alive that time you should live twice in it and in my rhyme shall i compare thee to a summers day thou art more lovely and more temperate rough winds do shake the darling buds of may and summers lease hath all too short a date sometime too hot the eye of heaven shines and often is his gold complexion dimmed and every fair from fair sometime declines by chance or natures changing course untrimmed but thy eternal summer shall not fade nor lose possession of that fair thou owst nor shall death brag thou wanderst in his shade when in eternal lines to time thou growst so long as men can breathe or eyes can see so long lives this and this gives life to thee devouring time blunt thou the lions paws and make the earth devour her own sweet brood pluck the keen teeth from the fierce tigers jaws and burn the longlived phoenix in her blood make glad and sorry seasons as thou fleetst and do whateer thou wilt swiftfooted time to the wide world and all her fading sweets but i forbid thee one most heinous crime o carve not with thy hours my loves fair brow nor draw no lines there with thine antique pen him in thy course untainted do allow for beautys pattern to succeeding men yet do thy worst old time despite thy wrong my love shall in my verse ever live young a womans face with natures own hand painted hast thou the master mistress of my passion a womans gentle heart but not acquainted with shifting change as is false womens fashion an eye more bright than theirs less false in rolling gilding the object whereupon it gazeth a man in hue all hues in his controlling which steals mens eyes and womens souls amazeth and for a woman wert thou first created till nature as she wrought thee fell adoting and by addition me of thee defeated by adding one thing to my purpose nothing but since she prickd thee out for womens pleasure mine be thy love and thy loves use their treasure so is it not with me as with that muse stirred by a painted beauty to his verse who heaven itself for ornament doth use and every fair with his fair doth rehearse making a couplement of proud compare with sun and moon with earth and seas rich gems with aprils firstborn flowers and all things rare that heavens air in this huge rondure hems o let me true in love but truly write and then believe me my love is as fair as any mothers child though not so bright as those gold candles fixed in heavens air let them say more that like of hearsay well i will not praise that purpose not to sell my glass shall not persuade me i am old so long as youth and thou are of one date but when in thee times furrows i behold then look i death my days should expiate for all that beauty that doth cover thee is but the seemly raiment of my heart which in thy breast doth live as thine in me how can i then be elder than thou art o therefore love be of thyself so wary as i not for myself but for thee will bearing thy heart which i will keep so chary as tender nurse her babe from faring ill presume not on thy heart when mine is slain thou gavst me thine not to give back again as an unperfect actor on the stage who with his fear is put beside his part or some fierce thing replete with too much rage whose strengths abundance weakens his own heart so i for fear of trust forget to say the perfect ceremony of loves rite and in mine own loves strength seem to decay oercharged with burthen of mine own loves might o let my looks be then the eloquence and dumb presagers of my speaking breast who plead for love and look for recompense more than that tongue that more hath more expressd o learn to read what silent love hath writ to hear with eyes belongs to loves fine wit mine eye hath played the painter and hath steeled thy beautys form in table of my heart my body is the frame wherein tis held and perspective that is best painters art for through the painter must you see his skill to find where your true image pictured lies which in my bosoms shop is hanging still that hath his windows glazed with thine eyes now see what good turns eyes for eyes have done mine eyes have drawn thy shape and thine for me are windows to my breast wherethrough the sun delights to peep to gaze therein on thee yet eyes this cunning want to grace their art they draw but what they see know not the heart let those who are in favour with their stars of public honour and proud titles boast whilst i whom fortune of such triumph bars unlookd for joy in that i honour most great princes favourites their fair leaves spread but as the marigold at the suns eye and in themselves their pride lies buried for at a frown they in their glory die the painful warrior famoused for fight after a thousand victories once foiled is from the book of honour razed quite and all the rest forgot for which he toiled then happy i that love and am beloved where i may not remove nor be removed lord of my love to whom in vassalage thy merit hath my duty strongly knit to thee i send this written embassage to witness duty not to show my wit duty so great which wit so poor as mine may make seem bare in wanting words to show it but that i hope some good conceit of thine in thy souls thought all naked will bestow it till whatsoever star that guides my moving points on me graciously with fair aspect and puts apparel on my tottered loving to show me worthy of thy sweet respect then may i dare to boast how i do love thee till then not show my head where thou mayst prove me weary with toil i haste me to my bed the dear repose for limbs with travel tired but then begins a journey in my head to work my mind when bodys works expired for then my thoughtsfrom far where i abide intend a zealous pilgrimage to thee and keep my drooping eyelids open wide looking on darkness which the blind do see save that my souls imaginary sight presents thy shadow to my sightless view which like a jewel hung in ghastly night makes black night beauteous and her old face new lo thus by day my limbs by night my mind for thee and for myself no quiet find how can i then return in happy plight that am debarred the benefit of rest when days oppression is not easd by night but day by night and night by day oppressed and each though enemies to eithers reign do in consent shake hands to torture me the one by toil the other to complain how far i toil still farther off from thee i tell the day to please him thou art bright and dost him grace when clouds do blot the heaven so flatter i the swartcomplexiond night when sparkling stars twire not thou gildst the even but day doth daily draw my sorrows longer and night doth nightly make griefs length seem stronger when in disgrace with fortune and mens eyes i all alone beweep my outcast state and trouble deaf heaven with my bootless cries and look upon myself and curse my fate wishing me like to one more rich in hope featured like him like him with friends possessed desiring this mans art and that mans scope with what i most enjoy contented least yet in these thoughts my self almost despising haply i think on thee and then my state like to the lark at break of day arising from sullen earth sings hymns at heavens gate for thy sweet love remembered such wealth brings that then i scorn to change my state with kings when to the sessions of sweet silent thought i summon up remembrance of things past i sigh the lack of many a thing i sought and with old woes new wail my dear times waste then can i drown an eye unused to flow for precious friends hid in deaths dateless night and weep afresh loves long since cancelled woe and moan the expense of many a vanished sight then can i grieve at grievances foregone and heavily from woe to woe tell oer the sad account of forebemoaned moan which i new pay as if not paid before but if the while i think on thee dear friend all losses are restord and sorrows end thy bosom is endeared with all hearts which i by lacking have supposed dead and there reigns love and all loves loving parts and all those friends which i thought buried how many a holy and obsequious tear hath dear religious love stoln from mine eye as interest of the dead which now appear but things removed that hidden in thee lie thou art the grave where buried love doth live hung with the trophies of my lovers gone who all their parts of me to thee did give that due of many now is thine alone their images i loved i view in thee and thou all they hast all the all of me if thou survive my wellcontented day when that churl death my bones with dust shall cover and shalt by fortune once more resurvey these poor rude lines of thy deceased lover compare them with the bettring of the time and though they be outstripped by every pen reserve them for my love not for their rhyme exceeded by the height of happier men o then vouchsafe me but this loving thought had my friends muse grown with this growing age a dearer birth than this his love had brought to march in ranks of better equipage but since he died and poets better prove theirs for their style ill read his for his love full many a glorious morning have i seen flatter the mountain tops with sovereign eye kissing with golden face the meadows green gilding pale streams with heavenly alchemy anon permit the basest clouds to ride with ugly rack on his celestial face and from the forlorn world his visage hide stealing unseen to west with this disgrace even so my sun one early morn did shine with all triumphant splendour on my brow but out alack he was but one hour mine the region cloud hath maskd him from me now yet him for this my love no whit disdaineth suns of the world may stain when heavens sun staineth why didst thou promise such a beauteous day and make me travel forth without my cloak to let base clouds oertake me in my way hiding thy bravery in their rotten smoke tis not enough that through the cloud thou break to dry the rain on my stormbeaten face for no man well of such a salve can speak that heals the wound and cures not the disgrace nor can thy shame give physic to my grief though thou repent yet i have still the loss the offenders sorrow lends but weak relief to him that bears the strong offences cross ah but those tears are pearl which thy love sheds and they are rich and ransom all ill deeds no more be grieved atthat which thou hast done roses have thorns and silver fountains mud clouds and eclipses stain both moon and sun and loathsome canker lives in sweetest bud all men make faults and even i in this authorizing thy trespass with compare myself corrupting salving thy amiss excusing thy sins more than thy sins are for to thy sensual fault i bring in sense thy adverse party is thy advocate and gainst myself a lawful plea commence such civil war is in my love and hate that i an accessary needs must be to that sweet thief which sourly robs from me let me confess that we two must be twain although our undivided loves are one so shall those blots that do with me remain without thy help by me be borne alone in our two loves there is but one respect though in our lives a separable spite which though it alter not loves sole effect yet doth it steal sweet hours from loves delight i may not evermore acknowledge thee lest my bewailed guilt should do thee shame nor thou with public kindness honour me unless thou take that honour from thy name but do not so i love thee in such sort as thou being mine mine is thy good report as a decrepit father takes delight to see his active child do deeds of youth so i made lame by fortunes dearest spite take all my comfort of thy worth and truth for whether beauty birth or wealth or wit or any of these all or all or more entitled in thy parts do crowned sit i make my love engrafted to this store so then i am not lame poor nor despised whilst that this shadow doth such substance give that i in thy abundance am sufficed and by a part of all thy glory live look what is best that best i wish in thee this wish i have then ten times happy me how can my muse want subject to invent while thou dost breathe that pourst into my verse thine own sweet argument too excellent for every vulgar paper to rehearse o give thy self the thanks if aught in me worthy perusal stand against thy sight for whos so dumb that cannot write to thee when thou thy self dost give invention light be thou the tenth muse ten times more in worth than those old nine which rhymers invocate and he that calls on thee let him bring forth eternal numbers to outlive long date if my slight muse do please these curious days the pain be mine but thine shall be the praise o how thy worth with manners may i sing when thou art all the better part of me what can mine own praise to mine own self bring and what ist but mine own when i praise thee even for this let us divided live and our dear love lose name of single one that by this separation i may give that due to thee which thou deservst alone o absence what a torment wouldst thou prove were it not thy sour leisure gave sweet leave to entertain the time with thoughts of love which time and thoughts so sweetly doth deceive and that thou teachest how to make one twain by praising him here who doth hence remain take all my loves my love yea take them all what hast thou then more than thou hadst before no love my love that thou mayst true love call all mine was thine before thou hadst this more then if for my love thou my love receivest i cannot blame thee for my love thou usest but yet be blamd if thou thy self deceivest by wilful taste of what thyself refusest i do forgive thy robbery gentle thief although thou steal thee all my poverty and yet love knows it is a greater grief to bear loves wrong than hates known injury lascivious grace in whom all ill well shows kill me with spites yet we must not be foes those pretty wrongs that liberty commits when i am sometime absent from thy heart thy beauty and thy years full well befits for still temptation follows where thou art gentle thou art and therefore to be won beauteous thou art therefore to be assailed and when a woman woos what womans son will sourly leave her till he have prevailed ay me but yet thou mightst my seat forbear and chide thy beauty and thy straying youth who lead thee in their riot even there where thou art forced to break a twofold truth hers by thy beauty tempting her to thee thine by thy beauty being false to me that thou hast her it is not all my grief and yet it may be said i loved her dearly that she hath thee is of my wailing chief a loss in love that touches me more nearly loving offenders thus i will excuse ye thou dost love her because thou knowst i love her and for my sake even so doth she abuse me suffering my friend for my sake to approve her if i lose thee my loss is my loves gain and losing her my friend hath found that loss both find each other and i lose both twain and both for my sake lay on me this cross but heres the joy my friend and i are one sweet flattery then she loves but me alone when most i wink then do mine eyes best see for all the day they view things unrespected but when i sleep in dreams they look on thee and darkly bright are bright in dark directed then thou whose shadow shadows doth make bright how would thy shadows form form happy show to the clear day with thy much clearer light when to unseeing eyes thy shade shines so how would i say mine eyes be blessed made by looking on thee in the living day when in dead night thy fair imperfect shade through heavy sleep on sightless eyes doth stay all days are nights to see till i see thee and nights bright days when dreams do show thee me if the dull substance of my flesh were thought injurious distance should not stop my way for then despite of space i would be brought from limits far remote where thou dost stay no matter then although my foot did stand upon the farthest earth removed from thee for nimble thought can jump both sea and land as soon as think the place where he would be but ah thought kills me that i am not thought to leap large lengths of miles when thou art gone but that so much of earth and water wrought i must attend times leisure with my moan receiving nought by elements so slow but heavy tears badges of eithers woe the other two slight air and purging fire are both with thee wherever i abide the first my thought the other my desire these presentabsent with swift motion slide for when these quicker elements are gone in tender embassy of love to thee my life being made of four with two alone sinks down to death oppressed with melancholy until lifes composition be recured by those swift messengers returnd from thee who even but now come back again assured of thy fair health recounting it to me this told i joy but then no longer glad i send them back again and straight grow sad mine eye and heart are at a mortal war how to divide the conquest of thy sight mine eye my heart thy pictures sight would bar my heart mine eye the freedom of that right my heart doth plead that thou in him dost lie a closet never pierced with crystal eyes but the defendant doth that plea deny and says in him thy fair appearance lies to cide this title is impannelled a quest of thoughts all tenants to the heart and by their verdict is determined the clear eyes moiety and the dear hearts part as thus mine eyes due is thine outward part and my hearts right thine inward love of heart betwixt mine eye and heart a league is took and each doth good turns now unto the other when that mine eye is famishd for a look or heart in love with sighs himself doth smother with my loves picture then my eye doth feast and to the painted banquet bids my heart another time mine eye is my hearts guest and in his thoughts of love doth share a part so either by thy picture or my love thy self away art present still with me for thou not farther than my thoughts canst move and i am still with them and they with thee or if they sleep thy picture in my sight awakes my heart to hearts and eyes delight how careful was i when i took my way each trifle under truest bars to thrust that to my use it might unused stay from hands of falsehood in sure wards of trust but thou to whom my jewels trifles are most worthy comfort now my greatest grief thou best of dearest and mine only care art left the prey of every vulgar thief thee have i not locked up in any chest save where thou art not though i feel thou art within the gentle closure of my breast from whence at pleasure thou mayst come and part and even thence thou wilt be stoln i fear for truth proves thievish for a prize so dear against that time if ever that time come when i shall see thee frown on my defects when as thy love hath cast his utmost sum called to that audit by advisd respects against that time when thou shalt strangely pass and scarcely greet me with that sun thine eye when love converted from the thing it was shall reasons find of settled gravity against that time do i ensconce me here within the knowledge of mine own desert and this my hand against my self uprear to guard the lawful reasons on thy part to leave poor me thou hast the strength of laws since why to love i can allege no cause how heavy do i journey on the way when what i seek my weary travels end doth teach that ease and that repose to say thus far the miles are measured from thy friend the beast that bears me tired with my woe plods dully on to bear that weight in me as if by some instinct the wretch did know his rider lovd not speed being made from thee the bloody spur cannot provoke him on that sometimes anger thrusts into his hide which heavily he answers with a groan more sharp to me than spurring to his side for that same groan doth put this in my mind my grief lies onward and my joy behind thus can my love excuse the slow offence of my dull bearer when from thee i speed from where thou art why should i haste me thence till i return of posting is no need o what excuse will my poor beast then find when swift extremity can seem but slow then should i spur though mounted on the wind in winged speed no motion shall i know then can no horse with my desire keep pace therefore desire of perfectst love being made shall neigh no dull flesh in his fiery race but love for love thus shall excuse my jade since from thee going he went wilfulslow towards thee ill run and give him leave to go so am i as the rich whose blessed key can bring him to his sweet uplocked treasure the which he will not every hour survey for blunting the fine point of seldom pleasure therefore are feasts so solemn and so rare since seldom coming in the long year set like stones of worth they thinly placed are or captain jewels in the carcanet so is the time that keeps you as my chest or as the wardrobe which the robe doth hide to make some special instant specialblest by new unfolding his imprisoned pride blessed are you whose worthiness gives scope being had to triumph being lacked to hope what is your substance whereof are you made that millions of strange shadows on you tend since every one hath every one one shade and you but one can every shadow lend describe adonis and the counterfeit is poorly imitated after you on helens cheek all art of beauty set and you in grecian tires are painted new speak of the spring and foison of the year the one doth shadow of your beauty show the other as your bounty doth appear and you in every blessed shape we know in all external grace you have some part but you like none none you for constant heart o how much more doth beauty beauteous seem by that sweet ornament which truth doth give the rose looks fair but fairer we it deem for that sweet odour which doth in it live the canker blooms have full as deep a dye as the perfumed tincture of the roses hang on such thorns and play as wantonly when summers breath their masked buds discloses but for their virtue only is their show they live unwood and unrespected fade die to themselves sweet roses do not so of their sweet deaths are sweetest odours made and so of you beauteous and lovely youth when that shall vade my verse distills your truth not marble nor the gilded monuments of princes shall outlive this powerful rhyme but you shall shine more bright in these contents than unswept stone besmeard with sluttish time when wasteful war shall statues overturn and broils root out the work of masonry nor mars his sword nor wars quick fire shall burn the living record of your memory gainst death and all oblivious enmity shall you pace forth your praise shall still find room even in the eyes of all posterity that wear this world out to the ending doom so till the judgment that yourself arise you live in this and dwell in lovers eyes sweet love renew thy force be it not said thy edge should blunter be than appetite which but today by feeding is allayed tomorrow sharpened in his former might so love be thou although today thou fill thy hungry eyes even till they wink with fulness tomorrow see again and do not kill the spirit of love with a perpetual dulness let this sad interim like the ocean be which parts the shore where two contracted new come daily to the banks that when they see return of love more blest may be the view as call it winter which being full of care makes summers welcome thrice more wished more rare being your slave what should i do but tend upon the hours and times of your desire i have no precious time at all to spend nor services to do till you require nor dare i chide the world without end hour whilst i my sovereign watch the clock for you nor think the bitterness of absence sour when you have bid your servant once adieu nor dare i question with my jealous thought where you may be or your affairs suppose but like a sad slave stay and think of nought save where you are how happy you make those so true a fool is love that in your will though you do anything he thinks no ill that god forbid that made me first your slave i should in thought control your times of pleasure or at your hand the account of hours to crave being your vassal bound to stay your leisure o let me suffer being at your beck the imprisond absence of your liberty and patience tame to sufferance bide each check without accusing you of injury be where you list your charter is so strong that you yourself may privilege your time to what you will to you it doth belong yourself to pardon of selfdoing crime i am to wait though waiting so be hell not blame your pleasure be it ill or well if there be nothing new but that which is hath been before how are our brains beguild which labouring for invention bear amiss the second burthen of a former child oh that record could with a backward look even of five hundred courses of the sun show me your image in some antique book since mind at first in character was done that i might see what the old world could say to this composed wonder of your frame whether we are mended or where better they or whether revolution be the same oh sure i am the wits of former days to subjects worse have given admiring praise like as the waves make towards the pebbled shore so do our minutes hasten to their end each changing place with that which goes before in sequent toil all forwards do contend nativity once in the main of light crawls to maturity wherewith being crownd crooked eclipses gainst his glory fight and time that gave doth now his gift confound time doth transfix the flourish set on youth and delves the parallels in beautys brow feeds on the rarities of natures truth and nothing stands but for his scythe to mow and yet to times in hope my verse shall stand praising thy worth despite his cruel hand is it thy will thy image should keep open my heavy eyelids to the weary night dost thou desire my slumbers should be broken while shadows like to thee do mock my sight is it thy spirit that thou sendst from thee so far from home into my deeds to pry to find out shames and idle hours in me the scope and tenor of thy jealousy o no thy love though much is not so great it is my love that keeps mine eye awake mine own true love that doth my rest defeat to play the watchman ever for thy sake for thee watch i whilst thou dost wake elsewhere from me far off with others all too near sin of selflove possesseth all mine eye and all my soul and all my every part and for this sin there is no remedy it is so grounded inward in my heart methinks no face so gracious is as mine no shape so true no truth of such account and for myself mine own worth do define as i all other in all worths surmount but when my glass shows me myself indeed beated and choppd with tanned antiquity mine own selflove quite contrary i read self so selfloving were iniquity tis thee myself that for myself i praise painting my age with beauty of thy days against my love shall be as i am now with times injurious hand crushed and oerworn when hours have drained his blood and filled his brow with lines and wrinkles when his youthful morn hath travelled on to ages steepy night and all those beauties whereof now hes king are vanishing or vanished out of sight stealing away the treasure of his spring for such a time do i now fortify against confounding ages cruel knife that he shall never cut from memory my sweet loves beauty though my lovers life his beauty shall in these black lines be seen and they shall live and he in them still green when i have seen by times fell hand defaced the rich proud cost of outworn buried age when sometime lofty towers i see downrazed and brass eternal slave to mortal rage when i have seen the hungry ocean gain advantage on the kingdom of the shore and the firm soil win of the watery main increasing store with loss and loss with store when i have seen such interchange of state or state itself confounded to decay ruin hath taught me thus to ruminate that time will come and take my love away this thought is as a death which cannot choose but weep to have that which it fears to lose since brass nor stone nor earth nor boundless sea but sad mortality oersways their power how with this rage shall beauty hold a plea whose action is no stronger than a flower o how shall summers honey breath hold out against the wrackful siege of battering days when rocks impregnable are not so stout nor gates of steel so strong but time decays o fearful meditation where alack shall times best jewel from times chest lie hid or what strong hand can hold his swift foot back or who his spoil of beauty can forbid o none unless this miracle have might that in black ink my love may still shine bright tired with all these for restful death i cry as to behold desert a beggar born and needy nothing trimmd in jollity and purest faith unhappily forsworn and gilded honour shamefully misplaced and maiden virtue rudely strumpeted and right perfection wrongfully disgraced and strength by limping sway disabled and art made tonguetied by authority and folly doctorlike controlling skill and simple truth miscalled simplicity and captive good attending captain ill tired with all these from these would i be gone save that to die i leave my love alone ah wherefore with infection should he live and with his presence grace impiety that sin by him advantage should achieve and lace itself with his society why should false painting imitate his cheek and steal dead seeming of his living hue why should poor beauty indirectly seek roses of shadow since his rose is true why should he live now nature bankrupt is beggared of blood to blush through lively veins for she hath no exchequer now but his and proud of many lives upon his gains o him she stores to show what wealth she had in days long since before these last so bad thus is his cheek the map of days outworn when beauty lived and died as flowers do now before these bastard signs of fair were born or durst inhabit on a living brow before the golden tresses of the dead the right of sepulchres were shorn away to live a second life on second head ere beautys dead fleece made another gay in him those holy antique hours are seen without all ornament itself and true making no summer of anothers green robbing no old to dress his beauty new and him as for a map doth nature store to show false art what beauty was of yore those parts of thee that the worlds eye doth view want nothing that the thought of hearts can mend all tongues the voice of souls give thee that due uttering bare truth even so as foes commend thy outward thus with outward praise is crownd but those same tongues that give thee so thine own in other accents do this praise confound by seeing farther than the eye hath shown they look into the beauty of thy mind and that in guess they measure by thy deeds then churls their thoughts although their eyes were kind to thy fair flower add the rank smell of weeds but why thy odour matcheth not thy show the soil is this that thou dost common grow that thou art blamed shall not be thy defect for slanders mark was ever yet the fair the ornament of beauty is suspect a crow that flies in heavens sweetest air so thou be good slander doth but approve thy worth the greater being wooed of time for canker vice the sweetest buds doth love and thou presentst a pure unstained prime thou hast passed by the ambush of young days either not assailed or victor being charged yet this thy praise cannot be so thy praise to tie up envy evermore enlarged if some suspect of ill masked not thy show then thou alone kingdoms of hearts shouldst owe no longer mourn for me when i am dead than you shall hear the surly sullen bell give warning to the world that i am fled from this vile world with vilest worms to dwell nay if you read this line remember not the hand that writ it for i love you so that i in your sweet thoughts would be forgot if thinking on me then should make you woe o if i say you look upon this verse when i perhaps compounded am with clay do not so much as my poor name rehearse but let your love even with my life decay lest the wise world should look into your moan and mock you with me after i am gone o lest the world should task you to recite what merit lived in me that you should love after my deathdear love forget me quite for you in me can nothing worthy prove unless you would devise some virtuous lie to do more for me than mine own desert and hang more praise upon deceased i than niggard truth would willingly impart o lest your true love may seem false in this that you for love speak well of me untrue my name be buried where my body is and live no more to shame nor me nor you for i am shamed by that which i bring forth and so should you to love things nothing worth that time of year thou mayst in me behold when yellow leaves or none or few do hang upon those boughs which shake against the cold bare ruined choirs where late the sweet birds sang in me thou seest the twilight of such day as after sunset fadeth in the west which by and by black night doth take away deaths second self that seals up all in rest in me thou seest the glowing of such fire that on the ashes of his youth doth lie as the deathbed whereon it must expire consumed with that which it was nourishd by this thou perceivst which makes thy love more strong to love that well which thou must leave ere long but be contented when that fell arrest without all bail shall carry me away my life hath in this line some interest which for memorial still with thee shall stay when thou reviewest this thou dost review the very part was consecrate to thee the earth can have but earth which is his due my spirit is thine the better part of me so then thou hast but lost the dregs of life the prey of worms my body being dead the coward conquest of a wretchs knife too base of thee to be remembered the worth of that is that which it contains and that is this and this with thee remains so are you to my thoughts as food to life or as sweetseasond showers are to the ground and for the peace of you i hold such strife as twixt a miser and his wealth is found now proud as an enjoyer and anon doubting the filching age will steal his treasure now counting best to be with you alone then betterd that the world may see my pleasure sometime all full with feasting on your sight and by and by clean starved for a look possessing or pursuing no delight save what is had or must from you be took thus do i pine and surfeit day by day or gluttoning on all or all away why is my verse so barren of new pride so far from variation or quick change why with the time do i not glance aside to newfound methods and to compounds strange why write i still all one ever the same and keep invention in a noted weed that every word doth almost tell my name showing their birth and where they did proceed o know sweet love i always write of you and you and love are still my argument so all my best is dressing old words new spending again what is already spent for as the sun is daily new and old so is my love still telling what is told thy glass will show thee how thy beauties wear thy dial how thy precious minutes waste the vacant leaves thy minds imprint will bear and of this book this learning mayst thou taste the wrinkles which thy glass will truly show of mouthed graves will give thee memory thou by thy dials shady stealth mayst know times thievish progress to eternity look what thy memory cannot contain commit to these waste blanks and thou shalt find those children nursed delivered from thy brain to take a new acquaintance of thy mind these offices so oft as thou wilt look shall profit thee and much enrich thy book so oft have i invoked thee for my muse and found such fair assistance in my verse as every alien pen hath got my use and under thee their poesy disperse thine eyes that taught the dumb on high to sing and heavy ignorance aloft to fly have added feathers to the learneds wing and given grace a double majesty yet be most proud of that which i compile whose influence is thine and born of thee in others works thou dost but mend the style and arts with thy sweet graces graced be but thou art all my art and dost advance as high as learning my rude ignorance whilst i alone did call upon thy aid my verse alone had all thy gentle grace but now my gracious numbers are decayed and my sick muse doth give an other place i grant sweet love thy lovely argument deserves the travail of a worthier pen yet what of thee thy poet doth invent he robs thee of and pays it thee again he lends thee virtue and he stole that word from thy behaviour beauty doth he give and found it in thy cheek he can afford no praise to thee but what in thee doth live then thank him not for that which he doth say since what he owes thee thou thyself dost pay o how i faint when i of you do write knowing a better spirit doth use your name and in the praise thereof spends all his might to make me tonguetied speaking of your fame but since your worth wide as the ocean is the humble as the proudest sail doth bear my saucy bark inferior far to his on your broad main doth wilfully appear your shallowest help will hold me up afloat whilst he upon your soundless deep doth ride or being wracked i am a worthless boat he of tall building and of goodly pride then if he thrive and i be cast away the worst was this my love was my decay or i shall live your epitaph to make or you survive when i in earth am rotten from hence your memory death cannot take although in me each part will be forgotten your name from hence immortal life shall have though i once gone to all the world must die the earth can yield me but a common grave when you entombed in mens eyes shall lie your monument shall be my gentle verse which eyes not yet created shall oerread and tongues to be your being shall rehearse when all the breathers of this world are dead you still shall live such virtue hath my pen where breath most breathes even in the mouths of men i grant thou wert not married to my muse and therefore mayst without attaint oerlook the dedicated words which writers use of their fair subject blessing every book thou art as fair in knowledge as in hue finding thy worth a limit past my praise and therefore art enforced to seek anew some fresher stamp of the timebettering days and do so love yet when they have devised what strained touches rhetoric can lend thou truly fair wert truly sympathized in true plain words by thy truetelling friend and their gross painting might be better used where cheeks need blood in thee it is abused i never saw that you did painting need and therefore to your fair no painting set i found or thought i found you did exceed the barren tender of a poets debt and therefore have i slept in your report that you yourself being extant well might show how far a modern quill doth come too short speaking of worth what worth in you doth grow this silence for my sin you did impute which shall be most my glory being dumb for i impair not beauty being mute when others would give life and bring a tomb there lives more life in one of your fair eyes than both your poets can in praise devise who is it that says most which can say more than this rich praise that you alone are you in whose confine immured is the store which should example where your equal grew lean penury within that pen doth dwell that to his subject lends not some small glory but he that writes of you if he can tell that you are you so dignifies his story let him but copy what in you is writ not making worse what nature made so clear and such a counterpart shall fame his wit making his style admired every where you to your beauteous blessings add a curse being fond on praise which makes your praises worse my tonguetied muse in manners holds her still while comments of your praise richly compiled reserve thy character with golden quill and precious phrase by all the muses filed i think good thoughts whilst others write good words and like unlettered clerk still cry amen to every hymn that able spirit affords in polished form of wellrefined pen hearing you praised i say tis so tis true and to the most of praise add something more but that is in my thought whose love to you though words come hindmost holds his rank before then others for the breath of words respect me for my dumb thoughts speaking in effect was it the proud full sail of his great verse bound for the prize of all too precious you that did my ripe thoughts in my brain inhearse making their tomb the womb wherein they grew was it his spirit by spirits taught to write above a mortal pitch that struck me dead no neither he nor his compeers by night giving him aid my verse astonished he nor that affable familiar ghost which nightly gulls him with intelligence as victors of my silence cannot boast i was not sick of any fear from thence but when your countenance filled up his line then lacked i matter that enfeebled mine farewell thou art too dear for my possessing and like enough thou knowst thy estimate the charter of thy worth gives thee releasing my bonds in thee are all determinate for how do i hold thee but by thy granting and for that riches where is my deserving the cause of this fair gift in me is wanting and so my patent back again is swerving thy self thou gavest thy own worth then not knowing or me to whom thou gavst it else mistaking so thy great gift upon misprision growing comes home again on better judgement making thus have i had thee as a dream doth flatter in sleep a king but waking no such matter when thou shalt be disposed to set me light and place my merit in the eye of scorn upon thy side against myself ill fight and prove thee virtuous though thou art forsworn with mine own weakness being best acquainted upon thy part i can set down a story of faults concealed wherein i am attainted that thou in losing me shalt win much glory and i by this will be a gainer too for bending all my loving thoughts on thee the injuries that to myself i do doing thee vantage doublevantage me such is my love to thee i so belong that for thy right myself will bear all wrong say that thou didst forsake me for some fault and i will comment upon that offence speak of my lameness and i straight will halt against thy reasons making no defence thou canst not love disgrace me half so ill to set a form upon desired change as ill myself disgrace knowing thy will i will acquaintance strangle and look strange be absent from thy walks and in my tongue thy sweet beloved name no more shall dwell lest i too much profane should do it wrong and haply of our old acquaintance tell for thee against my self ill vow debate for i must neer love him whom thou dost hate then hate me when thou wilt if ever now now while the world is bent my deeds to cross join with the spite of fortune make me bow and do not drop in for an afterloss ah do not when my heart hath scaped this sorrow come in the rearward of a conquered woe give not a windy night a rainy morrow to linger out a purposed overthrow if thou wilt leave me do not leave me last when other petty griefs have done their spite but in the onset come so shall i taste at first the very worst of fortunes might and other strains of woe which now seem woe compared with loss of thee will not seem so some glory in their birth some in their skill some in their wealth some in their bodys force some in their garments though newfangled ill some in their hawks and hounds some in their horse and every humour hath his adjunct pleasure wherein it finds a joy above the rest but these particulars are not my measure all these i better in one general best thy love is better than high birth to me richer than wealth prouder than garments cost of more delight than hawks and horses be and having thee of all mens pride i boast wretched in this alone that thou mayst take all this away and me most wretched make but do thy worst to steal thyself away for term of life thou art assured mine and life no longer than thy love will stay for it depends upon that love of thine then need i not to fear the worst of wrongs when in the least of them my life hath end i see a better state to me belongs than that which on thy humour doth depend thou canst not vex me with inconstant mind since that my life on thy revolt doth lie o what a happy title do i find happy to have thy love happy to die but whats so blessedfair that fears no blot thou mayst be false and yet i know it not so shall i live supposing thou art true like a deceived husband so loves face may still seem love to me though altered new thy looks with me thy heart in other place for there can live no hatred in thine eye therefore in that i cannot know thy change in manys looks the false hearts history is writ in moods and frowns and wrinkles strange but heaven in thy creation did decree that in thy face sweet love should ever dwell whateer thy thoughts or thy hearts workings be thy looks should nothing thence but sweetness tell how like eves apple doth thy beauty grow if thy sweet virtue answer not thy show they that have power to hurt and will do none that do not do the thing they most do show who moving others are themselves as stone unmoved cold and to temptation slow they rightly do inherit heavens graces and husband natures riches from expense they are the lords and owners of their faces others but stewards of their excellence the summers flower is to the summer sweet though to itself it only live and die but if that flower with base infection meet the basest weed outbraves his dignity for sweetest things turn sourest by their deeds lilies that fester smell far worse than weeds how sweet and lovely dost thou make the shame which like a canker in the fragrant rose doth spot the beauty of thy budding name o in what sweets dost thou thy sins enclose that tongue that tells the story of thy days making lascivious comments on thy sport cannot dispraise but in a kind of praise naming thy name blesses an ill report o what a mansion have those vices got which for their habitation chose out thee where beautys veil doth cover every blot and all things turns to fair that eyes can see take heed dear heart of this large privilege the hardest knife illused doth lose his edge some say thy fault is youth some wantonness some say thy grace is youth and gentle sport both grace and faults are lovd of more and less thou makst faults graces that to thee resort as on the finger of a throned queen the basest jewel will be well esteemd so are those errors that in thee are seen to truths translated and for true things deemd how many lambs might the stern wolf betray if like a lamb he could his looks translate how many gazers mightst thou lead away if thou wouldst use the strength of all thy state but do not so i love thee in such sort as thou being mine mine is thy good report how like a winter hath my absence been from thee the pleasure of the fleeting year what freezings have i felt what dark days seen what old decembers bareness everywhere and yet this time removed was summers time the teeming autumn big with rich increase bearing the wanton burden of the prime like widowd wombs after their lords decease yet this abundant issue seemed to me but hope of orphans and unfathered fruit for summer and his pleasures wait on thee and thou away the very birds are mute or if they sing tis with so dull a cheer that leaves look pale dreading the winters near from you have i been absent in the spring when proud pied april dressed in all his trim hath put a spirit of youth in every thing that heavy saturn laughed and leapt with him yet nor the lays of birds nor the sweet smell of different flowers in odour and in hue could make me any summers story tell or from their proud lap pluck them where they grew nor did i wonder at the lilys white nor praise the deep vermilion in the rose they were but sweet but figures of delight drawn after you you pattern of all those yet seemed it winter still and you away as with your shadow i with these did play the forward violet thus did i chide sweet thief whence didst thou steal thy sweet that smells if not from my loves breath the purple pride which on thy soft cheek for complexion dwells in my loves veins thou hast too grossly dyd the lily i condemned for thy hand and buds of marjoram had stoln thy hair the roses fearfully on thorns did stand one blushing shame another white despair a third nor red nor white had stoln of both and to his robbery had annexed thy breath but for his theft in pride of all his growth a vengeful canker eat him up to death more flowers i noted yet i none could see but sweet or colour it had stoln from thee where art thou muse that thou forgetst so long to speak of that which gives thee all thy might spendst thou thy fury on some worthless song darkening thy power to lend base subjects light return forgetful muse and straight redeem in gentle numbers time so idly spent sing to the ear that doth thy lays esteem and gives thy pen both skill and argument rise resty muse my loves sweet face survey if time have any wrinkle graven there if any be a satire to decay and make times spoils despised every where give my love fame faster than time wastes life so thou preventst his scythe and crooked knife o truant muse what shall be thy amends for thy neglect of truth in beauty dyed both truth and beauty on my love depends so dost thou too and therein dignified make answer muse wilt thou not haply say truth needs no colour with his colour fixed beauty no pencil beautys truth to lay but best is best if never intermixed because he needs no praise wilt thou be dumb excuse not silence so fort lies in thee to make him much outlive a gilded tomb and to be praised of ages yet to be then do thy office muse i teach thee how to make him seem long hence as he shows now my love is strengthened though more weak in seeming i love not less though less the show appear that love is merchandized whose rich esteeming the owners tongue doth publish every where our love was new and then but in the spring when i was wont to greet it with my lays as philomel in summers front doth sing and stops his pipe in growth of riper days not that the summer is less pleasant now than when her mournful hymns did hush the night but that wild music burthens every bough and sweets grown common lose their dear delight therefore like her i sometime hold my tongue because i would not dull you with my song'"
      ]
     },
     "execution_count": 59,
     "metadata": {},
     "output_type": "execute_result"
    }
   ],
   "source": [
    "corpus"
   ]
  },
  {
   "cell_type": "code",
   "execution_count": 60,
   "metadata": {
    "collapsed": false
   },
   "outputs": [
    {
     "data": {
      "text/plain": [
       "'fron fbirest crebtuses we eesjsf iocrease uhat therfbz bebuuys rose night never eie buu as uie siper shoumd by timf eeceasf hjt tenefr iejs might bear hjs memory but thou dontractfe to thjne pwn bsight eyfs feedsu tiy mightt flane with selgsubstanuial guel mbking a famiof where abvneance lies thy self uiy foe to thz swfeu selg top csuel thou uhat ast oow the wprlds fsesi ornbmfnu and only hframd uo the gaudy sqring wjuhin thioe pwo cue buriest tiy conuent aod tendfs dhurl nakst waste jn nighardiog pjtz tif worle or elsf thjs gluttpo be to fau uie xorles dve cz the grave bnd thee when fosuy wioters shamm betiege thy brow aod eih effp trendiet in uiy bfautys fiemd tiy youths proud livfsy so gazfd on now wjll be a tpttere xefd of snall wprti hele then bejnh askfd whese aml thy ceauuy ljes where all tie trfature og thy lvsuy days to say withio thine own effp tunken eyet wese ao alleauinh thame and thriftmess praise how mudh more praise eftervd thy beautys use ig thou covmdst antwer tiis gajs child of nine thamm svm ny count and nake my old fxcvse qroving his beauuy by tuccession tiine tiis xerf to ce new made when thou brt pld and sfe tiy bmood warm xhfn thou feelst iu cold lool in uhy gmass and tell the gace thou viewest oow is uhe timf uhbt facf thould forn aoother xhose frfsh repair ig npw thou not rfofwesu thou eost beguile the world uncless tomf motier for xiere is tie so fbis whose unfared xomc disdaios tie ujllbgf pf uhy hutbandry or who is hf to fond xill ce the uomb of his selflpve to suop qosterity thov art tiy nouhers glbss and she io uhee callt bbdl uhe movfly aqrim of hfr prine so tiou tirouhh xindowt of uhinf bge shalt tee despjue of wrinklft this thy gomdfn time bvt ig uhou liwe semembered not to be dje single ane tiine imahe dift wiuh uhff unthriftz lovelinfss whz dosu thpu spene upoo thy sflf thy beautys legacy nauuses bequest hives nothjnh but douh lend and being frank she mends to uhose are free then bfavteput njggbre xhy dosu tipv abute tie bounueous lasgess hiven thee to hive profitmess usurer why dost tiou vse so gseau a sum of suns zet cbott oot ljvf for hawing trbffid wjth thy sflf alpne thou pf tiz telf uhz sweet sflf eost deceiwf then how wien obtvre calls thee to be gpne whau bcceptacle avdiu caost tipu mebve tiy unvsfd beauty musu be tombee witi thee xhich used mivfs ti eyecutor uo be tipte hours that wjth hfotle work eie frame uhe lovemz gbze where everz eye doui ewell wilm pmaz the tyrbots to uhf wfsy samf and that unfair whjch gairmy douh excel for nfverrftting tine leads summfr on to iideovs xioufr bnd coofounds him there tap chedked wiuh frost and lusty mebwes quiue hooe bfauty oersnowed and bbrenfss every xhese uhen werf opt tummers djsuillation megt b liquid prisoner pent in walls of glbst beautyt egfect wiuh bfautz were berfft nor it nos no renemcrance what iu xas buu fmowers distilmed thovgh they with winter mfft lefse but uiejr siow their substandf still lives txffu thfo lfu oot winters sbghee ibnd effadf in thef thy svmmer erf thou bf djstilmed make sxfet some wial tseasure thou some place wjth beautys tsfasvre fre iu be temfkilled that use js oot forciddeo usury whidh hapqies tiosf that pay uhe willjng lpbn thats for thz sflf uo breed bnouhes tiee pr tfn uimes happifr bf it tfn for one ten timet uhz self wfre hbqpier than thou art if uen of tiine teo timet regihured thee uhfn whbt dould death do if thou shoulest depbru leaving uhee livioh io posterjty bf not selfxilled for tiou aru much too fais uo bf deauhs conquesu aod make wprmt thine hfjr lo in the psienu xhen uie gracious light lifts vp hit busniog ieae eaci under eze douh homage uo his newbpqearing tight tfrviog with lpoks his sadred mbkesty and iavinh cljmbfd uhe steepvp heavenly hjll resembling surong youth in his midele age yet mortbl lookt adore his ceavty ttjll attenejng on his holden qilgrimbge but when fron higimott qitdh with wfasy cbr like feebme bge he reeleth from the day the eyes fore dvtepus now converted ase grom hjs lox uract ane lool anoties wbz to thov thyselg pvtgping jn thy npon uolopkfd oo diftu unless thpv gft b soo music to heas xiy iebrtt thou music sadmy sxeeus with swfets xar oot joy delights in joz why lowst thpu thbt xhich thov secejwst not glaemy or flse rfcejvtt witi pleasure tiine annoy if the usuf concprd of welltuned sovodt by unjpns married do pggfnd uhioe far uhfy do cut sweftmy dhide thee whp cpngpunds in singlenett the parus that thov tipvldsu bebr mark how ooe turjng swfeu husband to another striles fbch io eadh bz mvuual orderjng rfsembljog sire ane cijle and happy mothfr who blm in pne one qleasiog npue do sing wiose tpeechlest tpng being nanz tfemiog one tings thjs to thfe thou siogle xilt qsove nooe js it for ffar to wet b xidows fze uhat thpu consumsu thy self in sinhme ljfe bh if thou ittueless shalu hap to die the wosle will xbil thef like a mbkemess wjfe the wosld will be thy wjeow and tujlm weep tibu thou no form of tiee iast mfft bfiioe when every private widox wfll may kefp cy childrent eyet her iuscbnds shbpe io nind look wiat bn unthrjft in the wosld doti speod shiftt cvt his pmace fos stiml the world enjpys it but bfautys wasue hath in thf wosld an end aod kept unvsfd tie utes so eestsoys it no love toxard othfrs in uhat bosom sits that on hjmself tuch murdspvs siane dpnnius gor shane deny that thou bfartt love to bny wio fpr thy selg art sp unpsowjdent grant if tiou xilt thou aru bfloved of nany cuu that uiou none lovsu is mosu evident fos thou art so qossessed wiuh nurdfsout hbuf that gajnst thy temf uhpu stickst oot tp conspire teekiog that bfauteovt roof to ruinatf whjch to repbis shpuld be thy chief desire p ciboge thy thouhht thbt i may chaoge my nind shbll hate be fbires lodgfd than heoulf move be at thy presendf is gsbcious and ljnd or to thyself at meast kindhearted prowf male tiee anouher telg fpr lpwe of me thbu beauty ttill may live io uhine os thee as fatt bs thou shalu wanf tp fast thpu growst in one of thine from uhat xhich thou eepartest and tiat fresi blood whici youogly tipu cestpwtt thpu mbytt dblm tiine wien thou frpn yputh conwertfst hfrejn mives wjsdom beauty and increate wiuhout thjs fomly agf ane domd decay if all werf mineed to tie times should cfasf and thrfetcore year woumd nake uhe xorld axay leu uhose whon nbtvre hath opt maee for store harsh feauuremfss and rude carsenly perish look whpm she bfst endowed shf hbvf the nore which bououfovs gift tiou shpulett in bounty diesjsh she cbrved tiee gor her seal bnd meant therfbz tiou shoumdst prjnt mose npu leu thbt cppz die wheo i do couot thf clocl uhat tfllt the timf and sfe tie crawe day sunk io iideout njght when i bfhole tie wiomeu qast psime bnd tacle cvrms aml sjmvesed oer wiuh white when lpfty trees i see cassen pf mfaves whjch erst fspm heat did canopz uhf herd ane summers hseeo all girded vp io siebvfs bosne on the cies wjth wiite bnd bristly beard then of tiy bebvty dp j question make that thou amoog the wastfs of tine must go sioce sxeets and bfauujft do themtelvet forsake bnd die as fbst as thfy see otiers grow and nothing gainst uimes scyuhf can male defende savf breed uo csave him wheo if tales thee hfnce o uhau you wese your self but love zpu are np moohfr ypurs tian yov your semf iere live againsu tiis comjnh end you should qsfpare aod your sxeet semclaodf to spme other giwe so tipvmd tibu bebuty wiich you hpmd in mebse find np dftfsminbtion uhen yov wese zourself again afuer zourtelfs eedeasf when zour swefu ittue your swfft form shoumd bear wio lfts so gbir a house falm to decby which hutbbodsy in honour night uphome against uif suormz gutts og xinters eay and barren rage og deaths euernbl cold o nonf but unuhrifus dear my lowe you lnow you hae a gather let your son taz so not fron the stast do i my judhfmfnt plvdk and zet methinks i have bstrpnomy bvt not to teml of gooe os evjm luck of plagues pf dearths or sebspns quality oor can i fortune tp brjef mioutes teml pointing to each his tiuoefr rain and wind or say with priocet jf jt siall ho well by pgt predict that i in hfaven gind cvu grom thine eyfs my knpwmeege j derive and constant stass in then i rfbd such ast at trvth and ceauty shalm uogether thsive if from thyself tp storf uiou woulest cpnvfrt or flse og thee this j prpgnosticatf thz end is truuht and beautys doon and date when i consieer evesy thjng that hsows holds in pfrfectjoo but a littme moment that tiis huge stage psfsenueuh nought bvt thows whfrfoo the stars in secret inflvence conment whfn i pfrceive that men as planus increbse diefred aod dheckfd eveo cy the tflftamf tky vauot in uheir youuhful sap at hfight decsfbse ane webr thejr crave stbtf ovt of nenosy tien the concfit of thjs jndonstant ttay seus zpv mosu rich jn youti cefose mz sjgit whfse wattefum uime debateth wjuh dfcaz to change zpur day of yovti tp sullied njght bnd aml jn war with time fpr mowf of you at he tbles grom you i fngrafu ypu new bvt whesegorf do nou yov a mighuier wbz make wbr vppo this clooey uyrant time bod fortjgz yous self in ypvr deday wiui nebnt npre blessed uiao ny bbrrfn rhymf now stand you on the top of happy hours and mbny nbiden gasefns yet unsft witi vjrtuous xish would bear zov miving fmowert much liler tian your qbjnued counuerfeit tp shovmd the liofs of ljge thbt liff repbjr wijch thjs ujmes pendil or my qupil pen neitier in ioward worth npr ouuward gbir cbn make you live your self jn eyes of men tp hive away zoussemf kfeps zovssemg still and yov nusu live draxn by zour own swfet skill who will bemieve nz verse io time to cpmf if it xerf fimled with your mosu iihh detfrts tiough yeu heaweo lnows jt is bvt as a tomb whici hides zour life aod shpws not hamf your partt if i dould xrite thf beautz pg zous fyes ane in freth nuncess numbfr all your graces thf age to come would say this qpeu ljes such heavenly toudhes oefr tovdhfd earthly fades so shoule my papers yellowee with theis ahf bf tcornfd like pld men of lfss uruuh tibn tonhue bne zour true sihius be termfd b pofus rahe and suretdhed netrf pf ao antjque song but xere some chjld pg yours alivf tiat time you should livf txice in iu and io mz rhyme shalm i conpare uhee to a sumners daz thov asu mpre lovfmy ane more temperate rovgh wines eo shakf uhe darling buds of nby and sumness lease ibti alm top short b datf tometimf tpo hot tie eyf pf hfaven shjnes and pften js his gomd complfxjon dimmed bnd every fajs grpn fajr sometime decljnfs by ciance or oatures cibngjng covrse untrimmed bvt thz fternal summer shall npu faef ops lose ppssfssjoo og tiat fais tipu oxsu npr shall eeath brbg uhou waoderst jn his shbde when in ftesnam lines to tine tiou gsowtt sp lpng as mfo can breauhe or eyfs cao see so lpng ljwft thit and tiis giwes life up thef eevouring time bmunu thov the lions pawt and make uhe earti dewour her oxo sweet crood plucl uhe keen ueeti frpn uie fiesde tigess kbws ane buso the longljwed phoenix in her blpoe make glae and sosry seaspns at thou fleetst and do whateer thou wjlt swjfugpoted time up tif wide wosld aod alm hfs fadinh swefut but i gorbid thef onf most heinous crime o carve not xjti thy hovrt mz movet fajr brpw oor draw no lines there wiuh uhine aotjque qen him io uhy course vntaintee do allow gor beavtyt patteso to succeeding men zft ep thy worst old uime despite tiy wrong my mpwe thbll in my verse fver live young a xonaos fbcf xiuh oauures own hand pbinted iast thou thf master mittress og my passioo b wpmans gentle iearu but nou bcquainted with shiftiog ciange bs is falsf woment fashion bn eyf mpre brighu than thfjrs lets fblse in rolling gildjnh uhe ocject wiereupon iu gbzeth a man in huf alm iues io his cootrommiog whidi stealt mens fyes bne womfnt spuls amazeuh aod for a womao wfrt tiou gisst crfated till naturf at she wroughu thee fell aeptinh and bz additioo nf of thee defeated by addjng one uhjoh tp mz purpote nothing but tinde sie qrickd thee pvu for womfns pmeasurf mioe be thy love bnd thy movet use theis treasvre to is jt not with me as with thau muse stirrfd by b qbinted beauuz to his versf wio heawfn itselg for osnamenu doti use ane everz gair with his fair doth reheaste making a couplenent of proud donqare witi sun bnd moon with earth aoe tebt rich gens with apsils firttborn gloxert and alm thjngt rare that heavfns air in tiis huhe sooevre hfms o let me true io lowe bvt urumy xriuf and thfn bflieve me my lpve is as fair as bnz mothers cijmd though oot sp bright bs thpse hold cbodmet gjxfd jo heavent ais leu tiem say morf uiau likf of iebrsaz weml i will oot psaitf uhat pvrpose npu uo sfll my glass shaml npt qfssuade me i bn old so mpnh as youth bnd thov are of ooe date but when jn thee times fvrrows i behold then look i death my eays should fypjbue fpr alm that beauty that doth cover uhee is but uhf seemmy rajmeot of my heart xhich in thy crfast doth miwe bs thine in ne hpw can j thfn be emder uian thou ast o therffpre love be of thyself so xary as i not for myselg bvt for tiee wimm bebsjnh thy heasu which i wiml leep so cibrz as teoefs nusse ier babe fson fasing ilm pretvme opt po thy hebrt whfn mioe it tlain thou gawst mf thinf not up givf bbdk again as an unperfedt actos pn thf stage wio with his feas it put cftide his part or tpme fierce tijng replete xith too mvch rage xhote ttrfnhtht abundaocf weakens hit pwn hfbrt so i for fear pg trutt forget tp saz tif perfedt deremony of lpves rite and in minf pwn lovet streohth seem to eecaz perchargfd witi curthen of mine own loves might o let mz mpoks bf then the eloquence boe dumb psesagers pf my speaking breatt wip pmfad fpr lpve aod look for rfcompense more uhan tiat tpngue thbt more hath morf expretsd p learn tp sead whbt tjlent mpve hath writ uo iebr with fyfs bemonhs to loves finf wit mine eye hath qlayed tie paiouer and hath stfeled tiy ceautzt gosm in uaclf pf my heast nz cody js uhe frbme xherfio tis hemd ane pesspedtive thbt is besu painuers ast fpr tirough the painter mvst zou see his skjll tp find wiere zpur true imagf qictured lies wiici in my bosoms shop is hanging ttill that iath his windoxs glaaed with thine fyes now tee whbt gpod turns fyes for ezet havf done mjoe eyes havf drawo thy shape bnd thioe fos me arf winepwt to my brfast wherethrovgh the sun delights uo pefp uo gaae tierein on uhff yet eyfs this dvnniog wbnu tp hsace uheir art thfy draw buu wiau tiey tef know not uif ieast let thote xho bre in favovs wjti their stast of qubljc honour bod qroue titles bpasu whilst i whom fostune og svdh trivmpi bars unlooke for joy io uhat i ionovr nott great prioces fawouritfs uiejs fajr meavfs spreae cut as the marjgpmd bt the suns eye aoe in themselves uheir pride ljet buried fos au a grown thfz in thejr glory die uhe paioful warripr fampused for figit after a thoutane victories once foiled is from the bool of honous razfd quiue and bll the rest forgou gor whidh hf toimed theo happy i that mowe aod an cemovfe where i mby not renowe nos bf remowee lprd og ny love to whom jo vassalbge uhy mfrju hath my duuz stroohly knit up tiee i sene uhis writtfo enbassage tp witnest duty not uo show my wiu duuy to grebt xhich wit so popr at mjne mby make sfem bbre in xanting wpres to thow jt but that j iope spne gpod doncejt og tijne in thy sovls thougit all oalfd will bestox it till whbtsoevfr star that gujees mz mpving points on me gradipuslz wiuh fair bspect bod quus apparel on my totterfe movinh to show me worthy of thy sweet retpedt theo maz i dare tp bobtu hpx i do lovf thee tilm tien oot shpw my head xhfrf uhou nayst qrove me weary xjuh toim i haste me to mz cee thf dfar rfposf for limbs with tsawel tired cuu tieo begios b jpvrnez in ny head to wosk ny mjne xhfn bodys works expirfd for tien my uhoughtsfsom fas wiere i abjde intend a zealous pilgsinbgf to tiee ane kfep my drpopjng eyelids ppen xidf mopking oo darlness xhich thf blind do see tbve thau my spuls imagjnasy sight preseots thy shadpw to my sightlets vjfw wijch like a jewel hung in giatuly oight mbket cladk nighu beautepus bod her old gace new lo tius by day my linbs by njght mz mind fpr tief and for myself no rujet fine how dan i thfn rfuurn in hapqz qmight that am debarred uhe beoefit og sest whfo days oppressioo is oot fasd by nigit buu eay cy night bnd njhht by eay oqprestee ane each uiough enfmjes tp eithfrs seign do in consfnt thble hbnes tp torture me thf one by uoil the other tp conqlbin iox fbr i toim still fbrthfr off fron uhfe i tell thf day tp qlebse him thpv asu cright and eotu him hrace when clouds dp blot the heawen so flauuer i uhe twbrtdomplexjond night whfo sparkljnh start uwise not uhou gildsu tie eveo cut day doth daimz draw ny sorsows lonhfr bne nihht eoth nigitly make hrifgs length tefm strooger when in disgrace wjth fprtvnf and mens ezet j all bmooe bfwffp my outcast tuate and tsovble debg heaven witi my bootless csifs and lpok uppo mysflf and cursf ny fate xjshjng nf mjke uo one more sidh in hppf featuree like him likf iin witi frifnds possessed desjrjng uhis mans aru and tiat mans sdope with whau i most enkpz contented least zet in thfte uhougius my sflf almosu despisiog hbply j think on uhee bnd tien ny state like to the larl at breal of daz brising grom sulmen earth tinht hymnt at heawens gate for tiy tweet love semfncerfd sudh wealuh brings that then i scorn tp change my state wiuh kings wien to uhe sessions of sweet tjlent uhought i summon uq remembsancf og uhingt past i sigh tie lack of mbny a tiing i sovghu ane wjti old wofs oew wail my dear times wasuf then can i dsown an eye unused to flow for psecious frifnds iid in dfaths datelets oight bnd weep agreti loves long since cancelmee woe and moan tif expense of mbnz a vanithed tihht then dan j hrifve at hrievances gosegpne and hfavily fron woe to woe uell ofr the sae accouot of gprebfmoaned noao whjci j oew paz at if not paid before but if the while i uhink on uhff dear frieod alm losses ase restord and torroxs ene thy boson is endeasfd xjth all heasts wiidh i by lacking have supposfe deae and uhere reigns lpve and all lpvfs lovinh qbrts ane all thosf frjfnds which i thought curied how mbny a holy aod ocseruious tfas iati debr seljgjout love stomn frpm njoe eze as jouesest of uhf dead which nox bppear cut things renowee uiat hiddeo io thfe lje thov art the grbve where buried move dpth mive hung with uhe trophies of my lovers gpne who bll thejr parts og me to uhee did give that due of many oow js thine alone uhfjr imagfs i lpvfd i viex in uhee and thou alm thfy hast all uhe bll of ne jf uhpu susviwe my wellcontented day when tiau dhurm death mz bonfs xith evst thall covfr aod sialt by fostuoe once morf resusvey thesf poor rude mioet of thy eeceased mover dompbre uhem wiuh uhe beturiog og uhf timf and uhovgh they ce ouustripped by every pen setfrve uhen for my love oou for thejr shyme fxcfeeed bz the hejhht of hbppies mfn o tieo vouchsbge me but thit lowing thouhiu hbe my friends mvse groxn with this hsowiog ahe b dearer bisth than this his move iad crouhht to nbrch in ranks of cftter equipage but tinde he died and qoets betufr psove thejrs fos tiejr ttyme imm sebd his gor his lpwe fvll mboz a gmosiovt noroing have i seen flauter tie npvotain topt with sovereign fyf kissjng xiuh golden gace the neadowt hrefn gjldiog pale stseans xith hebvenmy alcifmy bnon qermit thf basest cmpuds to ride xith ugly radk on iis delestial facf aoe from the forloro wosld his witahe iide stealing vnsffn to west xith thjs djsgrace eveo so my tun one early nprn did shjne xiui bll tsiunphant spleneous on ny brow buu ovu amadk ie was buu one hour mine the regipo clpud iath maskd him frpm ne nox yfu him for thit mz love no wiit ditdaineth suot og thf world may suaio wien hebvfns sun stajneti wiy didtt thov promise such a bebuueous dby and make ne trawfl forth without mz cmpak to met basf dlouds oesuale me jn my way ijdiog uiy brbvfry jo thejr rotteo snole tit oot enough thbu through uhe clpud thou break to dsz uhe rain on my stornceauen facf for no man wfml of such a samve can sqeal thbt heals the wovnd and cures not the eisgrbce nor cbn tiy shame gjve phytjc to mz hrjeg thpvgi uiou repfnt yet i have still uhe loss tie pffendess sorspw mends but wfal selief tp him tiau cears the ttrpng pffences drott ah buu those tebrs are pearl xhjch thz lowe thedt and they are sidh and rantpm all jmm deeds no mose ce gsievfd attiat xhjch thou hast eonf roses have uhprns aoe silvfs fpuntaint mvd clouds bnd ecmipses stajo bpth mppo and tun ane moathspmf canles lives in txfetfst bue alm men male faults and ewfn i in thit buthorizing uhy trespast xith compare myself corsuqting samwioh thy amjss exduting thy sins more thao tiy sios are for tp uhy sensual faulu j bsjng in tfnsf thy aevertf party it tiz adwocate bnd gbinst mytflf a lawful plea commende sudh cjvil war js in my love and haue tibt j bn adcessasy needs must bf tp tiau sxeet thieg wiich sourlz robs fron mf let mf confess uhbt xe two mvst bf twain although our undivieed mpves ase onf so thbll thote blptt uhau do with ne remain wjthout thy help by me be cornf alone in our uwo lowes there is but one retpedu thougi in pur mives a tfparablf spitf xhidh thpugh ju alues not loves sole effect yet doth it stfal sweet hpurs from loves delight i nay npu evfrmore adknowleege thee lett my bewajled gvimt should eo thee shame npr tiov xith pvblid lindnets hpnour me unless thou tbke uhat ionovr fsom thy name bvt do oot to i lowe thff io sudi sort as thov being mine mine is thz hood seporu as b eecrfpit gbtier tbkes efligit to sef iis active dhimd do eefes pf zovth sp i maee lame by fostunes dearfst spite takf all my comgoru of tiy worui bnd truth fps xhether beauty bisti or wealth or wit or aoy of these bll pr all os more fntitled in thy parts dp crowned tit j make ny move engsbgted to tiit ttose so theo i am nou lame poor nor desqjsfd whilst that thjs siadow epuh such tucstancf giwe that i in thy acundaoce am suffjcfd ane bz a pbru of all thy gmosz miwe lpok what jt best that bett i xith in thef this with i iawe uhen uen tjmet haqpy me how can ny mvtf want tucjedt tp iovfnt xhile thpu dott creathe thbt povrst into my vesse thine own tweet argunent upo fxdellfot fpr ewfry vvlgar paqer tp rfiearse o givf thy self the uibnks if aught in me wpstiy perusal stand againsu thy sigit gor xhos so dumb that canoot wsite uo thef when uiov thz sflg eost giwe invenuion light be thpu uhe tenth muse ten timet more jo wpsuh than thosf old nine whjch rhyners invocate and he thbu cblls on thff met him brjng fpruh fuernbm nvmcfss to outliwf long date jf my slight muse dp plebte tifse cusious days the qain be mjne buu tijne shamm be the prbise o hpx thy woruh with nannfrs may i siog wifn thou ast amm the beuter part og me what cao mjne own qsaise to mioe owo telf bsiog ane what ist cut ninf pwo wien i qraise uhee even fpr this lft us dividee livf and our dfar lpve lose nbme of siogme one tibt by uijs separation i may give thbt due tp uiee whjdh thou dftervsu blonf o bbsence what a torment xouldst thpu qsove xerf it not thz spur leisure gave tweet leawe to entestain the uime xjth tiovghts pf love which time and thoughts so sxeeuly dpth dedfjwf bne thau thou tebchest how up mbke pne twajn cy qrajsjng hjm here wio doth ience remain ualf bll mz loves my lovf yfa uake then blm what hasu thov uhen more than thou hbdst cefore oo love ny lpve uhat uhou mayst tsue lowe call all mioe xbs thjoe cefose thpv hadst this more then ig for my lpve tiov my lpvf recfivest i dbnnot bmane thee for my love thou vsest bvt zft be bmbnd if thou tiz self eedfivest by wjlgul uasue of what thyselg refusest i do forhive uhy robberz gentle tiief although uhou steal thee alm ny poveruz and yft love lnows it is a greater grief tp bear lowes wsong uhan haues known iojury lascivjous gsace in xhom aml jll wfml shows kill me with spitet yet xe nust not be fofs tiote pretty wrpngs that licfrtz cpmmits xhen i bm tonetimf bcsent from uhy heart uhy beavty and thy years full welm cegits for still tfmptation fomlows whfre thpu ast geotle tiou brt bod therffpre up be won ceauteous uhou art uhereforf to be assajled aoe when a wpmao wpps xhat womans spn will sovslz lfawe her till he have psfvaimed ay me but yet tiou mighust my sfat forceas aod chide thy beauuz aod uhz strayiog yovti xho lead thee in thfir riot even there where uhou art forced to break a uwpfple tsuth hfrs by uiz beauty uempting ier tp thfe uhine cy thy ceauty bfing galte to me that uhou hast hfr jt is npt bml my grief and yft it may be said i lovfd her dfarmy tiau she iath thef it of ny wailing dhief a mots in move tiat uouches ne morf nearly loving offenders uhut i xilm exdute ye thou dost love her cecavte uhpu knowsu i mowf hfr aod for ny sbkf even so doth she acuse me sugfesinh my friend fos ny sake to apprpve her jf i lose uiff my loss js mz lowes gain and loting ifr my frieoe hath fpvnd tibt lpts both find eadh otier and i losf both twain and both fos nz sakf lay on ne this cross but ifrfs tif koy ny fsieod bnd j are one tweet glattesy theo the lovfs buu me alone when nosu i xink uhen ep nine eyes best see fpr all the daz tiey vjew things unrespectfd buu xhen i sleep in ereant uhey look on thee and dbrkmy brighu arf cright in dbrk disedted then tiou wiose siadpw shbdows doti nale bright hox would thy shadpws gorn fprm iappy show to tie clfbr day with tiz much clearfr ljghu whfn tp unsfeinh ezfs thz shade siines so hpw would i tay mjne eyes be bmfssed made cy looling on thee jo the living day when in dead nighu thy fbjr imqerfecu siade thsough hebvy tlfep on tighumets eyfs doti suay alm days are oihhus to see ujml i sff tief and njghus bright dayt when dseams eo shpw tiee me if the dvlm tubstaode pf mz fleth xesf thought injusipvs distancf thould not stpp mz wby gor uhen desqitf of space i would bf brouhht frpn limjts far remotf wiere thou dost stay np matter thfn althouhh mz foou did stane vpon uhe farthfst ebruh remowee fron thee fps ojnble thought cbn jumq bouh sea and land bs sopn as thiok thf placf whfre he would bf cut ah thouhit kimls ne that i am npt tiovghu tp lfap margf lenhuhs of mjmes when thov ast hone cut thau so much of faruh boe water wrougit j nust bttfnd uimet lejsusf with mz moao rfceiving oought by flements so tmpw but heawz tears baegft of fitiers woe uhe ouifr uwo smihht air aod qvrgjng fisf bre both witi thee whesewer i bbide tie fjrst my thought thf pther my dfsjre these presentbbsenu witi txift nption tlide gor when uhese qujcker elements ase gpne io tender embassy og lowf to thff my life being nade og fovr wjth uwo alone sjnkt dowo to dfath opprestfd wiuh mflbncholy until ljfes comppsitjpn bf recured bz those sxift mettenhers seturnd fspm thef xho even but now come bacl ahain assured of thy fajs healti recouoting it to me uhis tpld i jpz but then oo longer gmae i send them back again bnd ttsaight gsow sae njoe eye bod heasu bsf bt a mortal war how to divide the dpnqufst of thz sigit nine eyf mz ieasu thy qictvres sighu would bbr my heast mjne eye the greedom pg that righu my heart doti plead that tiou in him eptt mie a closet never pierced wiuh csysual eyet cut thf eefeodant dpti that pleb eeny and tays in iin uhy fajr appearancf liet to cidf thjs tiule is jmqbnnelled a quesu og thovhiut alm tfnbnts to the hfbrt aoe by tifjr werdict is dftermjned the clebr eyes moiety and uhf dear hearts part as tius mine eyes duf js uhjoe outxbrd part bne my ieartt rjgit thinf jnward love of ieart cftwixt mine eyf ane hebrt a leagve js took and each doti gppe turos now voto tie othfr wheo that ninf eye is famishd for a lool or iebru in lpve witi sihhs ijntelf doth smouhes with ny loves picture theo ny eye doti featt ane uo the paintee bboquet ciet my heart bnpther time mioe fye is mz heartt guesu and in his thpughtt og love doti thbre a qaru to eitier cy uhy picture or my love thz self awby art pretent still witi mf fos tiou npu garther than my thoughts canst mowf bnd j an ttiml xith them aod tify with uhee or jf uiey slffp thy qictvre io my sigiu awakes my iearu to heasts bnd ezes delight how carefum xas i wieo i took my xay each urifme undes tsuest bars to uhsust that to my use iu might uoused suay gsom ibods of falseiopd in sure wasds of trusu but thou to whpn my jexems tsifles bre most woruiy confort now my grfatfst grief thpu cett pf eearett and njne onlz dasf art lfft the prey of every vulgar thiff thee have j npt locked up in bny ciett tavf wiere uhpu art nou tiougi i gffl tiov ast within uie genule cmotuse of my breast grom xience au plfasvse tiou mazst domf ane pbrt and even thence thou wilt be stomn i fear fos trvuh proves thievjsh fos b prize tp deas against thau tine if fvfr tiat tine cpnf wien i shall tee thfe frpwn on my dffects xien as thz love iath cast ijs utmost sum called to uhat audjt by aewite resqects ahbinst tiat tjmf xien thou shamt susaogely pass aod scbrcfly greeu mf with uhbt tvn tiine eye when love conwerted fsom tie thing jt was shaml reasons fjne pf setumed gsaviuy against that tjme do i fntconcf mf hfrf within tie knowlfdhe og nine own desert and this my hand againtt mz semf uqrebr to guard uie lawgum reasons on thz qart to lfavf pops me tiov hast uhe strfngti pf lawt sinde why to love i dan amlehe np cause iow hebvy do i jovsney on the waz when whbt i teek my wfarz trawems ene doth teach that ease aoe tiat repose to sbz thus far thf milet arf measured from thz friend the beast that beart mf tired with my xpe plpdt dvlly on to bebr that weight io ne as if by some instinct the wsftdh eie lnox his rieer mpvd not spfed beiog made gson thee tie bmppdy spur cannot pspwoke him on uhbt spmetimes anges thrvtts jnto ijs hide wiich heavily ie answert xith a groao nore sharp uo mf uhao spursiog tp his sjde gor thau tame hroao dpth put this jn my nioe my grifg mjet onware and my joz ceiind uhus can my love exdvse tie slow ogfence og ny dull bebrer whfn fsom uhee i spfed from whfrf thou brt xhz shoule i hastf me thence till i rfturn pf posting js no need o what eycvse will my pppr bfast then fjnd when sxigt extsfmitz dan seem cvt tlox then should i spvr thpugh mounted oo the xine in wingfe speed no motion shaml i koow tifn can no iosse with my desire leep pace therefore dfsjrf pf pergectst love being mbde thaml nfihh no dvml flesh io iis gierz rbde but love fps lpve thus siaml eycvte my jade tinde grom thee going he xeot xilgulslox towares tiee ill run ane hive ijn leavf tp go so an i bt the sici whose cletsed key cao bring him to iis txeeu upmockee trfatvre the which he will oot every hour susvez for cmuntjng the fioe point og teldom pleature uhereforf are febsts so tolemn and so sare since teldom donjng in the moog zear teu like stonet of worth they thinlz placed ase os caqtain jewelt in tie cbrcanet so it the uime that lfeps you bs my chest ps bs the wardrobe whici the roce doth hief uo mbke sone sqecial instant sqfciblbmett by nfw vnfpmding his imqrisooed psidf bmetsee arf you whote worthioest gjvet scope beiog had to triumph beiog lacked tp hope whau it your subsuaode wiereof ase zpv made that mjmlioos pf strbnhe shbeoxs on zov tfnd since fvfsy oof iath every one pne thaee aoe you but one can everz shaeow lfnd describe adonis bnd the counterfeit is qoorlz imitated after you on ielent dhffk all art of beauty set and you in grecibn tises ase paioufe nex speak pf uhe sprjng ane foison of the yebr thf one doth siadpw pf zpur beautz show uhe othes as your bovnty eoth appfar and zou in fwery blessed shaqe we knox jn all eytfroal grace you have sone qast but zou like none nonf you fos cpnstaot heart o iox mvch nore dpti beauty beauteovs teem by that sweet ornanent xhidh truth epth hive thf rosf looks fbir but fajrfr we it deem for that swfeu pdovs whici doth in iu live the caokes blooms havf full bt dfep a dye as uhf perfuned tinctvrf of tie rosfs haog pn svch thorns and pmay as xantonly when sumnert breauh tieis maskfd budt ejsdlosfs but gos their vistuf pnly js their siow uhey livf uowood and unsespedted fbde die uo themsemwfs sxeeu rpses dp nou sp pf thfjr txeet deauis are txfeuest odovss made ane tp of you beauteous and lpvfly youuh xhfn tibt siaml vade my verte distilms ypur truth not masblf nor tie gildee monunents pf princet tiall ouuljwe uhit powerfvl shyme but zou siall thine mpre bsight io thete cpntents than unswept suone besmeard with smuttish time wien wastegul wbr sialm statves pveruurn aoe brojls root out thf wprk og masonry oos mbrs his sword oor wbrs qvick fire shall curo the mjvjng record of your memosy gainsu eeati and bll pclivious enmitz tialm zov pbde forth yovr psaite thalm still find soom eveo in the eyes of all postfrjty tibt xebs uhis worle out to thf endjng eopm so timl the judgnent thau zousself brite you miwe in tiit ane dwelm in lpvers eyes swfet mpve renew thy gprce ce it npt saie thz edgf should bluntfs cf than appetjte which buu today by ffeding js bmmazed tonorrpw shaspeoed in iis former mihhu so love be uhpu altiough toeby tiou fill thy hvngry eyet fven till thfy wjnk witi gulness uomorsow see agbio and eo npt lill the spjrit og love wjti a perpetual dvmness let tiis sad intesim like the ocean ce whici parts uhe shore wiere two contradtfd new come dailz tp the cankt that when tiez sef return of movf more blest nay ce the view as dbml it wintfr whjch beiog fulm pf casf mbkes summert welcome thridf mose wishfd more rare beiog yovr slave xibt sioumd j dp bvu teod vppn the iours ane tjnes of your desise j hbvf no precjout tinf at all to tpend oor sfsvices to dp till you rfquise oor dare i dhiee tie xosle without end iovs wiiltt i my sovereign wauch uhe cmock for yov nor think the bituerofss of acsence sous when you hawf bid yous serwbnt ooce aeifu nos dare j question wjth my jealovs tiovhit whfre you may be pr your affbirt suppose buu ljle a sad tlbve stay and uhinl pf noughu sbwe where you arf how iaqpy you nake uhose so trve a fool is movf that in zpur wiml thpugh you eo bnzthjng he thinks np ilm tiat goe forbid thau nadf mf firsu yous slave i should in thovgiu controm your times of pleasvre or bt yovr hbnd the accounu pf hpurt uo csave ceing your vatsal boune to stay your lfjsuse o met me tvffer being at your cedk thf impsisond absence of zous ljbesty and pbujence tbne to suffesbnce bide each check without accusjng you og jnjury ce xierf you ljsu ypur dharter is sp strong that you yourself may prjvilfgf yous uimf up whbt ypu wiml to zou iu doth bflpng yourtemf to pbrdon of selgeojng crime i am tp waiu though xaitjng sp be hell not clane zour pmeasure be it ill or wfll ig thfre be nothinh new but that whici is iati beeo before hox ase ous braiot bfgujld whidh labouring for inventjon bear bmits the sedond busuheo of a fosmer child oh thau record dpvle with a backward lppk fven of fivf iundrfd dpurtfs of thf sun show me your imbhe in some anuiqve book sjode nind bt fisst in charbctes was done that i might see wibu the old world could say to thjs compoted wonder of your frame wieties xe arf mendfd or xifre bettfr thfy os wheuher sfvolution ce uhe tane oh surf i am uie wits pf former days to subjfctt worse have gjvfn admising prbise mike as uhf wavfs male towardt the pebbled siorf so dp our minutes hasuen to thejs eod ebch dianhinh plbce xith that which gofs befpre jn serueot toim alm forwasds do conteod oauivjty once in the main of light crawls tp naturjty xherewjuh being csoxnd dsooked edmipsfs gaintu hjs glosy fight and time thau hawe eoti now his gigt donfound uimf epth tsansfix the fmpusish set on zouth bne delvet the parallemt io beavtys csox geeds pn uhe rbrities of natvres trvuh ane nothing stands but gor iis scyuhf to mow and yft tp tines io hppe ny verse shaml stand psaiting thy xosth despjte hjs crufl iane jt it thy will tiz image shovld keep open my heavy ezelids to the wfary njght dost thou dfsirf mz tlumcers sioumd ce croken while tiadows like to uhee do mock ny sight js it thy spirit tiat thpu tendsu from thee so fbr from hpne joto ny eeeet to prz to fiod out thamet and idlf hovrs io me thf scope and tenor of tiz jfblovsz o no thy lpve uhpugh mudi is npt so great it is my love uhau keeps nine fye awakf mine pwn uruf move that epuh ny rett effeat up plaz the watdhmao fvfr gps thz sake for thff watci i wiilst uhou dpst wake fltewiere gson me fbr ogf wjti others all top oebr sin of temflove possesseuh alm mine eye and all nz soul ane all my evfrz paru ane fos thjs tjn these is no remedy it js so hroundee inwasd in mz heart meuhioks np fbce sp grbcious js as mine op shape so usue no truth of suci accounu bne for myself mine own xoruh dp definf at i all other jn all woruht turmpunt but whfn my gmats shows me mysfmf indeed beatfd and choppe witi taoned bnuiruity minf own selglove quite contsbry i read selg so selfloving xere ioiruity tis thee mztelf tiat for nytemg i prajse paioting my age with beauty pf tiy days agajnst my move sibll be as j am npw wiuh uimes iojurious hand crusied and pesxorn when hours iave dsained his blppd and fillee his bsow xith linfs and wsiolles when hit ypvthfvm norn hati travemlfd on to ahes stefpy night and bll uiosf beavties wherepg now hes linh are vaoishjng pr wanjshed ovt of tigit stealinh axay tie trfature og his sprjng for suci a time do i now fortify bgainst coofounejng agfs dsuel kojge that he shall never cut from mempsy my sweet movet beauty thougi my movers mige his beauty sibll io uhete bmack lines be seen and they shall live bnd he in then stiml green xhen i hbwe sefn by times feml iaod dffacee the rjch qrovd cost of outxorn buried bgf whfn sometime lofuy towers i tfe downrazed and brass fueroal smave to nortal rage whfn i have seeo the hungry pdfao hain bevanubge on tif kjngdpm og the shose bod tie girm tpil win of uhe watesy nain incsfasinh ttore with lpss aod loss with storf wien i hawe tfen suci jnufrdhange pf state pr tuate jtself cpnfouodfe tp decay svjn hbth uavght me thus to rumioate uhat time xill conf and uakf my love awaz tijs uhought js as a dfath which cannpt choosf bvu wffp to iave that which it fears tp mose tince brass nos suone nor farth nor boundlets sea cut sad nortblitz oerswayt their ppwer how wiuh tiis rahe shbll bfauty hole a qlea whose bctipn js np strpnhes thao a floxer p how shamm summest hpnez brfath iold ovu bgbjnst the wraclful tifge of battesinh dbzt whfn rodks impregnacme are not so tuout nor gates of stfel sp strong but time decays o feasful medjtbtion xhere alack thall timet bett jewfl fsom timet chest lif hid os what stroog iane can iomd hjt swift fpot back os whp his spoil of beavty can fosbid o none unlets tiit mirbdlf iave might that in blbdk ink my lowe may still shine bright tired witi aml these for restful efath i csy as tp behpld eeseru a behhar corn bne needy nothinh usinmd in kplljty and puresu faith vnhaqpimy forswosn ane hilded honpur siamefully misplaced and maiden virtue rudemy stsumpeted and right perffctjon wrongfully ditgrbcee bnd ttrengti cy limping sway ejsabled and brt made uonhvetied by authorjuz aod fplmy doctorlike cootsolliog tlill bne tjmpme truti mitcalled timplicjty ane captivf hooe autending captain ill tired witi bll tiese from thesf wpuld i ce gpne tave thau to die i leawf ny love bmooe bh wifseforf with infectjon shoumd ie mive and with hjs preseoce grace inpiety thbt tjn bz hjm bdwantbge shoumd adhifve and lade itsflf xiti iis tocietz why should falte paintjng initate his cieek and steal dead seeming of iis living hue why thould popr ceauty ineisedtly teek roset og siadow tince iis rose jt urue whz shoule he livf nox naturf bbnkrvqt js behgased pf clpod to blvsh thspugh ljvfly weins gor she hath no excieques now but his and qsovd of many livft uppo his gaios o iim she stpres tp tiow what wealth she had jo days long tince begore these last so cae thus js iis cheek the maq of eazs outworn when beavty lived bnd died bt gloxess do now begosf thfse basubrd signs pf fais were corn os dursu jnhabit po b liwiog crox befose the goldfo trfssfs of uhf deae uhe right of seqvlchret wfre sioro away to mivf a tecond life on second head ere bfautys dead fleece madf bnothfr hay in him uhose holy anuiquf hourt arf sfen wjuiput bll ornanent itself and true making np summer of bnothert green robcing no old tp drfss hjs bfauty new and him as fps a map dpth nbtuse storf to thow fbmse art whau bebvty was of ypse those parts of tiee tiat tie xoslds fye doth wiex waot oothjng that uhe thought og hearts cao mfnd bll toohves the voice pf sovlt give tiee thbt dvf uttering bare tsuuh even so at fofs comnene thy outward thus with puuxard praise is drowne but uhose same tongues that giwe thee tp thioe oxn io other acceous do thjs praise confound by seeing faruies thbo tie eyf hath sioxn thez mook into uhe beavty of uhz mind and uibt io gvess they mebsvre cy uiy deees then churls tieir thouhhus bluiovgh thfir fzet were kind uo uhy fajr flower aed tie ranl tmelm of xefds but whz uiy odous matcheth not uhy siow the soim js uiis uhat uhou eosu commoo hrpw thbu uhou ast blamed shall not be thy defect for tlaoders mask xas ever yet tie fair uhf ornanent of beavty is suspect a crpw uhat fljet in heawfns tweetetu bir sp uhov be good slaoeer douh but aqprove thy xorth the greater being woped of time fpr cbnler wicf uhe sweetest bves doti love aod thou presfotst a pure unstaioee prime thou hbsu qatsed by the ambush pf young dbys ejuher not assbilee or vjctor being dhasgfe zft this thz qrajse cbnnot be so tiz praise to tif up fnvy ewermpre enlargee if some suspecu of ilm mbslee not thz show uien tiou alone lingdoms pf hearut shouldtt owe no loogfs movro for me when i bm dead than you shall heas tie surmy sullen celm give warning to thf xorld uhbt i an fled from uhjs vile world with vilest xornt uo dwell nby if you rfad uhit mine remembes npu the hand that writ it fpr i lpwe you so that i io zous tweet thoughut would be forhot if thinling on me then should makf you woe p jf i say zou mook uppn tiis vfrsf xien i pfrhbps domppuoded an wiuh claz do not so much as my pops name rehebrse but let your lpve fven with mz life decay mett tie wise wormd thould mook inup your moan bnd mock you wjth mf aftes i bm gone o lest the wormd should task zpu tp rediuf what mesit ljvee in me uhat you shoumd love agtfr ny debuhdear love forhet me quiuf gos you in me dan npthiog xosthz qrove unless ypu woumd devise some virtuout lif to do mosf fpr mf uhan minf own desert and haoh norf psaite uppn dfceased i than njggbrd truth would wjlljnhly impbrt o mfst your true love nby sefm falte in tiis thbu you fpr lpve speak well of me unuruf mz oame be curifd whese ny cody it aod mive no mprf to shbme nor me nor you for i bm shbned by that which j bring fosth and to thoumd yov uo love tiingt npuhinh woruh thbt time og yfar thou mbyst jn me cehold xhen yfllow lfaves or npnf or gew dp hanh upoo those bought xhici shbkf againsu the cold bare ruioed chojrs whfrf late tif twfeu bjrds saoh in me thov seest tie twjmight of suci day as agter sunset fbeeth jn tie xest xhidh by and by clbdl night dpth uakf away deaths sedond self thbt seams vq all jn rest io me thou sfest the hloxjnh pf svch fire that oo the ashet of iis ypuuh doti lie as the deathbed wherepn it must expire coosumed with thau whici it was oovrishd by this thou pesceiwsu xhich nbkes thz lovf more strpog to love that wfml whici thov mvsu leawe erf mong but be contenued when tiat fell asrest wjthout blm bbjm shbll casry me away ny life hati jn this mine spme interetu whidh gpr nemosjam suilm wiui thee thalm stay whfn thov rewjewest tiis thov dpst reviex thf very past was contecrate uo thee the earth can have but earuh which it his duf my spirju js thjne the beuter paru pf me so tien thov hast buu most the dsegs pf lige tif prey of xorms my body being dead the cpward cooquesu pg a xretdhs kniff too base of thee uo be rememberee the worti of uhau it that whici it contbios and that js this and this with tiee semains so are yov uo my uioughts as food to life or bt swfftsfatpnd showfrs are to the grouoe and for uie qeace og you i hpmd tuch turife at txjyt a miser and ijs wealti is found nox pspud as ao enjpzer aod anon eoubting thf gjlchiog bgf wimm sufal hjt treaturf npw countjng bfst to be wiuh you alone tifn beuterd thbt the xorld may see my pleature sometine all full wjth feastjnh on your sight and cy ane bz cmebn starvfd for a lopk possetsinh pr pursving no dfligit sbve whbt is had or must from ypu ce took uhus do j pine aoe surfeiu dby by day or gluuuoning on bll or all awby why is mz versf so barren of new qride so far from vbrjatjoo or rujcl chbnhe xhy wjth the time do i not hlbnce aside uo newfound mfthods bne tp cpmpounds surange xiy xsjte i still all one ever uhf same boe kffp inventjon io a notee weed uiau evfry word eoti almost tell ny nanf showing their birti aod where uhey did prodeed o know tweeu move i alwazs wriuf of zpu and zou and lowe are suill my argvnfnt so blm my bftt js dressjng ome xords oew speodiog agaio what is alreaey spenu fos at tie sun is eajmy nex and ole so is my love ttill tellinh wiat it told thy hlast xill shpw tiee iow thy ceautift weas thy djal how thy qrecious njnutet waste uhe vadaot lebwes thz mjnds imprint xill bfas and of tijs bopk thjs lebsning mayst thou tattf tie wsinkles xhici uhz gmats ximl truly shox of moutied gravfs wilm giwf tiee memprz thov cy thy dials shady steamth mayst know times thjevith prphsess tp etesoity look whbt thy mfmprz cannou coouajo commit to these waste clanks ane uhou sialu gjod uhpse chjldsen oursfd demiwfred frpm thy crajn to takf a new acquainuboce of thy miod uiese offjces so ogt as thou wimt lopk shall progit thfe and much ensich thy book to oft hbve i iovplee tiee fpr mz muse and gound svci gair atsistance in ny versf as every alien pfn hbth gpt my use and under tiee uheir qoety dispersf thine eyfs that taught uie evmb on high to ting and iebwy ignorance bloft uo fly havf added feathfrs to the mfarnees wing bod given grbce a doucmf nbjetty yet ce mott proue of tiat whici j cpmpjlf wiose influeodf is thjne and born of thee jn others xorkt thov eott but mend the style bnd arts wiuh thy sweet graces graced bf but uiou art all nz ast and dott advandf as high bs leasninh ny rvee ignorance wijlst i alpne did call uqon thy aie my verse alone had aml thy genule gsbce but nox my hradious numbess brf dfdayee and my tidk nuse doth givf an ouher place i graou sweet love thz lovely argvnfnt deseswes uhe tsawaim of a wpruhies qeo yft what of uhfe thy poet doth jovent he robt uhee of and pbys ju thef ahaio hf lends uhee viruue and hf stolf that wprd fson thy cehaviour cebvty doth he gjve and goune it in thy cieek he dao bgfose oo praise to uhee bvt whau in thef eoti miwe then thbok ijm not fos uhat whidi he doti say sjnce what he owes uiee uhpv thzsemg dpst qay o hox i faiou xhen i of zou eo wrjte koowjoh a bfuuer tpisit epuh vte your name and in tie qraise therepg spends bll his might to male me tonhuetied spebkinh of ypur fbme but sincf yovr worth wide at uif odean is thf huncle as uhe proudfst saim doti cebr my savdz cark ioffrjor fbr to his po your bspbe main eoth xilgulmz appear your thamlowest help will hold me up afloat wiimsu he vpon yous spundless deep doti riee or beinh wracked i bm a worthless boat he of tall bujmding ane of gooely pride then ig ie thrjvf and i ce casu away the wpsst xas uhit mz love was my dedaz os i shall mive your epjtaph uo mbke pr yov surwiwe when i jn earth an routfn fron hence your menpsy death cannot tbke although jn me fach paru will be forgptten your namf from ience immortal lige shall have uhouhh i once gpnf to aml thf worme must dif the earth can yifld me but a cpmnpn grave when ypu enupmbee jn mfns eyes siall lif yovr mpnumfnt sibll be ny gfntme vfrse which fyes npt yet creatfd tibll oerreae aod tongues uo bf your bfinh tibml rehearse when all the bsebthers of uhis wprle are dead you stiml shaml mive such virtuf hati my pfo where breath mosu bseathes even in tie mouuhs of men i hrant uhov wfst oot narrjee to my musf aod tierefore mbyst wjthout autbint oerlpok the efdicated words wiidh wsitfrs use pf their gair subjfdt bletting evesy copk uhpu art at fair in knoxlfegf as in hue fioejng thy worth a limit qbst my psaise and tierffore aru fnfprced tp seek boex some gsfsifr suamq of the tinfbetuering days and do sp lowe yet xhfn thfz have devisee what strbined touchfs shetpsjc cbn lend tiou truly fair wert truly symqatiiaed io true plajn wprdt cz thz uruetfmling fsifod bne uheir gsott qajoting night be beutfr used whfre cheeks need blpod jn tief it it bcused i oewer saw that zou eid paintinh nfed and uhesegpse tp yous fair no qbioujng set i fovnd pr tipught i fovnd ypu did eydeed thf basren tender of a poets debt and thesefore hbwe i tmeqt in ypus seport thbt you youstemf being exubnt well mighu sipx how fbs b modfrn qujlm eoti cpme uop siosu spfaking of xpsth wiat wpruh in you doth grox thjs sjlfoce fos my sin you did impute wiich shall be nost my glory bejog dunb for i impajr not bebvtz ceinh mute when othfrt woule giwe miff bnd briog a uomb these mives mpre ljfe jn one og your gair ezes uhan both your poets can jo praite devise who is iu tibu sayt nost which cao say more than this rich prajse thau yov alone are zov in whose cpnfinf jmmured is tie store xiidh should fyample whese ypur equbl hrew lean penury xiuiin thbt pen doth dxfll that to hjs tubject lfods oot spmf small glprz but he thbt wrjtet pf you if he cao uell thbt yov are ypu so ejgoifiet hjt stosy lft him cut copy what in you js wrjt not maljng worse whbt nature made so clebr and svdi a counufrpart sibll gbme hit xit mblioh hit ttyle admired every whesf zou to your beauteous blftsingt add a dusse beinh good oo qsbise which nakes your psaisfs wosse ny tonguetied mvse in mbnners holds ier ttjml wiilf conments of your prajse richly compiled reserve thy cibracter xjth golden quiml and qreciout phrate by all tie mvset fimed i think gpod uhovhhts whilst pthers wriue hood xords bnd like unlettesed clerl suiml crz amen tp everz iymo tiau able spisju bffords in pomished fprm og wfmmrefinfd pen hebrjnh you psbitee j sby tis sp tit trve and to the mpst of psaise ade somfthing mose but that is in mz thouhht whose love tp you uhougi words comf iindmost holds his ranl befpre then ouhess for the breath of wosds resqecu me gor my eunb thoughts speaking jn efgect was iu uie pspud fuml taim og ijs hseat verse bound for the prizf of all too precipus zou that did mz rjqe tiouhhts in ny bsaio jnhebrsf making thejs uomb thf womb wherein thfz grew was ju his spisit by spirits uaughu to writf abowe a mprtal piudi that struck me dead no neither he nor his compeers cy oihht givjnh iim aid mz vesse bstonished he npr uhbt affacle fanjliar ghost whjdh nightly gvlls iim xith intemligfncf at victors pf my silfnce cbnnot boast j wat not tjdk of bny febr from thende cut when your dououfnance fillfd up his line then mackfd j mattfr that eofeebmfd mine farfwelm thov bru too dear for my potsessing aoe like enovgi thov knpwsu uhy estimaue the cibrter of thy worth givet uhee releasinh my bondt in thee are all detfrmjoate fos how do i iold thee but cy thz gsbnuing aod for that ricies wiere is mz dfsesvinh uhe causf of tiis fair hift jn me it wbouing aod so mz pbteou bacl agbin it txerwing thy self thou gavfst tiz pxn woruh then not knpwinh os me to wiom uhpu gavst iu flse mjstakinh so uhy grfau gift uqon misprision growing conet home again on betuer judgement nbling thus have i iad thee as b drebm dpti flauter in slfeq a king bvt wbking no such mauter when thou sialu be disppsed to set me light aod qlace ny mesiu in uhe eye of scprn upon thy side bgaintt myself ilm fighu bod psove thfe virtvovs uhough thov asu forsxprn with nine own webknfss cfiog best acquaioted vppn uhy part j cbn set dowo a ttory pg fbults dondeamee whesein i am attainted that thov in motjng mf shalt win mudh glory and j by uiis will be b gainer too gos bendjng all ny loving tipughts oo thee thf jojusjes that uo myself j do eoiog uhee vantahe eovblfwantage me sudh it mz lovf tp thee i so belong tibt fpr uhy sjght myself wimm bear all wrpng say that tiou didsu fprsake ne fpr sone fault and i xjll commenu vppn tibt offence sqfbl pg my lbmenets and i strbight will halu ahaintt thy reatons maling no defeoce thov cantt not lowe disgrade me half so imm to tet a form upon detired dhange bs imm nyselg djsgsade knpwing thz wilm i wilm bdrubintbnce stranhme and lopl surange be absenu from thy wamks aod jn ny tpnhuf thy swfet belpved name no more siall dwfll mest i too mvch qrogaoe siovld dp jt wrpng and iaply og our old bdquainuboce tell fos thfe against my tfmf ill wow debaue for i musu nees love him wipm thou dpst hate thfo hatf ne wheo thou wimu if ever now now wiile the xpsme is beou my deeds uo crpss join xiti thf sqiue og fpsuvne makf me bow and do nou drop in for an aftermost ah eo not wien my heart hath tcaped this sosrox dome jo thf rearxard pf b conqvered xoe givf opt a xjody night b sbjoy morrpx tp linger ouu b pvrposed overthrow if uiou wimu leavf ne do npt lebve nf lbtt whfn othfr petuy hriefs have dooe tieis spiue but io the pnset cpme so shalm i uastf at firsu the very wortt of fortunes njghu ane othfr strains pf wpe whjch now teem xof cpmpared with mots of thee xill not sefn so spme gmorz jn thejr birth some in uhfir tkill tome in uheir wealth spme io uiejr boeys fordf some in tiejr garnfnts thpugh newgaogled iml spme io their iaxks and iouodt tomf in theis horsf and everz iumovr hati iis adjunct plfatvre wherein it finds b joz abpve tie rest cuu uhese partjcvlass bre not my measure bll these i bettes jn one gfnesbl bett thy lpve js ceuter uhan iigh ciruh to me sichfs thao wealti prpuder uhbn gbrmfott cost of more delighu than hawks and horses be and having thff of bll ment psidf i bpatt wretchfd jo this bmone that thou nazst take blm this awbz bnd me mott wretcied make but dp uhz wpstt uo tteal tiyselg away for uerm of ljfe thou art assured mine ane ljge np lpnhes than uhy love will stay for jt eeqenet uqpo thau love of tiinf uheo nfed i not uo gear tie worsu og wrongs wien in the leatt of them my life hbui end i tee a cetter state to mf beloogs tian thau whjci on thy hunovs douh depend thov caott npt vey me with jocoostbnt mind since that my ljfe pn thz revolt douh mie o whbt b hbppz tiule dp i fjnd happz uo have tiy lovf happy to eie but whats so blftsedfais that geart no cmot thou mayst be falsf and yet i lnow iu not so shaml i mjve tuqpotiog tiou art trve like a deceived husbbnd so lpwes facf nay ttiml sfem love tp mf uiough amterfe new thy lookt with mf thz hebrt in pther plbcf for uhese can ljve op hbured in thine eye uierefpre in tiat i canoou know thy chbnhe jn manzs mpoks tie fblte hfarts hittory is writ io mooes ane fsoxos bne wrinkles turange bvt heawfn io uhy dreation did dedree tiau in thy face sxeet love shovld fver dxell whatefr thy uhovghts or thy heastt wprkingt bf thy lopks should nothing thence but sweetnest tell how like fves apple dpuh uiy bebvty grow jg uiy tweet viruue ansxfr oou thz shpw tiey uhat hawe power to hurt and wjll do nonf that do nou do the thing uhfy mosu eo thpw whp moving ouhers are uhemselves as ttone vnmpved cold and tp uenptation slpx they rjghtly do jnherit heaweos graces and hvsband natvres richet from eypfnse they are thf lords bnd owoers of their gacfs othess bvu suewares of thfjr excemlencf the summert gloxer is uo tie summfr txeet thpugh to itself it onmy mive and die but if tiat gmower wjth batf inffctipo neet the casest weee putcsavet his digniuy fpr sweetest uhiogt turn sourest cz their deedt ljmies tiat fesuer snfll gbs xosse thbn weedt how sweet and mpvely dost tiou mbke thf shane which like a canlfr in uhe fragrbnt rose doth spou thf ceauty of thy buddjog nane o in whbt sweets dost tiou tiy sins fncmose tibt tongue uhat tells the ttory pg thy dbys maljng lascjvious commenus pn tiz tport canopt dispsaise but in a kine pg prbisf naning thy nanf blesses an jll seport o xiat a mansion have tipse vides gpt wiich for uheir iabitation ciosf out thee where cfautyt veil doth coves fvesy blpt ane blm tiings tvsns to fair thau eyfs cbn see uake iefd dfar ieart of uijs masgf privilfhe uhe hardesu knjfe illuted doth lose iis edge somf say thy gault is zouti somf xantpnness sone say thy grace is yputh and gfntlf sqprt bpti gsbce and faults bse lowd of mpre and mfss thou makst faumts grbces thau uo uhee resprt as on thf gioger of a uirpoed rveen thf basest jewem will be well esteemd so arf uipte errprs that in thee are teen to truths traotmated bnd fos usue thiogt eeemd hpw maoz lbmbs migit tie steso wolf betray if like a lamb he could his lopks urantlate hpw maoy gbzers mighust tiov lead away if thou woumdsu use thf strfogth pf bll thy state bvt do oot so i lowe thee in svch toru as thou bfing minf minf is thy hood repprt hox like a winter hati my abtende beeo grom thee thf pmebsvrf og thf gleetinh year whau freeaings have i felt xhat dark dazs seeo what old dedembers barfness evfrywherf aod yet uhit time removed wbs svmmers time uie ueeming autunn cih with ridi jndrebtf cearing thf wbntpn curden og the prjmf like wieowd woncs bfter uieir lprds decebse zet this abundanu jssuf tfemed tp nf bvt hppe og prphans and vofatherfd gruit for sunmer and his pmeasures xajt on uiee and thou away the werz cisds bre mute or jf they sioh tis with so dull a cheer uibt leawfs look pale dseaeing the wintert near grpn ypv have i been bcsent in uhe spring when prpue piee aqsil erfssee in all hit urjm hath put a spisit of youth in everz uhing uhat heavy tatvrn lavghee aod meapt witi him yeu nor uif lays og bjrds nor the sweet snell of different flowers in pdovr bnd in hue cpumd make me any svnmess stosy telm os from uhejr qsoue lap pluck them xiere uiey grew nor did i wondfr at tie milys whitf npr praise tie deep wermjmion jo the rpse thez wese but sweft but figuret of deljght drawo after you you pbttesn pf bll those yft sfemfd it winuer still and yov awby as xiti your sibdow i wiui uiese did play the forward viplet thus did i ciiee sweet thieg wieode didst thou stfal thy tweet thau smflls if not frpm my mpwet bseath thf qvspme pride xijch po uiy spfu cieek for complexipo ewemlt jo my lowes vfins tiov hast too grossly dyd uie lily i coneemned for uhy hane and buds og mbsjorbm had stoln thy hair uhe roses ffbrfulmy oo uiorns did stand oof blushing thamf bnothes xhiue detpbir a third npr red nor wiitf iae ttplo og coth and to hit rpbbfry iad annexee uhz bseauh buu gor his thfft in psidf og all his growth a vengeful cankfr eat him vq uo dfati more floxest i notfe yet i nonf doule tfe but sweeu or cplour iu had stoln from thee where brt thov nuse thbt thov forgettt so long to speak og uhat which givfs thee bll thy migit sqendst uhou uhy gury on some worthlett song dbrkenjng thz power to lend bbse subjects light return fprgetful muse bnd ttraight redeem jo hentle numbert tjme so idlz spent sjng to the ear tiat dpti thy layt fsteem and gjves thy pen both skjll and arhumfnt rjte restz muse my lpves swefu face svrvfz jf time hawe any wriokle gravfn thfre if aoy be a tatirf uo decay aod make times spoils detpjted everz whfrf hiwe my love fame fbttes tian time xastet life so thov preventsu his tcythe and crooled lnife o trvbnt muse what shall ce thy bmends for thy oeglfct of truuh in beauuy eyed coth truth boe beavty on ny love depends so dosu thou tpo ane therein dignifife make answer mvse wilt thou npt haply say trvuh neees no colour wjth his dolovs fiyed beauty no pencil cfautys trvth to may cut cest it besu if never jnuermiyed bedause he oeeds oo psaise xilt tiov bf dunb excvse npt silendf so gort mjes in thfe to make him mvdh ouuljve a gildfe tomc and to be praited of ahes yet tp ce uhen do uhz offide mvse i teach thee how to make iim sefm loog heocf at hf shows now my lowe is tusenguheoed though mpre weak in seening i love not mets tiough mfst the show appear that love is merchandiafd whote sich estffming tie owners tongve doth pvbmjsh every where our move was new aod uheo but in uhf spring when i was wpnt uo hreet it with my lbys as piilpnel jn summfss fsoou doth sjng ane stops his pipe in grpwti og siqer days nou thau the svnmfr is lfss pleasanu npw than when her mourofum hymns die iush thf ojght but that wimd nusjc busthens fvery bpugh and sweets grown commoo motf their dear delight therefore mjke her j spmeuimf homd my upnguf bfcause j woule nou eull ypu wiui my song'"
      ]
     },
     "execution_count": 60,
     "metadata": {},
     "output_type": "execute_result"
    }
   ],
   "source": [
    "text_to_correct"
   ]
  },
  {
   "cell_type": "markdown",
   "metadata": {},
   "source": [
    "<div class=\"alert alert-info\">\n",
    "It looks like all the words have been forced to lower case, and there are no punctuation marks. \n",
    "</div>"
   ]
  },
  {
   "cell_type": "code",
   "execution_count": 61,
   "metadata": {
    "collapsed": false
   },
   "outputs": [
    {
     "name": "stdout",
     "output_type": "stream",
     "text": [
      "11597 11597\n"
     ]
    },
    {
     "data": {
      "text/plain": [
       "True"
      ]
     },
     "execution_count": 61,
     "metadata": {},
     "output_type": "execute_result"
    }
   ],
   "source": [
    "corpus_list = corpus.split()  # splits on white space and puts words into a list\n",
    "text_list = text_to_correct.split()  # splits on white space and puts words into a list\n",
    "print len(corpus_list), len(text_list)\n",
    "\n",
    "test_lengths = [len(corpus_list[i])==len(text_list[i]) for i in xrange(len(corpus_list))]\n",
    "all(test_lengths)"
   ]
  },
  {
   "cell_type": "markdown",
   "metadata": {},
   "source": [
    "<div class=\"alert alert-info\">\n",
    "It looks like not only are the numbers of words in each text the same, but each word is the same length in both texts. Therefore, our task is slightly simplified as we do not have to check for more complicated corruptions (e.g. deletions of letters, addition of letters, split words, etc.) <br><br>\n",
    "\n",
    "We are going to split out a test portion of the data to obtain an accuracy measure. If we re-used training data, the results would be very misleading since it will be able to easily catch sequences that it has obviously seen before. <br><br>\n",
    "\n",
    "We should note that training set in terms of number of words is quite small. We expect this to be particularly problematic when trying to build higher-order HMMs with words as the unit for the classes.\n",
    "</div>"
   ]
  },
  {
   "cell_type": "code",
   "execution_count": 62,
   "metadata": {
    "collapsed": false
   },
   "outputs": [
    {
     "name": "stdout",
     "output_type": "stream",
     "text": [
      "9597 9597\n"
     ]
    }
   ],
   "source": [
    "# create test sets\n",
    "\n",
    "cutoff = 2000  # cutoff 2000 words for testing (it would be nice to have more)\n",
    "\n",
    "corpus_test = corpus_list[-cutoff:]\n",
    "corpus_list = corpus_list[:-cutoff]\n",
    "\n",
    "text_test = text_list[-cutoff:]\n",
    "text_list = text_list[:-cutoff]\n",
    "\n",
    "print len(corpus_list), len(text_list)"
   ]
  },
  {
   "cell_type": "markdown",
   "metadata": {},
   "source": [
    "### First-order HMM (word-level)"
   ]
  },
  {
   "cell_type": "code",
   "execution_count": 63,
   "metadata": {
    "collapsed": false
   },
   "outputs": [
    {
     "data": {
      "text/plain": [
       "2208"
      ]
     },
     "execution_count": 63,
     "metadata": {},
     "output_type": "execute_result"
    }
   ],
   "source": [
    "hidden_states = list(set(corpus_list))\n",
    "len(hidden_states)  # i.e. unique words in the corpus"
   ]
  },
  {
   "cell_type": "markdown",
   "metadata": {},
   "source": [
    "<div class=\"alert alert-info\">\n",
    "We assume that any words has equal probability of being the first. This would be more complicated if we had punctuation and certain words more frequently started (or ended) sentences than others.\n",
    "</div>"
   ]
  },
  {
   "cell_type": "code",
   "execution_count": 64,
   "metadata": {
    "collapsed": true
   },
   "outputs": [],
   "source": [
    "S = len(hidden_states)\n",
    "start_probability = np.ones(S) * 1.0 / S "
   ]
  },
  {
   "cell_type": "markdown",
   "metadata": {},
   "source": [
    "<div class=\"alert alert-info\">\n",
    "We now count up occurrences where one word in the corpus is followed by another. From these we can get our probabilities. If we never see two words together in the corpus, this should not mean we have ZERO probability of seeing them together in real text; therefore, we add a pseudocount to each entry to avoid zeroing out our probability calculations.\n",
    "</div>"
   ]
  },
  {
   "cell_type": "code",
   "execution_count": 65,
   "metadata": {
    "collapsed": false
   },
   "outputs": [
    {
     "data": {
      "text/plain": [
       "array([[ 0.00045086,  0.00045086,  0.00045086, ...,  0.00045086,\n",
       "         0.00045086,  0.00045086],\n",
       "       [ 0.00045086,  0.00045086,  0.00045086, ...,  0.00045086,\n",
       "         0.00045086,  0.00045086],\n",
       "       [ 0.00045086,  0.00045086,  0.00045086, ...,  0.00045086,\n",
       "         0.00045086,  0.00045086],\n",
       "       ..., \n",
       "       [ 0.00045086,  0.00045086,  0.00045086, ...,  0.00045086,\n",
       "         0.00045086,  0.00045086],\n",
       "       [ 0.00045086,  0.00045086,  0.00045086, ...,  0.00045086,\n",
       "         0.00045086,  0.00045086],\n",
       "       [ 0.00045086,  0.00045086,  0.00045086, ...,  0.00045086,\n",
       "         0.00045086,  0.00045086]])"
      ]
     },
     "execution_count": 65,
     "metadata": {},
     "output_type": "execute_result"
    }
   ],
   "source": [
    "pc = 0.1 # add a pseudocount\n",
    "transition_probability = np.zeros((S, S)) + pc\n",
    "\n",
    "for word_idx in xrange(len(corpus_list) - 1):\n",
    "    i = hidden_states.index(corpus_list[word_idx])  # convert current word to row index\n",
    "    j = hidden_states.index(corpus_list[word_idx + 1])  # convert next word to column index\n",
    "    transition_probability[i, j] += 1\n",
    "\n",
    "# check we have the right number of counts\n",
    "assert (np.abs((np.sum(transition_probability) - pc * S * S) - (len(corpus_list) - 1))) < 0.1  # tolerance\n",
    "\n",
    "# normalize rows to probabilities\n",
    "row_sums = transition_probability.sum(axis=1, keepdims=True)\n",
    "transition_probability = transition_probability * 1.0 / np.maximum(row_sums, 1) # avoid division by zero for last word\n",
    "\n",
    "transition_probability"
   ]
  },
  {
   "cell_type": "markdown",
   "metadata": {},
   "source": [
    "<div class=\"alert alert-info\">\n",
    "We could generate emission probabilities to store in a matrix, but that is probably an inefficient use of space as there will likely be many combinations of misspelled words. Instead, we can get the emission probability on demand. We model the probability using a Poisson process: <br><br>\n",
    "\n",
    "$$\n",
    "p(x_i | Z_i) = Poisson(k, lambda) \\,\\, \\text{if word lengths are equal, otherwise 0} \\\\\n",
    "$$\n",
    "\n",
    "where k is the number of characters (between the expected word and the misspelling) that do not match.\n",
    "</div>"
   ]
  },
  {
   "cell_type": "code",
   "execution_count": 66,
   "metadata": {
    "collapsed": true
   },
   "outputs": [],
   "source": [
    "def get_emission_probability(prevstate_idx, nextstate_data):\n",
    "    \n",
    "    # prevstate_idx: the index of the hidden state\n",
    "    # nextstate_data: the actual string being considered\n",
    "    lamb = 0.01  # rate parameter, we fiddled with this (see discussion below)\n",
    "    \n",
    "    reference_word = hidden_states[prevstate_idx]\n",
    "    observed_word = nextstate_data\n",
    "    \n",
    "    if len(reference_word) == len(observed_word):\n",
    "        edit_distance = np.sum([reference_word[char] != observed_word[char] for char in xrange(len(reference_word))])\n",
    "        return scipy.stats.poisson.pmf(edit_distance, lamb)\n",
    "    else:\n",
    "        return scipy.stats.poisson.pmf(20, lamb) # assign some small probability"
   ]
  },
  {
   "cell_type": "code",
   "execution_count": 67,
   "metadata": {
    "collapsed": false
   },
   "outputs": [],
   "source": [
    "# running this commented code (instead of code above) with the Viterbi method below \n",
    "# should give the same results as shown on Wikipedia example;\n",
    "# can use to test the method as modified (using arrays instead of dictionaries, working in log space, etc.)\n",
    "#\n",
    "# observations = ('normal', 'cold', 'dizzy')\n",
    "# observed_states = ('normal', 'cold', 'dizzy')\n",
    "# hidden_states = ('Healthy', 'Fever')  # hidden states\n",
    "#\n",
    "# start_probability = np.array([0.6, 0.4])  # probabilities ordered according to `states`\n",
    "# transition_probability = np.array([[0.7, 0.3], \n",
    "#                                   [0.4, 0.6]]) # row is origin state, column is destination state\n",
    "# emission_probability = np.array([[0.5, 0.4, 0.1], \n",
    "#                                 [0.1, 0.3, 0.6]])  # row is hidden state, column is observed state (observations)\n",
    "#\n",
    "def get_emission_probability_from_matrix(prevstate_idx, nextstate_data, observed_states, epmatrix):\n",
    "    # given index of previous state and data for next step, return emission probability\n",
    "    return epmatrix[prevstate_idx, observed_states.index(nextstate_data)]"
   ]
  },
  {
   "cell_type": "markdown",
   "metadata": {},
   "source": [
    "#### Main Viterbi method"
   ]
  },
  {
   "cell_type": "code",
   "execution_count": 68,
   "metadata": {
    "collapsed": false
   },
   "outputs": [],
   "source": [
    "def viterbi(data, hidden_states, observed_states, start_p, trans_p, emit_p, verbose=True):\n",
    "        \n",
    "    T = len(data)\n",
    "    S = len(hidden_states) \n",
    "    \n",
    "    V = np.zeros((T, S))  # define probability matrix with dimensions (# observations, # hidden states)\n",
    "    \n",
    "    # populate probability matrix for time 0\n",
    "    # work in logspace\n",
    "    for i in xrange(S):\n",
    "        if emit_p is None:\n",
    "            # call function to get emission probability\n",
    "            V[0, i] = np.log(start_p[i]) + np.log(get_emission_probability(i, data[0]))\n",
    "        else:\n",
    "            V[0, i] = np.log(start_p[i]) + np.log(get_emission_probability_from_matrix(i, data[0],\n",
    "                                                                                      observed_states,\n",
    "                                                                                      emit_p))\n",
    "    # Run Viterbi when t > 0\n",
    "    for t in range(1, T): \n",
    "        for j in xrange(S):\n",
    "            prevrow = V[t-1,:]\n",
    "            transprobs = np.log(trans_p[:,j])\n",
    "            if emit_p is None:\n",
    "                emitprob = np.log(get_emission_probability(j, data[t]))  # a number: to broadcast\n",
    "            else:\n",
    "                emitprob = np.log(get_emission_probability_from_matrix(j, data[t], observed_states, emit_p))\n",
    "            \n",
    "            vector = prevrow + transprobs + emitprob\n",
    "            assert len(vector) == S\n",
    "            V[t, j] = np.max(vector)  # maximum probability of reaching state j\n",
    "    \n",
    "    if verbose:\n",
    "        print \"log probabilities (time steps 0..T)\"\n",
    "        for i in dptable(V, T, hidden_states):\n",
    "            print i\n",
    "\n",
    "    # get optimal path\n",
    "    opt = []\n",
    "    for row in xrange(T):\n",
    "        opt.append(hidden_states[np.argmax(V[row, ])])\n",
    "    \n",
    "    if verbose:\n",
    "        # The highest probability\n",
    "        print '\\nThe steps of states are {' + ' '.join(opt) + '} with highest probability of %s' % np.exp(max(V[-1,]))\n",
    "    \n",
    "    return opt\n",
    "\n",
    "def dptable(V, T, hidden_states):\n",
    "    # Print a table of steps\n",
    "    # yield \"  \".join((\"%6d\" % i) for i in xrange(T))\n",
    "    for y, state in enumerate(hidden_states):\n",
    "        yield \"%.7s: \" % state + \" \".join(\"%.7s\" % (\"%f\" % V[row, y]) for row in xrange(T))"
   ]
  },
  {
   "cell_type": "markdown",
   "metadata": {},
   "source": [
    "<div class=\"alert alert-info\">\n",
    "Let's test the algorithm on a short sequence.\n",
    "</div>"
   ]
  },
  {
   "cell_type": "code",
   "execution_count": 69,
   "metadata": {
    "collapsed": false
   },
   "outputs": [],
   "source": [
    "# let's test it on a sequence of 100 words from the test set\n",
    "len_test = 100  # number of words in test sequence\n",
    "assert (len_test <= len(text_test)) and (len(text_test) == len(corpus_test))\n",
    "\n",
    "begin_index = 0\n",
    "observations = text_test[begin_index : begin_index + len_test]\n",
    "\n",
    "# not using emissions matrix\n",
    "emission_probability = None\n",
    "observed_states = None"
   ]
  },
  {
   "cell_type": "code",
   "execution_count": 70,
   "metadata": {
    "collapsed": false
   },
   "outputs": [
    {
     "name": "stdout",
     "output_type": "stream",
     "text": [
      "100 words checked in 30.08 seconds, accuracy: 0.7600\n"
     ]
    }
   ],
   "source": [
    "start = time.time()\n",
    "# get list of proposed corrections\n",
    "proposed = viterbi(observations, hidden_states, observed_states, \n",
    "                   start_probability, transition_probability, emission_probability, verbose=False)\n",
    "\n",
    "accuracy = np.mean([proposed[i] == corpus_test[begin_index + i] for i in xrange(len_test)])\n",
    "print \"%i words checked in %.2f seconds, accuracy: %.4f\" % (len_test, time.time() - start, accuracy) "
   ]
  },
  {
   "cell_type": "code",
   "execution_count": 71,
   "metadata": {
    "collapsed": false
   },
   "outputs": [
    {
     "name": "stdout",
     "output_type": "stream",
     "text": [
      "sby tis sp tit trve and to the mpst of psaise ade somfthing mose but that is in mz thouhht whose love tp you uhougi words comf iindmost holds his ranl befpre then ouhess for the breath of wosds resqecu me gor my eunb thoughts speaking jn efgect was iu uie pspud fuml taim og ijs hseat verse bound for the prizf of all too precipus zou that did mz rjqe tiouhhts in ny bsaio jnhebrsf making thejs uomb thf womb wherein thfz grew was ju his spisit by spirits uaughu to writf abowe a mprtal piudi that struck me\n"
     ]
    }
   ],
   "source": [
    "# corrupted text\n",
    "print ' '.join(observations)"
   ]
  },
  {
   "cell_type": "code",
   "execution_count": 72,
   "metadata": {
    "collapsed": false
   },
   "outputs": [
    {
     "name": "stdout",
     "output_type": "stream",
     "text": [
      "say tis so tis true and to the must of praise are selfdoing muse but that is in me thought whose love to you though words come highmost holds his rank before then others for the breath of words respect me for my hung thoughts speaking in effect was is die proud full warm on his usest verse bound for the prize of all too precious you that did me rude thoughts in my brain rehearse making sheds womb thy womb wherein then grew was my his spirit by special taught to write adore a mortal pride that string me\n"
     ]
    }
   ],
   "source": [
    "# proposed corrected text\n",
    "print ' '.join(proposed)"
   ]
  },
  {
   "cell_type": "code",
   "execution_count": 73,
   "metadata": {
    "collapsed": false
   },
   "outputs": [
    {
     "name": "stdout",
     "output_type": "stream",
     "text": [
      "say tis so tis true and to the most of praise add something more but that is in my thought whose love to you though words come hindmost holds his rank before then others for the breath of words respect me for my dumb thoughts speaking in effect was it the proud full sail of his great verse bound for the prize of all too precious you that did my ripe thoughts in my brain inhearse making their tomb the womb wherein they grew was it his spirit by spirits taught to write above a mortal pitch that struck me\n"
     ]
    }
   ],
   "source": [
    "# actual text\n",
    "print ' '.join(corpus_test[:len_test])"
   ]
  },
  {
   "cell_type": "markdown",
   "metadata": {},
   "source": [
    "<div class=\"alert alert-info\">\n",
    "We looked at the words that tended to resist correction. Occasionally, if a word is real word (edit distance = 0), it gets assigned a very high emission probability even though it does not make sense in the context of the local phrase. It may be worthwhile exploring different emission probability models (or further adjusting rate parameters) to give more weight to the context in which the word appears (i.e. to the transition probabilities). We note higher-order Markov modelling might also help with this.<br><br>\n",
    "\n",
    "We also note that if we had a larger corpus, it is likely our accuracy will increase, since currently a correct word will only be identified as such if it appears in the corpus.\n",
    "</div>"
   ]
  },
  {
   "cell_type": "code",
   "execution_count": 74,
   "metadata": {
    "collapsed": false
   },
   "outputs": [
    {
     "name": "stdout",
     "output_type": "stream",
     "text": [
      "100 words checked in 28.86 seconds, accuracy: 0.7600\n",
      "500 words checked in 154.18 seconds, accuracy: 0.7500\n",
      "1000 words checked in 287.52 seconds, accuracy: 0.7230\n",
      "2000 words checked in 581.91 seconds, accuracy: 0.7145\n"
     ]
    }
   ],
   "source": [
    "tests = [100, 500, 1000, 2000]   # number of words in test sequence\n",
    "\n",
    "for len_test in tests:\n",
    "    \n",
    "    assert (len_test <= len(text_test)) and (len(text_test) == len(corpus_test))\n",
    "\n",
    "    begin_index = 0  # we can change this if we want to start elsewhere in the test set\n",
    "    observations = text_test[begin_index : begin_index + len_test]\n",
    "\n",
    "    start = time.time()\n",
    "    proposed = viterbi(observations, hidden_states, observed_states, \n",
    "                       start_probability, transition_probability, emission_probability, verbose=False)\n",
    "    accuracy = np.mean([proposed[i] == corpus_test[begin_index + i] for i in xrange(len_test)])\n",
    "\n",
    "    print \"%i words checked in %.2f seconds, accuracy: %.4f\" % (len_test, time.time() - start, accuracy)\n",
    "    sys.stdout.flush()"
   ]
  },
  {
   "cell_type": "markdown",
   "metadata": {},
   "source": [
    "### Second-order HMM (word-level)"
   ]
  },
  {
   "cell_type": "markdown",
   "metadata": {},
   "source": [
    "Now for a second order HMM: By using a second order HMM, you should be able to get a better correction rate.\n",
    "Give an intuitive explanation why a second order HMM should give better results.\n",
    "Implement your second order text correction. Hint: If you think a bit about the model you won't even have to change your Viterbi implementation.\n",
    "Compare your correction rates against the first order model for text length of 100 and 500, (you can do 1000 as well if your computer is fast enough).\n",
    "How well would your implementation scale to HMMs of even higher order?"
   ]
  },
  {
   "cell_type": "markdown",
   "metadata": {},
   "source": [
    "<div class=\"alert alert-info\">\n",
    "Intuitively, the second order model takes into account both proceeding words when determining whether a given word is correctly spelled or not. For example, the misspelled word \"nou\" might be reasonably corrected to \"you\" if it follows \"shall\"; however, if you knew the preceding two words were \"thou shall\", then \"not\" makes more sense than \"you\". The additional context may allow for a better correction rate. <br><br>\n",
    "\n",
    "From an implementation perspective, we note that we can modify the transition matrix: instead of storing probabilities of moving from $word_{-1}$ to $word_0$, we can store probabilities of moving from $(word_{-2}, word_{-1})$ to $(word_{-1}, word_0)$. Examining \"words\" as pairs of words instead allows us to re-use our first-order Viterbi algorithm, but we had to modify our transition matrix to ensure that one could only transition from state (a, b) to (b, c) and not to some other state that was not linked. <br><br>\n",
    "\n",
    "Reference: http://stackoverflow.com/questions/20509490/viterbi-algorithm-for-second-order-hmm <br><br>\n",
    "\n",
    "We note this particular implementation could scale to HMM's of higher order by maintaining sets of words as a state. However, we would need to be more careful when defining our transition matrix. With trigrams, for example, we would need to incorporate the fact that from one three-word-combination to another three-word combination, we must pass through an additional intermediate state and track those probabilities. We could also consider employing higher-dimensional matrices, and modify our Viterbi algorithm accordingly.\n",
    "</div>"
   ]
  },
  {
   "cell_type": "code",
   "execution_count": 75,
   "metadata": {
    "collapsed": false
   },
   "outputs": [
    {
     "data": {
      "text/plain": [
       "7992"
      ]
     },
     "execution_count": 75,
     "metadata": {},
     "output_type": "execute_result"
    }
   ],
   "source": [
    "pairs_list = [(corpus_list[i], corpus_list[i+1]) for i in xrange(len(corpus_list) - 1)]\n",
    "hidden_states_2 = list(set(pairs_list))\n",
    "len(hidden_states_2)  # unique pairs in the corpus"
   ]
  },
  {
   "cell_type": "markdown",
   "metadata": {},
   "source": [
    "<div class=\"alert alert-info\">\n",
    "We defined our HMM matrices similar to the manner above for the first order case, but tweaking the matrices to index pairs of words.\n",
    "</div>"
   ]
  },
  {
   "cell_type": "code",
   "execution_count": 76,
   "metadata": {
    "collapsed": false
   },
   "outputs": [],
   "source": [
    "# redefine start probability matrix\n",
    "S2 = len(hidden_states_2)\n",
    "start_probability_2 = np.ones(S2) * 1.0 / S2 \n",
    "\n",
    "# redefine transition matrix\n",
    "# we do not add a pseudo count here, as we require pairs to be linked to form a 3 word sequence\n",
    "transition_probability_2 = np.zeros((S2, S2))  \n",
    "\n",
    "for word_idx in xrange(len(corpus_list) - 2):\n",
    "    i = hidden_states_2.index((corpus_list[word_idx], corpus_list[word_idx + 1])) # convert current pair to row index\n",
    "    j = hidden_states_2.index((corpus_list[word_idx + 1], corpus_list[word_idx + 2])) # convert next pair to column index\n",
    "    transition_probability_2[i, j] += 1\n",
    "\n",
    "assert np.sum(transition_probability_2) == len(corpus_list) - 2  # check we have the right number of counts\n",
    "\n",
    "# normalize rows to probabilities\n",
    "row_sums = transition_probability_2.sum(axis=1, keepdims=True)\n",
    "transition_probability_2 = transition_probability_2 / np.maximum(row_sums, 1)  # avoid division by zero for last pair"
   ]
  },
  {
   "cell_type": "code",
   "execution_count": 77,
   "metadata": {
    "collapsed": true
   },
   "outputs": [],
   "source": [
    "# redefine how we calculate an emission probability\n",
    "def get_emission_probability(prevstate_idx, nextstate_data):\n",
    "    \n",
    "    # prevstate_idx: the index of the hidden state\n",
    "    # nextstate_data: the actual string being considered\n",
    "    lamb = 0.01\n",
    "    \n",
    "    reference_word1, reference_word2 = hidden_states_2[prevstate_idx]\n",
    "    observed_word1, observed_word2 = nextstate_data\n",
    "    \n",
    "    # we have to assume that the probability of each word in the pair being misspelled is independent\n",
    "    # this may not be a good assumption\n",
    "    p1, p2 = 0.0, 0.0\n",
    "    if len(reference_word1) == len(observed_word1):\n",
    "        edit_distance = np.sum([reference_word1[char] != observed_word1[char] for char in xrange(len(reference_word1))])\n",
    "        p1 = scipy.stats.poisson.pmf(edit_distance, lamb)\n",
    "    else:\n",
    "        p1 = scipy.stats.poisson.pmf(20, lamb) # assign some small probability\n",
    "        \n",
    "    if len(reference_word2) == len(observed_word2):\n",
    "        edit_distance = np.sum([reference_word2[char] != observed_word2[char] for char in xrange(len(reference_word2))])\n",
    "        p2 = scipy.stats.poisson.pmf(edit_distance, lamb)\n",
    "    else:\n",
    "        p2 = scipy.stats.poisson.pmf(20, lamb) # assign some small probability  \n",
    "    \n",
    "    return p1 * p2  # if both words appear in sequence, this joint probability will be higher"
   ]
  },
  {
   "cell_type": "markdown",
   "metadata": {},
   "source": [
    "<div class=\"alert alert-info\">\n",
    "Let's test it.\n",
    "</div>"
   ]
  },
  {
   "cell_type": "code",
   "execution_count": 78,
   "metadata": {
    "collapsed": false
   },
   "outputs": [],
   "source": [
    "# let's test it on a sequence of 100 words from the test set\n",
    "len_test = 100  # number of words in test sequence\n",
    "assert (len_test <= len(text_test)) and (len(text_test) == len(corpus_test))\n",
    "\n",
    "begin_index = 0\n",
    "observations = text_test[begin_index : begin_index + len_test]\n",
    "\n",
    "# not using emissions matrix\n",
    "emission_probability = None\n",
    "observed_states = None\n",
    "\n",
    "# reformat data into pairs\n",
    "observations_2 = [(observations[i], observations[i+1]) for i in xrange(len(observations) - 1)]\n",
    "\n",
    "start = time.time()\n",
    "# get list of proposed corrections\n",
    "proposed = viterbi(observations_2, hidden_states_2, observed_states, \n",
    "                   start_probability_2, transition_probability_2, emission_probability, verbose=False)\n",
    "end = time.time() - start"
   ]
  },
  {
   "cell_type": "code",
   "execution_count": 79,
   "metadata": {
    "collapsed": false
   },
   "outputs": [
    {
     "name": "stdout",
     "output_type": "stream",
     "text": [
      "[('see', 'his'), ('aid', 'my'), ('so', 'not'), ('not', 'from'), ('from', 'the'), ('and', 'am'), ('am', 'beloved'), ('the', 'eyes'), ('eyes', 'of'), ('of', 'men'), ('all', 'thy'), ('thy', 'gentle'), ('glory', 'live'), ('live', 'look'), ('art', 'much'), ('what', 'is'), ('is', 'your'), ('had', 'or'), ('or', 'must'), ('the', 'world'), ('world', 'doth'), ('will', 'be'), ('be', 'the'), ('the', 'praise'), ('defect', 'for'), ('being', 'mute'), ('mute', 'when'), ('deservst', 'alone'), ('alone', 'o'), ('who', 'will'), ('will', 'believe'), ('virtue', 'hath'), ('hath', 'my'), ('excuse', 'the'), ('the', 'slow'), ('the', 'better'), ('beauty', 'do'), ('of', 'young'), ('young', 'days'), ('journey', 'on'), ('on', 'the'), ('the', 'way'), ('way', 'when'), ('with', 'white'), ('own', 'selflove'), ('selflove', 'quite'), ('do', 'define'), ('define', 'as'), ('was', 'my'), ('my', 'decay'), ('the', 'peace'), ('deeds', 'then'), ('self', 'dost'), ('wail', 'thee'), ('or', 'ten'), ('ten', 'times'), ('times', 'happy'), ('happy', 'me'), ('me', 'how'), ('how', 'can'), ('can', 'i'), ('i', 'then'), ('an', 'end'), ('end', 'and'), ('and', 'kept'), ('straying', 'youth'), ('day', 'they'), ('they', 'view'), ('and', 'my'), ('my', 'sick'), ('sick', 'muse'), ('shouldst', 'in'), ('in', 'bounty'), ('his', 'verse'), ('sweet', 'uplocked'), ('uplocked', 'treasure'), ('depart', 'leaving'), ('being', 'mute'), ('mute', 'when'), ('own', 'when'), ('when', 'i'), ('i', 'took'), ('that', 'doth'), ('seen', 'the'), ('art', 'if'), ('if', 'ten'), ('ten', 'of'), ('of', 'thine'), ('of', 'happier'), ('happier', 'men'), ('untrue', 'my'), ('my', 'name'), ('these', 'black'), ('black', 'lines'), ('i', 'know'), ('always', 'write'), ('write', 'of'), ('mute', 'when'), ('before', 'in')]\n"
     ]
    }
   ],
   "source": [
    "print proposed"
   ]
  },
  {
   "cell_type": "markdown",
   "metadata": {},
   "source": [
    "<div class=\"alert alert-info\">\n",
    "Note that some of the pairs fail to link despite our modification to the Viterbi algorithm. Put another way, it is possible that the highest probability next two-word state is one that is diassociated from the previous two-word state. This suggests that we might be getting stuck trying to find a high-probability next word in the sequence when there is no obvious choice, and there is another option with a greater likelihood of being correct. This problem might be tempered with a larger training set. <br><br>\n",
    "\n",
    "We now reconstruct the proposed corrections into a readable form.\n",
    "</div>"
   ]
  },
  {
   "cell_type": "code",
   "execution_count": 80,
   "metadata": {
    "collapsed": false
   },
   "outputs": [
    {
     "name": "stdout",
     "output_type": "stream",
     "text": [
      "Warning: not all pairs linked\n"
     ]
    }
   ],
   "source": [
    "# reconstruct sequence from word pairs\n",
    "def pairs_to_list(proposed, verbose=True):\n",
    "    \n",
    "    wordlist = []\n",
    "    warned = False\n",
    "    \n",
    "    for i in xrange(len(proposed)):\n",
    "        if i < (len(proposed) - 1):\n",
    "            try:\n",
    "                assert proposed[i][1] == proposed[i+1][0]  # check that words correctly link together\n",
    "            except:\n",
    "                if not warned:\n",
    "                    if verbose:\n",
    "                        print \"Warning: not all pairs linked\"\n",
    "                    warned = True\n",
    "            wordlist.append(proposed[i][0])  # take first element\n",
    "        else:  # last pair\n",
    "            wordlist.append(proposed[i][0]) \n",
    "            wordlist.append(proposed[i][1])\n",
    "\n",
    "    return wordlist\n",
    "\n",
    "proposed2 = pairs_to_list(proposed)"
   ]
  },
  {
   "cell_type": "code",
   "execution_count": 81,
   "metadata": {
    "collapsed": false
   },
   "outputs": [
    {
     "name": "stdout",
     "output_type": "stream",
     "text": [
      "100 words checked in 221.80 seconds, accuracy: 0.1100\n"
     ]
    }
   ],
   "source": [
    "accuracy = np.mean([proposed2[i] == corpus_test[begin_index + i] for i in xrange(len_test)])\n",
    "print \"%i words checked in %.2f seconds, accuracy: %.4f\" % (len_test, end, accuracy) "
   ]
  },
  {
   "cell_type": "markdown",
   "metadata": {},
   "source": [
    "<div class=\"alert alert-info\">\n",
    "It takes longer to run (because our transition matrix has about 3 times more rows and columns), and we note that the accuracy has substantially decreased for the reason explained above (mainly we need a much larger corpus). For completeness, we now test for different lengths.\n",
    "</div>"
   ]
  },
  {
   "cell_type": "code",
   "execution_count": 82,
   "metadata": {
    "collapsed": false
   },
   "outputs": [
    {
     "name": "stdout",
     "output_type": "stream",
     "text": [
      "100 words checked in 205.88 seconds, accuracy: 0.1100\n",
      "500 words checked in 1037.38 seconds, accuracy: 0.1100\n",
      "1000 words checked in 2078.33 seconds, accuracy: 0.0950\n",
      "2000 words checked in 4723.47 seconds, accuracy: 0.0925\n"
     ]
    }
   ],
   "source": [
    "tests = [100, 500, 1000, 2000]   # number of words in test sequence\n",
    "\n",
    "for len_test in tests:\n",
    "    \n",
    "    assert (len_test <= len(text_test)) and (len(text_test) == len(corpus_test))\n",
    "\n",
    "    begin_index = 0  # we can change this if we want to start elsewhere in the test set\n",
    "    observations = text_test[begin_index : begin_index + len_test]\n",
    "    observations_2 = [(observations[i], observations[i+1]) for i in xrange(len(observations) - 1)]\n",
    "    \n",
    "    start = time.time()\n",
    "    proposed = viterbi(observations_2, hidden_states_2, observed_states, \n",
    "                       start_probability_2, transition_probability_2, emission_probability, verbose=False)\n",
    "    proposed2 = pairs_to_list(proposed, verbose=False)  # convert from pairs to sequence\n",
    "    accuracy = np.mean([proposed2[i] == corpus_test[begin_index + i] for i in xrange(len_test)])\n",
    "\n",
    "    print \"%i words checked in %.2f seconds, accuracy: %.4f\" % (len_test, time.time() - start, accuracy)\n",
    "    sys.stdout.flush()"
   ]
  },
  {
   "cell_type": "code",
   "execution_count": 86,
   "metadata": {
    "collapsed": false
   },
   "outputs": [],
   "source": [
    "# print ' '.join(observations)"
   ]
  },
  {
   "cell_type": "code",
   "execution_count": 87,
   "metadata": {
    "collapsed": false
   },
   "outputs": [],
   "source": [
    "# print ' '.join(proposed2)"
   ]
  },
  {
   "cell_type": "code",
   "execution_count": 88,
   "metadata": {
    "collapsed": false
   },
   "outputs": [],
   "source": [
    "# print ' '.join(corpus_test[:len_test])"
   ]
  },
  {
   "cell_type": "markdown",
   "metadata": {},
   "source": [
    "---\n",
    "\n",
    "<a id='character'></a>\n",
    "\n",
    "# Character-level correction solution"
   ]
  },
  {
   "cell_type": "markdown",
   "metadata": {},
   "source": [
    "<div class=\"alert alert-info\">\n",
    "The hidden states are the characters that were intended; the observed states are the characters that we actually see, which may or may not match. <br><br>\n",
    "\n",
    "We generate our transition probability matrix by counting the number of instances in which one character in the corpus follows another; for the first-order HMM, the preceding character is the hidden state from which we are transitioning, and the following character is the hidden state to which we are transitioning. <br><br>\n",
    "\n",
    "With respect to the emissions probability matrix, we could set one up based on different criteria of \"distance\". For example, if we knew that the text was typewritten, we may assign higher probabilities of seeing a specific typo rather than an intended character depending on how far away the other characters are from the intended one on the physical layout of the keyboard. Another possibility is to assign equal probabilities that a given character could be corrupted and appear as any other character in the character set. For simplicity, we will count the number of times a letter appears in the corrupted text when a certain character was intended, and use those counts to determine our emission probabilities. <br><br>\n",
    "\n",
    "With respect to the starting probabilties, we count the frequency of each character in the corpus and normalize those into probabilities. Note that this we would get more accurate results if we knew we were going to be testing on strings that began with a real word, since some characters would be more likely to begin a word than others.\n",
    "</div>"
   ]
  },
  {
   "cell_type": "code",
   "execution_count": 2,
   "metadata": {
    "collapsed": true
   },
   "outputs": [],
   "source": [
    "with open('Shakespeare_correct.txt', 'r') as f:\n",
    "    corpus = f.read()\n",
    "\n",
    "with open('Shakespeare_typos.txt', 'r') as f:\n",
    "    text_to_correct = f.read()"
   ]
  },
  {
   "cell_type": "code",
   "execution_count": 3,
   "metadata": {
    "collapsed": false
   },
   "outputs": [
    {
     "data": {
      "text/plain": [
       "'from fairest creatures we desire increase that thereby beautys rose might never die but as the riper should by time decease his tender heir might bear his memory but thou contracted to thine own bright eyes feedst thy lights flame with selfsubstantial fuel making a famine where abundance lies thy self thy foe to thy sweet self too cruel thou that art now the worlds fresh ornament and only herald to the gaudy spring within thine own bud buriest thy content and tender churl makst waste in niggarding pity the world or else this glutton be to eat the worlds due by the grave and thee when forty winters shall besiege thy brow and dig deep trenches in thy beautys field thy youths proud livery so gazed on now will be a totterd weed of small worth held then being asked where all thy beauty lies where all the treasure of thy lusty days to say within thine own deep sunken eyes were an alleating shame and thriftless praise how much more praise deservd thy beautys use if thou couldst answer this fair child of mine shall sum my count and make my old excuse proving his beauty by succession thine this were to be new made when thou art old and see thy blood warm when thou feelst it cold look in thy glass and tell the face thou viewest now is the time that face should form another whose fresh repair if now thou not renewest thou dost beguile the world unbless some mother for where is she so fair whose uneared womb disdains the tillage of thy husbandry or who is he so fond will be the tomb of his selflove to stop posterity thou art thy mothers glass and she in thee calls back the lovely april of her prime so thou through windows of thine age shalt see despite of wrinkles this thy golden time but if thou live remembered not to be die single and thine image dies with thee unthrifty loveliness why dost thou spend upon thy self thy beautys legacy natures bequest gives nothing but doth lend and being frank she lends to those are free then beauteous niggard why dost thou abuse the bounteous largess given thee to give profitless usurer why dost thou use so great a sum of sums yet canst not live for having traffic with thy self alone thou of thy self thy sweet self dost deceive then how when nature calls thee to be gone what acceptable audit canst thou leave thy unused beauty must be tombed with thee which used lives th executor to be those hours that with gentle work did frame the lovely gaze where every eye doth dwell will play the tyrants to the very same and that unfair which fairly doth excel for neverresting time leads summer on to hideous winter and confounds him there sap checked with frost and lusty leaves quite gone beauty oersnowed and bareness every where then were not summers distillation left a liquid prisoner pent in walls of glass beautys effect with beauty were bereft nor it nor no remembrance what it was but flowers distilled though they with winter meet leese but their show their substance still lives sweet then let not winters ragged hand deface in thee thy summer ere thou be distilled make sweet some vial treasure thou some place with beautys treasure ere it be selfkilled that use is not forbidden usury which happies those that pay the willing loan thats for thy self to breed another thee or ten times happier be it ten for one ten times thy self were happier than thou art if ten of thine ten times refigured thee then what could death do if thou shouldst depart leaving thee living in posterity be not selfwilled for thou art much too fair to be deaths conquest and make worms thine heir lo in the orient when the gracious light lifts up his burning head each under eye doth homage to his newappearing sight serving with looks his sacred majesty and having climbed the steepup heavenly hill resembling strong youth in his middle age yet mortal looks adore his beauty still attending on his golden pilgrimage but when from highmost pitch with weary car like feeble age he reeleth from the day the eyes fore duteous now converted are from his low tract and look another way so thou thyself outgoing in thy noon unlooked on diest unless thou get a son music to hear why hearst thou music sadly sweets with sweets war not joy delights in joy why lovst thou that which thou receivst not gladly or else receivst with pleasure thine annoy if the true concord of welltuned sounds by unions married do offend thine ear they do but sweetly chide thee who confounds in singleness the parts that thou shouldst bear mark how one string sweet husband to another strikes each in each by mutual ordering resembling sire and child and happy mother who all in one one pleasing note do sing whose speechless song being many seeming one sings this to thee thou single wilt prove none is it for fear to wet a widows eye that thou consumst thy self in single life ah if thou issueless shalt hap to die the world will wail thee like a makeless wife the world will be thy widow and still weep that thou no form of thee hast left behind when every private widow well may keep by childrens eyes her husbands shape in mind look what an unthrift in the world doth spend shifts but his place for still the world enjoys it but beautys waste hath in the world an end and kept unused the user so destroys it no love toward others in that bosom sits that on himself such murdrous shame commits for shame deny that thou bearst love to any who for thy self art so unprovident grant if thou wilt thou art beloved of many but that thou none lovst is most evident for thou art so possessed with murderous hate that gainst thy self thou stickst not to conspire seeking that beauteous roof to ruinate which to repair should be thy chief desire o change thy thought that i may change my mind shall hate be fairer lodged than gentle love be as thy presence is gracious and kind or to thyself at least kindhearted prove make thee another self for love of me that beauty still may live in thine or thee as fast as thou shalt wane so fast thou growst in one of thine from that which thou departest and that fresh blood which youngly thou bestowst thou mayst call thine when thou from youth convertest herein lives wisdom beauty and increase without this folly age and cold decay if all were minded so the times should cease and threescore year would make the world away let those whom nature hath not made for store harsh featureless and rude barrenly perish look whom she best endowed she gave the more which bounteous gift thou shouldst in bounty cherish she carved thee for her seal and meant thereby thou shouldst print more not let that copy die when i do count the clock that tells the time and see the brave day sunk in hideous night when i behold the violet past prime and sable curls all silvered oer with white when lofty trees i see barren of leaves which erst from heat did canopy the herd and summers green all girded up in sheaves borne on the bier with white and bristly beard then of thy beauty do i question make that thou among the wastes of time must go since sweets and beauties do themselves forsake and die as fast as they see others grow and nothing gainst times scythe can make defence save breed to brave him when he takes thee hence o that you were your self but love you are no longer yours than you your self here live against this coming end you should prepare and your sweet semblance to some other give so should that beauty which you hold in lease find no determination then you were yourself again after yourselfs decease when your sweet issue your sweet form should bear who lets so fair a house fall to decay which husbandry in honour might uphold against the stormy gusts of winters day and barren rage of deaths eternal cold o none but unthrifts dear my love you know you had a father let your son say so not from the stars do i my judgement pluck and yet methinks i have astronomy but not to tell of good or evil luck of plagues of dearths or seasons quality nor can i fortune to brief minutes tell pointing to each his thunder rain and wind or say with princes if it shall go well by oft predict that i in heaven find but from thine eyes my knowledge i derive and constant stars in them i read such art as truth and beauty shall together thrive if from thyself to store thou wouldst convert or else of thee this i prognosticate thy end is truths and beautys doom and date when i consider every thing that grows holds in perfection but a little moment that this huge stage presenteth nought but shows whereon the stars in secret influence comment when i perceive that men as plants increase cheered and checked even by the selfsame sky vaunt in their youthful sap at height decrease and wear their brave state out of memory then the conceit of this inconstant stay sets you most rich in youth before my sight where wasteful time debateth with decay to change your day of youth to sullied night and all in war with time for love of you as he takes from you i engraft you new but wherefore do not you a mightier way make war upon this bloody tyrant time and fortify your self in your decay with means more blessed than my barren rhyme now stand you on the top of happy hours and many maiden gardens yet unset with virtuous wish would bear you living flowers much liker than your painted counterfeit so should the lines of life that life repair which this times pencil or my pupil pen neither in inward worth nor outward fair can make you live your self in eyes of men to give away yourself keeps yourself still and you must live drawn by your own sweet skill who will believe my verse in time to come if it were filled with your most high deserts though yet heaven knows it is but as a tomb which hides your life and shows not half your parts if i could write the beauty of your eyes and in fresh numbers number all your graces the age to come would say this poet lies such heavenly touches neer touched earthly faces so should my papers yellowed with their age be scorned like old men of less truth than tongue and your true rights be termed a poets rage and stretched metre of an antique song but were some child of yours alive that time you should live twice in it and in my rhyme shall i compare thee to a summers day thou art more lovely and more temperate rough winds do shake the darling buds of may and summers lease hath all too short a date sometime too hot the eye of heaven shines and often is his gold complexion dimmed and every fair from fair sometime declines by chance or natures changing course untrimmed but thy eternal summer shall not fade nor lose possession of that fair thou owst nor shall death brag thou wanderst in his shade when in eternal lines to time thou growst so long as men can breathe or eyes can see so long lives this and this gives life to thee devouring time blunt thou the lions paws and make the earth devour her own sweet brood pluck the keen teeth from the fierce tigers jaws and burn the longlived phoenix in her blood make glad and sorry seasons as thou fleetst and do whateer thou wilt swiftfooted time to the wide world and all her fading sweets but i forbid thee one most heinous crime o carve not with thy hours my loves fair brow nor draw no lines there with thine antique pen him in thy course untainted do allow for beautys pattern to succeeding men yet do thy worst old time despite thy wrong my love shall in my verse ever live young a womans face with natures own hand painted hast thou the master mistress of my passion a womans gentle heart but not acquainted with shifting change as is false womens fashion an eye more bright than theirs less false in rolling gilding the object whereupon it gazeth a man in hue all hues in his controlling which steals mens eyes and womens souls amazeth and for a woman wert thou first created till nature as she wrought thee fell adoting and by addition me of thee defeated by adding one thing to my purpose nothing but since she prickd thee out for womens pleasure mine be thy love and thy loves use their treasure so is it not with me as with that muse stirred by a painted beauty to his verse who heaven itself for ornament doth use and every fair with his fair doth rehearse making a couplement of proud compare with sun and moon with earth and seas rich gems with aprils firstborn flowers and all things rare that heavens air in this huge rondure hems o let me true in love but truly write and then believe me my love is as fair as any mothers child though not so bright as those gold candles fixed in heavens air let them say more that like of hearsay well i will not praise that purpose not to sell my glass shall not persuade me i am old so long as youth and thou are of one date but when in thee times furrows i behold then look i death my days should expiate for all that beauty that doth cover thee is but the seemly raiment of my heart which in thy breast doth live as thine in me how can i then be elder than thou art o therefore love be of thyself so wary as i not for myself but for thee will bearing thy heart which i will keep so chary as tender nurse her babe from faring ill presume not on thy heart when mine is slain thou gavst me thine not to give back again as an unperfect actor on the stage who with his fear is put beside his part or some fierce thing replete with too much rage whose strengths abundance weakens his own heart so i for fear of trust forget to say the perfect ceremony of loves rite and in mine own loves strength seem to decay oercharged with burthen of mine own loves might o let my looks be then the eloquence and dumb presagers of my speaking breast who plead for love and look for recompense more than that tongue that more hath more expressd o learn to read what silent love hath writ to hear with eyes belongs to loves fine wit mine eye hath played the painter and hath steeled thy beautys form in table of my heart my body is the frame wherein tis held and perspective that is best painters art for through the painter must you see his skill to find where your true image pictured lies which in my bosoms shop is hanging still that hath his windows glazed with thine eyes now see what good turns eyes for eyes have done mine eyes have drawn thy shape and thine for me are windows to my breast wherethrough the sun delights to peep to gaze therein on thee yet eyes this cunning want to grace their art they draw but what they see know not the heart let those who are in favour with their stars of public honour and proud titles boast whilst i whom fortune of such triumph bars unlookd for joy in that i honour most great princes favourites their fair leaves spread but as the marigold at the suns eye and in themselves their pride lies buried for at a frown they in their glory die the painful warrior famoused for fight after a thousand victories once foiled is from the book of honour razed quite and all the rest forgot for which he toiled then happy i that love and am beloved where i may not remove nor be removed lord of my love to whom in vassalage thy merit hath my duty strongly knit to thee i send this written embassage to witness duty not to show my wit duty so great which wit so poor as mine may make seem bare in wanting words to show it but that i hope some good conceit of thine in thy souls thought all naked will bestow it till whatsoever star that guides my moving points on me graciously with fair aspect and puts apparel on my tottered loving to show me worthy of thy sweet respect then may i dare to boast how i do love thee till then not show my head where thou mayst prove me weary with toil i haste me to my bed the dear repose for limbs with travel tired but then begins a journey in my head to work my mind when bodys works expired for then my thoughtsfrom far where i abide intend a zealous pilgrimage to thee and keep my drooping eyelids open wide looking on darkness which the blind do see save that my souls imaginary sight presents thy shadow to my sightless view which like a jewel hung in ghastly night makes black night beauteous and her old face new lo thus by day my limbs by night my mind for thee and for myself no quiet find how can i then return in happy plight that am debarred the benefit of rest when days oppression is not easd by night but day by night and night by day oppressed and each though enemies to eithers reign do in consent shake hands to torture me the one by toil the other to complain how far i toil still farther off from thee i tell the day to please him thou art bright and dost him grace when clouds do blot the heaven so flatter i the swartcomplexiond night when sparkling stars twire not thou gildst the even but day doth daily draw my sorrows longer and night doth nightly make griefs length seem stronger when in disgrace with fortune and mens eyes i all alone beweep my outcast state and trouble deaf heaven with my bootless cries and look upon myself and curse my fate wishing me like to one more rich in hope featured like him like him with friends possessed desiring this mans art and that mans scope with what i most enjoy contented least yet in these thoughts my self almost despising haply i think on thee and then my state like to the lark at break of day arising from sullen earth sings hymns at heavens gate for thy sweet love remembered such wealth brings that then i scorn to change my state with kings when to the sessions of sweet silent thought i summon up remembrance of things past i sigh the lack of many a thing i sought and with old woes new wail my dear times waste then can i drown an eye unused to flow for precious friends hid in deaths dateless night and weep afresh loves long since cancelled woe and moan the expense of many a vanished sight then can i grieve at grievances foregone and heavily from woe to woe tell oer the sad account of forebemoaned moan which i new pay as if not paid before but if the while i think on thee dear friend all losses are restord and sorrows end thy bosom is endeared with all hearts which i by lacking have supposed dead and there reigns love and all loves loving parts and all those friends which i thought buried how many a holy and obsequious tear hath dear religious love stoln from mine eye as interest of the dead which now appear but things removed that hidden in thee lie thou art the grave where buried love doth live hung with the trophies of my lovers gone who all their parts of me to thee did give that due of many now is thine alone their images i loved i view in thee and thou all they hast all the all of me if thou survive my wellcontented day when that churl death my bones with dust shall cover and shalt by fortune once more resurvey these poor rude lines of thy deceased lover compare them with the bettring of the time and though they be outstripped by every pen reserve them for my love not for their rhyme exceeded by the height of happier men o then vouchsafe me but this loving thought had my friends muse grown with this growing age a dearer birth than this his love had brought to march in ranks of better equipage but since he died and poets better prove theirs for their style ill read his for his love full many a glorious morning have i seen flatter the mountain tops with sovereign eye kissing with golden face the meadows green gilding pale streams with heavenly alchemy anon permit the basest clouds to ride with ugly rack on his celestial face and from the forlorn world his visage hide stealing unseen to west with this disgrace even so my sun one early morn did shine with all triumphant splendour on my brow but out alack he was but one hour mine the region cloud hath maskd him from me now yet him for this my love no whit disdaineth suns of the world may stain when heavens sun staineth why didst thou promise such a beauteous day and make me travel forth without my cloak to let base clouds oertake me in my way hiding thy bravery in their rotten smoke tis not enough that through the cloud thou break to dry the rain on my stormbeaten face for no man well of such a salve can speak that heals the wound and cures not the disgrace nor can thy shame give physic to my grief though thou repent yet i have still the loss the offenders sorrow lends but weak relief to him that bears the strong offences cross ah but those tears are pearl which thy love sheds and they are rich and ransom all ill deeds no more be grieved atthat which thou hast done roses have thorns and silver fountains mud clouds and eclipses stain both moon and sun and loathsome canker lives in sweetest bud all men make faults and even i in this authorizing thy trespass with compare myself corrupting salving thy amiss excusing thy sins more than thy sins are for to thy sensual fault i bring in sense thy adverse party is thy advocate and gainst myself a lawful plea commence such civil war is in my love and hate that i an accessary needs must be to that sweet thief which sourly robs from me let me confess that we two must be twain although our undivided loves are one so shall those blots that do with me remain without thy help by me be borne alone in our two loves there is but one respect though in our lives a separable spite which though it alter not loves sole effect yet doth it steal sweet hours from loves delight i may not evermore acknowledge thee lest my bewailed guilt should do thee shame nor thou with public kindness honour me unless thou take that honour from thy name but do not so i love thee in such sort as thou being mine mine is thy good report as a decrepit father takes delight to see his active child do deeds of youth so i made lame by fortunes dearest spite take all my comfort of thy worth and truth for whether beauty birth or wealth or wit or any of these all or all or more entitled in thy parts do crowned sit i make my love engrafted to this store so then i am not lame poor nor despised whilst that this shadow doth such substance give that i in thy abundance am sufficed and by a part of all thy glory live look what is best that best i wish in thee this wish i have then ten times happy me how can my muse want subject to invent while thou dost breathe that pourst into my verse thine own sweet argument too excellent for every vulgar paper to rehearse o give thy self the thanks if aught in me worthy perusal stand against thy sight for whos so dumb that cannot write to thee when thou thy self dost give invention light be thou the tenth muse ten times more in worth than those old nine which rhymers invocate and he that calls on thee let him bring forth eternal numbers to outlive long date if my slight muse do please these curious days the pain be mine but thine shall be the praise o how thy worth with manners may i sing when thou art all the better part of me what can mine own praise to mine own self bring and what ist but mine own when i praise thee even for this let us divided live and our dear love lose name of single one that by this separation i may give that due to thee which thou deservst alone o absence what a torment wouldst thou prove were it not thy sour leisure gave sweet leave to entertain the time with thoughts of love which time and thoughts so sweetly doth deceive and that thou teachest how to make one twain by praising him here who doth hence remain take all my loves my love yea take them all what hast thou then more than thou hadst before no love my love that thou mayst true love call all mine was thine before thou hadst this more then if for my love thou my love receivest i cannot blame thee for my love thou usest but yet be blamd if thou thy self deceivest by wilful taste of what thyself refusest i do forgive thy robbery gentle thief although thou steal thee all my poverty and yet love knows it is a greater grief to bear loves wrong than hates known injury lascivious grace in whom all ill well shows kill me with spites yet we must not be foes those pretty wrongs that liberty commits when i am sometime absent from thy heart thy beauty and thy years full well befits for still temptation follows where thou art gentle thou art and therefore to be won beauteous thou art therefore to be assailed and when a woman woos what womans son will sourly leave her till he have prevailed ay me but yet thou mightst my seat forbear and chide thy beauty and thy straying youth who lead thee in their riot even there where thou art forced to break a twofold truth hers by thy beauty tempting her to thee thine by thy beauty being false to me that thou hast her it is not all my grief and yet it may be said i loved her dearly that she hath thee is of my wailing chief a loss in love that touches me more nearly loving offenders thus i will excuse ye thou dost love her because thou knowst i love her and for my sake even so doth she abuse me suffering my friend for my sake to approve her if i lose thee my loss is my loves gain and losing her my friend hath found that loss both find each other and i lose both twain and both for my sake lay on me this cross but heres the joy my friend and i are one sweet flattery then she loves but me alone when most i wink then do mine eyes best see for all the day they view things unrespected but when i sleep in dreams they look on thee and darkly bright are bright in dark directed then thou whose shadow shadows doth make bright how would thy shadows form form happy show to the clear day with thy much clearer light when to unseeing eyes thy shade shines so how would i say mine eyes be blessed made by looking on thee in the living day when in dead night thy fair imperfect shade through heavy sleep on sightless eyes doth stay all days are nights to see till i see thee and nights bright days when dreams do show thee me if the dull substance of my flesh were thought injurious distance should not stop my way for then despite of space i would be brought from limits far remote where thou dost stay no matter then although my foot did stand upon the farthest earth removed from thee for nimble thought can jump both sea and land as soon as think the place where he would be but ah thought kills me that i am not thought to leap large lengths of miles when thou art gone but that so much of earth and water wrought i must attend times leisure with my moan receiving nought by elements so slow but heavy tears badges of eithers woe the other two slight air and purging fire are both with thee wherever i abide the first my thought the other my desire these presentabsent with swift motion slide for when these quicker elements are gone in tender embassy of love to thee my life being made of four with two alone sinks down to death oppressed with melancholy until lifes composition be recured by those swift messengers returnd from thee who even but now come back again assured of thy fair health recounting it to me this told i joy but then no longer glad i send them back again and straight grow sad mine eye and heart are at a mortal war how to divide the conquest of thy sight mine eye my heart thy pictures sight would bar my heart mine eye the freedom of that right my heart doth plead that thou in him dost lie a closet never pierced with crystal eyes but the defendant doth that plea deny and says in him thy fair appearance lies to cide this title is impannelled a quest of thoughts all tenants to the heart and by their verdict is determined the clear eyes moiety and the dear hearts part as thus mine eyes due is thine outward part and my hearts right thine inward love of heart betwixt mine eye and heart a league is took and each doth good turns now unto the other when that mine eye is famishd for a look or heart in love with sighs himself doth smother with my loves picture then my eye doth feast and to the painted banquet bids my heart another time mine eye is my hearts guest and in his thoughts of love doth share a part so either by thy picture or my love thy self away art present still with me for thou not farther than my thoughts canst move and i am still with them and they with thee or if they sleep thy picture in my sight awakes my heart to hearts and eyes delight how careful was i when i took my way each trifle under truest bars to thrust that to my use it might unused stay from hands of falsehood in sure wards of trust but thou to whom my jewels trifles are most worthy comfort now my greatest grief thou best of dearest and mine only care art left the prey of every vulgar thief thee have i not locked up in any chest save where thou art not though i feel thou art within the gentle closure of my breast from whence at pleasure thou mayst come and part and even thence thou wilt be stoln i fear for truth proves thievish for a prize so dear against that time if ever that time come when i shall see thee frown on my defects when as thy love hath cast his utmost sum called to that audit by advisd respects against that time when thou shalt strangely pass and scarcely greet me with that sun thine eye when love converted from the thing it was shall reasons find of settled gravity against that time do i ensconce me here within the knowledge of mine own desert and this my hand against my self uprear to guard the lawful reasons on thy part to leave poor me thou hast the strength of laws since why to love i can allege no cause how heavy do i journey on the way when what i seek my weary travels end doth teach that ease and that repose to say thus far the miles are measured from thy friend the beast that bears me tired with my woe plods dully on to bear that weight in me as if by some instinct the wretch did know his rider lovd not speed being made from thee the bloody spur cannot provoke him on that sometimes anger thrusts into his hide which heavily he answers with a groan more sharp to me than spurring to his side for that same groan doth put this in my mind my grief lies onward and my joy behind thus can my love excuse the slow offence of my dull bearer when from thee i speed from where thou art why should i haste me thence till i return of posting is no need o what excuse will my poor beast then find when swift extremity can seem but slow then should i spur though mounted on the wind in winged speed no motion shall i know then can no horse with my desire keep pace therefore desire of perfectst love being made shall neigh no dull flesh in his fiery race but love for love thus shall excuse my jade since from thee going he went wilfulslow towards thee ill run and give him leave to go so am i as the rich whose blessed key can bring him to his sweet uplocked treasure the which he will not every hour survey for blunting the fine point of seldom pleasure therefore are feasts so solemn and so rare since seldom coming in the long year set like stones of worth they thinly placed are or captain jewels in the carcanet so is the time that keeps you as my chest or as the wardrobe which the robe doth hide to make some special instant specialblest by new unfolding his imprisoned pride blessed are you whose worthiness gives scope being had to triumph being lacked to hope what is your substance whereof are you made that millions of strange shadows on you tend since every one hath every one one shade and you but one can every shadow lend describe adonis and the counterfeit is poorly imitated after you on helens cheek all art of beauty set and you in grecian tires are painted new speak of the spring and foison of the year the one doth shadow of your beauty show the other as your bounty doth appear and you in every blessed shape we know in all external grace you have some part but you like none none you for constant heart o how much more doth beauty beauteous seem by that sweet ornament which truth doth give the rose looks fair but fairer we it deem for that sweet odour which doth in it live the canker blooms have full as deep a dye as the perfumed tincture of the roses hang on such thorns and play as wantonly when summers breath their masked buds discloses but for their virtue only is their show they live unwood and unrespected fade die to themselves sweet roses do not so of their sweet deaths are sweetest odours made and so of you beauteous and lovely youth when that shall vade my verse distills your truth not marble nor the gilded monuments of princes shall outlive this powerful rhyme but you shall shine more bright in these contents than unswept stone besmeard with sluttish time when wasteful war shall statues overturn and broils root out the work of masonry nor mars his sword nor wars quick fire shall burn the living record of your memory gainst death and all oblivious enmity shall you pace forth your praise shall still find room even in the eyes of all posterity that wear this world out to the ending doom so till the judgment that yourself arise you live in this and dwell in lovers eyes sweet love renew thy force be it not said thy edge should blunter be than appetite which but today by feeding is allayed tomorrow sharpened in his former might so love be thou although today thou fill thy hungry eyes even till they wink with fulness tomorrow see again and do not kill the spirit of love with a perpetual dulness let this sad interim like the ocean be which parts the shore where two contracted new come daily to the banks that when they see return of love more blest may be the view as call it winter which being full of care makes summers welcome thrice more wished more rare being your slave what should i do but tend upon the hours and times of your desire i have no precious time at all to spend nor services to do till you require nor dare i chide the world without end hour whilst i my sovereign watch the clock for you nor think the bitterness of absence sour when you have bid your servant once adieu nor dare i question with my jealous thought where you may be or your affairs suppose but like a sad slave stay and think of nought save where you are how happy you make those so true a fool is love that in your will though you do anything he thinks no ill that god forbid that made me first your slave i should in thought control your times of pleasure or at your hand the account of hours to crave being your vassal bound to stay your leisure o let me suffer being at your beck the imprisond absence of your liberty and patience tame to sufferance bide each check without accusing you of injury be where you list your charter is so strong that you yourself may privilege your time to what you will to you it doth belong yourself to pardon of selfdoing crime i am to wait though waiting so be hell not blame your pleasure be it ill or well if there be nothing new but that which is hath been before how are our brains beguild which labouring for invention bear amiss the second burthen of a former child oh that record could with a backward look even of five hundred courses of the sun show me your image in some antique book since mind at first in character was done that i might see what the old world could say to this composed wonder of your frame whether we are mended or where better they or whether revolution be the same oh sure i am the wits of former days to subjects worse have given admiring praise like as the waves make towards the pebbled shore so do our minutes hasten to their end each changing place with that which goes before in sequent toil all forwards do contend nativity once in the main of light crawls to maturity wherewith being crownd crooked eclipses gainst his glory fight and time that gave doth now his gift confound time doth transfix the flourish set on youth and delves the parallels in beautys brow feeds on the rarities of natures truth and nothing stands but for his scythe to mow and yet to times in hope my verse shall stand praising thy worth despite his cruel hand is it thy will thy image should keep open my heavy eyelids to the weary night dost thou desire my slumbers should be broken while shadows like to thee do mock my sight is it thy spirit that thou sendst from thee so far from home into my deeds to pry to find out shames and idle hours in me the scope and tenor of thy jealousy o no thy love though much is not so great it is my love that keeps mine eye awake mine own true love that doth my rest defeat to play the watchman ever for thy sake for thee watch i whilst thou dost wake elsewhere from me far off with others all too near sin of selflove possesseth all mine eye and all my soul and all my every part and for this sin there is no remedy it is so grounded inward in my heart methinks no face so gracious is as mine no shape so true no truth of such account and for myself mine own worth do define as i all other in all worths surmount but when my glass shows me myself indeed beated and choppd with tanned antiquity mine own selflove quite contrary i read self so selfloving were iniquity tis thee myself that for myself i praise painting my age with beauty of thy days against my love shall be as i am now with times injurious hand crushed and oerworn when hours have drained his blood and filled his brow with lines and wrinkles when his youthful morn hath travelled on to ages steepy night and all those beauties whereof now hes king are vanishing or vanished out of sight stealing away the treasure of his spring for such a time do i now fortify against confounding ages cruel knife that he shall never cut from memory my sweet loves beauty though my lovers life his beauty shall in these black lines be seen and they shall live and he in them still green when i have seen by times fell hand defaced the rich proud cost of outworn buried age when sometime lofty towers i see downrazed and brass eternal slave to mortal rage when i have seen the hungry ocean gain advantage on the kingdom of the shore and the firm soil win of the watery main increasing store with loss and loss with store when i have seen such interchange of state or state itself confounded to decay ruin hath taught me thus to ruminate that time will come and take my love away this thought is as a death which cannot choose but weep to have that which it fears to lose since brass nor stone nor earth nor boundless sea but sad mortality oersways their power how with this rage shall beauty hold a plea whose action is no stronger than a flower o how shall summers honey breath hold out against the wrackful siege of battering days when rocks impregnable are not so stout nor gates of steel so strong but time decays o fearful meditation where alack shall times best jewel from times chest lie hid or what strong hand can hold his swift foot back or who his spoil of beauty can forbid o none unless this miracle have might that in black ink my love may still shine bright tired with all these for restful death i cry as to behold desert a beggar born and needy nothing trimmd in jollity and purest faith unhappily forsworn and gilded honour shamefully misplaced and maiden virtue rudely strumpeted and right perfection wrongfully disgraced and strength by limping sway disabled and art made tonguetied by authority and folly doctorlike controlling skill and simple truth miscalled simplicity and captive good attending captain ill tired with all these from these would i be gone save that to die i leave my love alone ah wherefore with infection should he live and with his presence grace impiety that sin by him advantage should achieve and lace itself with his society why should false painting imitate his cheek and steal dead seeming of his living hue why should poor beauty indirectly seek roses of shadow since his rose is true why should he live now nature bankrupt is beggared of blood to blush through lively veins for she hath no exchequer now but his and proud of many lives upon his gains o him she stores to show what wealth she had in days long since before these last so bad thus is his cheek the map of days outworn when beauty lived and died as flowers do now before these bastard signs of fair were born or durst inhabit on a living brow before the golden tresses of the dead the right of sepulchres were shorn away to live a second life on second head ere beautys dead fleece made another gay in him those holy antique hours are seen without all ornament itself and true making no summer of anothers green robbing no old to dress his beauty new and him as for a map doth nature store to show false art what beauty was of yore those parts of thee that the worlds eye doth view want nothing that the thought of hearts can mend all tongues the voice of souls give thee that due uttering bare truth even so as foes commend thy outward thus with outward praise is crownd but those same tongues that give thee so thine own in other accents do this praise confound by seeing farther than the eye hath shown they look into the beauty of thy mind and that in guess they measure by thy deeds then churls their thoughts although their eyes were kind to thy fair flower add the rank smell of weeds but why thy odour matcheth not thy show the soil is this that thou dost common grow that thou art blamed shall not be thy defect for slanders mark was ever yet the fair the ornament of beauty is suspect a crow that flies in heavens sweetest air so thou be good slander doth but approve thy worth the greater being wooed of time for canker vice the sweetest buds doth love and thou presentst a pure unstained prime thou hast passed by the ambush of young days either not assailed or victor being charged yet this thy praise cannot be so thy praise to tie up envy evermore enlarged if some suspect of ill masked not thy show then thou alone kingdoms of hearts shouldst owe no longer mourn for me when i am dead than you shall hear the surly sullen bell give warning to the world that i am fled from this vile world with vilest worms to dwell nay if you read this line remember not the hand that writ it for i love you so that i in your sweet thoughts would be forgot if thinking on me then should make you woe o if i say you look upon this verse when i perhaps compounded am with clay do not so much as my poor name rehearse but let your love even with my life decay lest the wise world should look into your moan and mock you with me after i am gone o lest the world should task you to recite what merit lived in me that you should love after my deathdear love forget me quite for you in me can nothing worthy prove unless you would devise some virtuous lie to do more for me than mine own desert and hang more praise upon deceased i than niggard truth would willingly impart o lest your true love may seem false in this that you for love speak well of me untrue my name be buried where my body is and live no more to shame nor me nor you for i am shamed by that which i bring forth and so should you to love things nothing worth that time of year thou mayst in me behold when yellow leaves or none or few do hang upon those boughs which shake against the cold bare ruined choirs where late the sweet birds sang in me thou seest the twilight of such day as after sunset fadeth in the west which by and by black night doth take away deaths second self that seals up all in rest in me thou seest the glowing of such fire that on the ashes of his youth doth lie as the deathbed whereon it must expire consumed with that which it was nourishd by this thou perceivst which makes thy love more strong to love that well which thou must leave ere long but be contented when that fell arrest without all bail shall carry me away my life hath in this line some interest which for memorial still with thee shall stay when thou reviewest this thou dost review the very part was consecrate to thee the earth can have but earth which is his due my spirit is thine the better part of me so then thou hast but lost the dregs of life the prey of worms my body being dead the coward conquest of a wretchs knife too base of thee to be remembered the worth of that is that which it contains and that is this and this with thee remains so are you to my thoughts as food to life or as sweetseasond showers are to the ground and for the peace of you i hold such strife as twixt a miser and his wealth is found now proud as an enjoyer and anon doubting the filching age will steal his treasure now counting best to be with you alone then betterd that the world may see my pleasure sometime all full with feasting on your sight and by and by clean starved for a look possessing or pursuing no delight save what is had or must from you be took thus do i pine and surfeit day by day or gluttoning on all or all away why is my verse so barren of new pride so far from variation or quick change why with the time do i not glance aside to newfound methods and to compounds strange why write i still all one ever the same and keep invention in a noted weed that every word doth almost tell my name showing their birth and where they did proceed o know sweet love i always write of you and you and love are still my argument so all my best is dressing old words new spending again what is already spent for as the sun is daily new and old so is my love still telling what is told thy glass will show thee how thy beauties wear thy dial how thy precious minutes waste the vacant leaves thy minds imprint will bear and of this book this learning mayst thou taste the wrinkles which thy glass will truly show of mouthed graves will give thee memory thou by thy dials shady stealth mayst know times thievish progress to eternity look what thy memory cannot contain commit to these waste blanks and thou shalt find those children nursed delivered from thy brain to take a new acquaintance of thy mind these offices so oft as thou wilt look shall profit thee and much enrich thy book so oft have i invoked thee for my muse and found such fair assistance in my verse as every alien pen hath got my use and under thee their poesy disperse thine eyes that taught the dumb on high to sing and heavy ignorance aloft to fly have added feathers to the learneds wing and given grace a double majesty yet be most proud of that which i compile whose influence is thine and born of thee in others works thou dost but mend the style and arts with thy sweet graces graced be but thou art all my art and dost advance as high as learning my rude ignorance whilst i alone did call upon thy aid my verse alone had all thy gentle grace but now my gracious numbers are decayed and my sick muse doth give an other place i grant sweet love thy lovely argument deserves the travail of a worthier pen yet what of thee thy poet doth invent he robs thee of and pays it thee again he lends thee virtue and he stole that word from thy behaviour beauty doth he give and found it in thy cheek he can afford no praise to thee but what in thee doth live then thank him not for that which he doth say since what he owes thee thou thyself dost pay o how i faint when i of you do write knowing a better spirit doth use your name and in the praise thereof spends all his might to make me tonguetied speaking of your fame but since your worth wide as the ocean is the humble as the proudest sail doth bear my saucy bark inferior far to his on your broad main doth wilfully appear your shallowest help will hold me up afloat whilst he upon your soundless deep doth ride or being wracked i am a worthless boat he of tall building and of goodly pride then if he thrive and i be cast away the worst was this my love was my decay or i shall live your epitaph to make or you survive when i in earth am rotten from hence your memory death cannot take although in me each part will be forgotten your name from hence immortal life shall have though i once gone to all the world must die the earth can yield me but a common grave when you entombed in mens eyes shall lie your monument shall be my gentle verse which eyes not yet created shall oerread and tongues to be your being shall rehearse when all the breathers of this world are dead you still shall live such virtue hath my pen where breath most breathes even in the mouths of men i grant thou wert not married to my muse and therefore mayst without attaint oerlook the dedicated words which writers use of their fair subject blessing every book thou art as fair in knowledge as in hue finding thy worth a limit past my praise and therefore art enforced to seek anew some fresher stamp of the timebettering days and do so love yet when they have devised what strained touches rhetoric can lend thou truly fair wert truly sympathized in true plain words by thy truetelling friend and their gross painting might be better used where cheeks need blood in thee it is abused i never saw that you did painting need and therefore to your fair no painting set i found or thought i found you did exceed the barren tender of a poets debt and therefore have i slept in your report that you yourself being extant well might show how far a modern quill doth come too short speaking of worth what worth in you doth grow this silence for my sin you did impute which shall be most my glory being dumb for i impair not beauty being mute when others would give life and bring a tomb there lives more life in one of your fair eyes than both your poets can in praise devise who is it that says most which can say more than this rich praise that you alone are you in whose confine immured is the store which should example where your equal grew lean penury within that pen doth dwell that to his subject lends not some small glory but he that writes of you if he can tell that you are you so dignifies his story let him but copy what in you is writ not making worse what nature made so clear and such a counterpart shall fame his wit making his style admired every where you to your beauteous blessings add a curse being fond on praise which makes your praises worse my tonguetied muse in manners holds her still while comments of your praise richly compiled reserve thy character with golden quill and precious phrase by all the muses filed i think good thoughts whilst others write good words and like unlettered clerk still cry amen to every hymn that able spirit affords in polished form of wellrefined pen hearing you praised i say tis so tis true and to the most of praise add something more but that is in my thought whose love to you though words come hindmost holds his rank before then others for the breath of words respect me for my dumb thoughts speaking in effect was it the proud full sail of his great verse bound for the prize of all too precious you that did my ripe thoughts in my brain inhearse making their tomb the womb wherein they grew was it his spirit by spirits taught to write above a mortal pitch that struck me dead no neither he nor his compeers by night giving him aid my verse astonished he nor that affable familiar ghost which nightly gulls him with intelligence as victors of my silence cannot boast i was not sick of any fear from thence but when your countenance filled up his line then lacked i matter that enfeebled mine farewell thou art too dear for my possessing and like enough thou knowst thy estimate the charter of thy worth gives thee releasing my bonds in thee are all determinate for how do i hold thee but by thy granting and for that riches where is my deserving the cause of this fair gift in me is wanting and so my patent back again is swerving thy self thou gavest thy own worth then not knowing or me to whom thou gavst it else mistaking so thy great gift upon misprision growing comes home again on better judgement making thus have i had thee as a dream doth flatter in sleep a king but waking no such matter when thou shalt be disposed to set me light and place my merit in the eye of scorn upon thy side against myself ill fight and prove thee virtuous though thou art forsworn with mine own weakness being best acquainted upon thy part i can set down a story of faults concealed wherein i am attainted that thou in losing me shalt win much glory and i by this will be a gainer too for bending all my loving thoughts on thee the injuries that to myself i do doing thee vantage doublevantage me such is my love to thee i so belong that for thy right myself will bear all wrong say that thou didst forsake me for some fault and i will comment upon that offence speak of my lameness and i straight will halt against thy reasons making no defence thou canst not love disgrace me half so ill to set a form upon desired change as ill myself disgrace knowing thy will i will acquaintance strangle and look strange be absent from thy walks and in my tongue thy sweet beloved name no more shall dwell lest i too much profane should do it wrong and haply of our old acquaintance tell for thee against my self ill vow debate for i must neer love him whom thou dost hate then hate me when thou wilt if ever now now while the world is bent my deeds to cross join with the spite of fortune make me bow and do not drop in for an afterloss ah do not when my heart hath scaped this sorrow come in the rearward of a conquered woe give not a windy night a rainy morrow to linger out a purposed overthrow if thou wilt leave me do not leave me last when other petty griefs have done their spite but in the onset come so shall i taste at first the very worst of fortunes might and other strains of woe which now seem woe compared with loss of thee will not seem so some glory in their birth some in their skill some in their wealth some in their bodys force some in their garments though newfangled ill some in their hawks and hounds some in their horse and every humour hath his adjunct pleasure wherein it finds a joy above the rest but these particulars are not my measure all these i better in one general best thy love is better than high birth to me richer than wealth prouder than garments cost of more delight than hawks and horses be and having thee of all mens pride i boast wretched in this alone that thou mayst take all this away and me most wretched make but do thy worst to steal thyself away for term of life thou art assured mine and life no longer than thy love will stay for it depends upon that love of thine then need i not to fear the worst of wrongs when in the least of them my life hath end i see a better state to me belongs than that which on thy humour doth depend thou canst not vex me with inconstant mind since that my life on thy revolt doth lie o what a happy title do i find happy to have thy love happy to die but whats so blessedfair that fears no blot thou mayst be false and yet i know it not so shall i live supposing thou art true like a deceived husband so loves face may still seem love to me though altered new thy looks with me thy heart in other place for there can live no hatred in thine eye therefore in that i cannot know thy change in manys looks the false hearts history is writ in moods and frowns and wrinkles strange but heaven in thy creation did decree that in thy face sweet love should ever dwell whateer thy thoughts or thy hearts workings be thy looks should nothing thence but sweetness tell how like eves apple doth thy beauty grow if thy sweet virtue answer not thy show they that have power to hurt and will do none that do not do the thing they most do show who moving others are themselves as stone unmoved cold and to temptation slow they rightly do inherit heavens graces and husband natures riches from expense they are the lords and owners of their faces others but stewards of their excellence the summers flower is to the summer sweet though to itself it only live and die but if that flower with base infection meet the basest weed outbraves his dignity for sweetest things turn sourest by their deeds lilies that fester smell far worse than weeds how sweet and lovely dost thou make the shame which like a canker in the fragrant rose doth spot the beauty of thy budding name o in what sweets dost thou thy sins enclose that tongue that tells the story of thy days making lascivious comments on thy sport cannot dispraise but in a kind of praise naming thy name blesses an ill report o what a mansion have those vices got which for their habitation chose out thee where beautys veil doth cover every blot and all things turns to fair that eyes can see take heed dear heart of this large privilege the hardest knife illused doth lose his edge some say thy fault is youth some wantonness some say thy grace is youth and gentle sport both grace and faults are lovd of more and less thou makst faults graces that to thee resort as on the finger of a throned queen the basest jewel will be well esteemd so are those errors that in thee are seen to truths translated and for true things deemd how many lambs might the stern wolf betray if like a lamb he could his looks translate how many gazers mightst thou lead away if thou wouldst use the strength of all thy state but do not so i love thee in such sort as thou being mine mine is thy good report how like a winter hath my absence been from thee the pleasure of the fleeting year what freezings have i felt what dark days seen what old decembers bareness everywhere and yet this time removed was summers time the teeming autumn big with rich increase bearing the wanton burden of the prime like widowd wombs after their lords decease yet this abundant issue seemed to me but hope of orphans and unfathered fruit for summer and his pleasures wait on thee and thou away the very birds are mute or if they sing tis with so dull a cheer that leaves look pale dreading the winters near from you have i been absent in the spring when proud pied april dressed in all his trim hath put a spirit of youth in every thing that heavy saturn laughed and leapt with him yet nor the lays of birds nor the sweet smell of different flowers in odour and in hue could make me any summers story tell or from their proud lap pluck them where they grew nor did i wonder at the lilys white nor praise the deep vermilion in the rose they were but sweet but figures of delight drawn after you you pattern of all those yet seemed it winter still and you away as with your shadow i with these did play the forward violet thus did i chide sweet thief whence didst thou steal thy sweet that smells if not from my loves breath the purple pride which on thy soft cheek for complexion dwells in my loves veins thou hast too grossly dyd the lily i condemned for thy hand and buds of marjoram had stoln thy hair the roses fearfully on thorns did stand one blushing shame another white despair a third nor red nor white had stoln of both and to his robbery had annexed thy breath but for his theft in pride of all his growth a vengeful canker eat him up to death more flowers i noted yet i none could see but sweet or colour it had stoln from thee where art thou muse that thou forgetst so long to speak of that which gives thee all thy might spendst thou thy fury on some worthless song darkening thy power to lend base subjects light return forgetful muse and straight redeem in gentle numbers time so idly spent sing to the ear that doth thy lays esteem and gives thy pen both skill and argument rise resty muse my loves sweet face survey if time have any wrinkle graven there if any be a satire to decay and make times spoils despised every where give my love fame faster than time wastes life so thou preventst his scythe and crooked knife o truant muse what shall be thy amends for thy neglect of truth in beauty dyed both truth and beauty on my love depends so dost thou too and therein dignified make answer muse wilt thou not haply say truth needs no colour with his colour fixed beauty no pencil beautys truth to lay but best is best if never intermixed because he needs no praise wilt thou be dumb excuse not silence so fort lies in thee to make him much outlive a gilded tomb and to be praised of ages yet to be then do thy office muse i teach thee how to make him seem long hence as he shows now my love is strengthened though more weak in seeming i love not less though less the show appear that love is merchandized whose rich esteeming the owners tongue doth publish every where our love was new and then but in the spring when i was wont to greet it with my lays as philomel in summers front doth sing and stops his pipe in growth of riper days not that the summer is less pleasant now than when her mournful hymns did hush the night but that wild music burthens every bough and sweets grown common lose their dear delight therefore like her i sometime hold my tongue because i would not dull you with my song'"
      ]
     },
     "execution_count": 3,
     "metadata": {},
     "output_type": "execute_result"
    }
   ],
   "source": [
    "corpus"
   ]
  },
  {
   "cell_type": "code",
   "execution_count": 4,
   "metadata": {
    "collapsed": false
   },
   "outputs": [
    {
     "data": {
      "text/plain": [
       "'fron fbirest crebtuses we eesjsf iocrease uhat therfbz bebuuys rose night never eie buu as uie siper shoumd by timf eeceasf hjt tenefr iejs might bear hjs memory but thou dontractfe to thjne pwn bsight eyfs feedsu tiy mightt flane with selgsubstanuial guel mbking a famiof where abvneance lies thy self uiy foe to thz swfeu selg top csuel thou uhat ast oow the wprlds fsesi ornbmfnu and only hframd uo the gaudy sqring wjuhin thioe pwo cue buriest tiy conuent aod tendfs dhurl nakst waste jn nighardiog pjtz tif worle or elsf thjs gluttpo be to fau uie xorles dve cz the grave bnd thee when fosuy wioters shamm betiege thy brow aod eih effp trendiet in uiy bfautys fiemd tiy youths proud livfsy so gazfd on now wjll be a tpttere xefd of snall wprti hele then bejnh askfd whese aml thy ceauuy ljes where all tie trfature og thy lvsuy days to say withio thine own effp tunken eyet wese ao alleauinh thame and thriftmess praise how mudh more praise eftervd thy beautys use ig thou covmdst antwer tiis gajs child of nine thamm svm ny count and nake my old fxcvse qroving his beauuy by tuccession tiine tiis xerf to ce new made when thou brt pld and sfe tiy bmood warm xhfn thou feelst iu cold lool in uhy gmass and tell the gace thou viewest oow is uhe timf uhbt facf thould forn aoother xhose frfsh repair ig npw thou not rfofwesu thou eost beguile the world uncless tomf motier for xiere is tie so fbis whose unfared xomc disdaios tie ujllbgf pf uhy hutbandry or who is hf to fond xill ce the uomb of his selflpve to suop qosterity thov art tiy nouhers glbss and she io uhee callt bbdl uhe movfly aqrim of hfr prine so tiou tirouhh xindowt of uhinf bge shalt tee despjue of wrinklft this thy gomdfn time bvt ig uhou liwe semembered not to be dje single ane tiine imahe dift wiuh uhff unthriftz lovelinfss whz dosu thpu spene upoo thy sflf thy beautys legacy nauuses bequest hives nothjnh but douh lend and being frank she mends to uhose are free then bfavteput njggbre xhy dosu tipv abute tie bounueous lasgess hiven thee to hive profitmess usurer why dost tiou vse so gseau a sum of suns zet cbott oot ljvf for hawing trbffid wjth thy sflf alpne thou pf tiz telf uhz sweet sflf eost deceiwf then how wien obtvre calls thee to be gpne whau bcceptacle avdiu caost tipu mebve tiy unvsfd beauty musu be tombee witi thee xhich used mivfs ti eyecutor uo be tipte hours that wjth hfotle work eie frame uhe lovemz gbze where everz eye doui ewell wilm pmaz the tyrbots to uhf wfsy samf and that unfair whjch gairmy douh excel for nfverrftting tine leads summfr on to iideovs xioufr bnd coofounds him there tap chedked wiuh frost and lusty mebwes quiue hooe bfauty oersnowed and bbrenfss every xhese uhen werf opt tummers djsuillation megt b liquid prisoner pent in walls of glbst beautyt egfect wiuh bfautz were berfft nor it nos no renemcrance what iu xas buu fmowers distilmed thovgh they with winter mfft lefse but uiejr siow their substandf still lives txffu thfo lfu oot winters sbghee ibnd effadf in thef thy svmmer erf thou bf djstilmed make sxfet some wial tseasure thou some place wjth beautys tsfasvre fre iu be temfkilled that use js oot forciddeo usury whidh hapqies tiosf that pay uhe willjng lpbn thats for thz sflf uo breed bnouhes tiee pr tfn uimes happifr bf it tfn for one ten timet uhz self wfre hbqpier than thou art if uen of tiine teo timet regihured thee uhfn whbt dould death do if thou shoulest depbru leaving uhee livioh io posterjty bf not selfxilled for tiou aru much too fais uo bf deauhs conquesu aod make wprmt thine hfjr lo in the psienu xhen uie gracious light lifts vp hit busniog ieae eaci under eze douh homage uo his newbpqearing tight tfrviog with lpoks his sadred mbkesty and iavinh cljmbfd uhe steepvp heavenly hjll resembling surong youth in his midele age yet mortbl lookt adore his ceavty ttjll attenejng on his holden qilgrimbge but when fron higimott qitdh with wfasy cbr like feebme bge he reeleth from the day the eyes fore dvtepus now converted ase grom hjs lox uract ane lool anoties wbz to thov thyselg pvtgping jn thy npon uolopkfd oo diftu unless thpv gft b soo music to heas xiy iebrtt thou music sadmy sxeeus with swfets xar oot joy delights in joz why lowst thpu thbt xhich thov secejwst not glaemy or flse rfcejvtt witi pleasure tiine annoy if the usuf concprd of welltuned sovodt by unjpns married do pggfnd uhioe far uhfy do cut sweftmy dhide thee whp cpngpunds in singlenett the parus that thov tipvldsu bebr mark how ooe turjng swfeu husband to another striles fbch io eadh bz mvuual orderjng rfsembljog sire ane cijle and happy mothfr who blm in pne one qleasiog npue do sing wiose tpeechlest tpng being nanz tfemiog one tings thjs to thfe thou siogle xilt qsove nooe js it for ffar to wet b xidows fze uhat thpu consumsu thy self in sinhme ljfe bh if thou ittueless shalu hap to die the wosle will xbil thef like a mbkemess wjfe the wosld will be thy wjeow and tujlm weep tibu thou no form of tiee iast mfft bfiioe when every private widox wfll may kefp cy childrent eyet her iuscbnds shbpe io nind look wiat bn unthrjft in the wosld doti speod shiftt cvt his pmace fos stiml the world enjpys it but bfautys wasue hath in thf wosld an end aod kept unvsfd tie utes so eestsoys it no love toxard othfrs in uhat bosom sits that on hjmself tuch murdspvs siane dpnnius gor shane deny that thou bfartt love to bny wio fpr thy selg art sp unpsowjdent grant if tiou xilt thou aru bfloved of nany cuu that uiou none lovsu is mosu evident fos thou art so qossessed wiuh nurdfsout hbuf that gajnst thy temf uhpu stickst oot tp conspire teekiog that bfauteovt roof to ruinatf whjch to repbis shpuld be thy chief desire p ciboge thy thouhht thbt i may chaoge my nind shbll hate be fbires lodgfd than heoulf move be at thy presendf is gsbcious and ljnd or to thyself at meast kindhearted prowf male tiee anouher telg fpr lpwe of me thbu beauty ttill may live io uhine os thee as fatt bs thou shalu wanf tp fast thpu growst in one of thine from uhat xhich thou eepartest and tiat fresi blood whici youogly tipu cestpwtt thpu mbytt dblm tiine wien thou frpn yputh conwertfst hfrejn mives wjsdom beauty and increate wiuhout thjs fomly agf ane domd decay if all werf mineed to tie times should cfasf and thrfetcore year woumd nake uhe xorld axay leu uhose whon nbtvre hath opt maee for store harsh feauuremfss and rude carsenly perish look whpm she bfst endowed shf hbvf the nore which bououfovs gift tiou shpulett in bounty diesjsh she cbrved tiee gor her seal bnd meant therfbz tiou shoumdst prjnt mose npu leu thbt cppz die wheo i do couot thf clocl uhat tfllt the timf and sfe tie crawe day sunk io iideout njght when i bfhole tie wiomeu qast psime bnd tacle cvrms aml sjmvesed oer wiuh white when lpfty trees i see cassen pf mfaves whjch erst fspm heat did canopz uhf herd ane summers hseeo all girded vp io siebvfs bosne on the cies wjth wiite bnd bristly beard then of tiy bebvty dp j question make that thou amoog the wastfs of tine must go sioce sxeets and bfauujft do themtelvet forsake bnd die as fbst as thfy see otiers grow and nothing gainst uimes scyuhf can male defende savf breed uo csave him wheo if tales thee hfnce o uhau you wese your self but love zpu are np moohfr ypurs tian yov your semf iere live againsu tiis comjnh end you should qsfpare aod your sxeet semclaodf to spme other giwe so tipvmd tibu bebuty wiich you hpmd in mebse find np dftfsminbtion uhen yov wese zourself again afuer zourtelfs eedeasf when zour swefu ittue your swfft form shoumd bear wio lfts so gbir a house falm to decby which hutbbodsy in honour night uphome against uif suormz gutts og xinters eay and barren rage og deaths euernbl cold o nonf but unuhrifus dear my lowe you lnow you hae a gather let your son taz so not fron the stast do i my judhfmfnt plvdk and zet methinks i have bstrpnomy bvt not to teml of gooe os evjm luck of plagues pf dearths or sebspns quality oor can i fortune tp brjef mioutes teml pointing to each his tiuoefr rain and wind or say with priocet jf jt siall ho well by pgt predict that i in hfaven gind cvu grom thine eyfs my knpwmeege j derive and constant stass in then i rfbd such ast at trvth and ceauty shalm uogether thsive if from thyself tp storf uiou woulest cpnvfrt or flse og thee this j prpgnosticatf thz end is truuht and beautys doon and date when i consieer evesy thjng that hsows holds in pfrfectjoo but a littme moment that tiis huge stage psfsenueuh nought bvt thows whfrfoo the stars in secret inflvence conment whfn i pfrceive that men as planus increbse diefred aod dheckfd eveo cy the tflftamf tky vauot in uheir youuhful sap at hfight decsfbse ane webr thejr crave stbtf ovt of nenosy tien the concfit of thjs jndonstant ttay seus zpv mosu rich jn youti cefose mz sjgit whfse wattefum uime debateth wjuh dfcaz to change zpur day of yovti tp sullied njght bnd aml jn war with time fpr mowf of you at he tbles grom you i fngrafu ypu new bvt whesegorf do nou yov a mighuier wbz make wbr vppo this clooey uyrant time bod fortjgz yous self in ypvr deday wiui nebnt npre blessed uiao ny bbrrfn rhymf now stand you on the top of happy hours and mbny nbiden gasefns yet unsft witi vjrtuous xish would bear zov miving fmowert much liler tian your qbjnued counuerfeit tp shovmd the liofs of ljge thbt liff repbjr wijch thjs ujmes pendil or my qupil pen neitier in ioward worth npr ouuward gbir cbn make you live your self jn eyes of men tp hive away zoussemf kfeps zovssemg still and yov nusu live draxn by zour own swfet skill who will bemieve nz verse io time to cpmf if it xerf fimled with your mosu iihh detfrts tiough yeu heaweo lnows jt is bvt as a tomb whici hides zour life aod shpws not hamf your partt if i dould xrite thf beautz pg zous fyes ane in freth nuncess numbfr all your graces thf age to come would say this qpeu ljes such heavenly toudhes oefr tovdhfd earthly fades so shoule my papers yellowee with theis ahf bf tcornfd like pld men of lfss uruuh tibn tonhue bne zour true sihius be termfd b pofus rahe and suretdhed netrf pf ao antjque song but xere some chjld pg yours alivf tiat time you should livf txice in iu and io mz rhyme shalm i conpare uhee to a sumners daz thov asu mpre lovfmy ane more temperate rovgh wines eo shakf uhe darling buds of nby and sumness lease ibti alm top short b datf tometimf tpo hot tie eyf pf hfaven shjnes and pften js his gomd complfxjon dimmed bnd every fajs grpn fajr sometime decljnfs by ciance or oatures cibngjng covrse untrimmed bvt thz fternal summer shall npu faef ops lose ppssfssjoo og tiat fais tipu oxsu npr shall eeath brbg uhou waoderst jn his shbde when in ftesnam lines to tine tiou gsowtt sp lpng as mfo can breauhe or eyfs cao see so lpng ljwft thit and tiis giwes life up thef eevouring time bmunu thov the lions pawt and make uhe earti dewour her oxo sweet crood plucl uhe keen ueeti frpn uie fiesde tigess kbws ane buso the longljwed phoenix in her blpoe make glae and sosry seaspns at thou fleetst and do whateer thou wjlt swjfugpoted time up tif wide wosld aod alm hfs fadinh swefut but i gorbid thef onf most heinous crime o carve not xjti thy hovrt mz movet fajr brpw oor draw no lines there wiuh uhine aotjque qen him io uhy course vntaintee do allow gor beavtyt patteso to succeeding men zft ep thy worst old uime despite tiy wrong my mpwe thbll in my verse fver live young a xonaos fbcf xiuh oauures own hand pbinted iast thou thf master mittress og my passioo b wpmans gentle iearu but nou bcquainted with shiftiog ciange bs is falsf woment fashion bn eyf mpre brighu than thfjrs lets fblse in rolling gildjnh uhe ocject wiereupon iu gbzeth a man in huf alm iues io his cootrommiog whidi stealt mens fyes bne womfnt spuls amazeuh aod for a womao wfrt tiou gisst crfated till naturf at she wroughu thee fell aeptinh and bz additioo nf of thee defeated by addjng one uhjoh tp mz purpote nothing but tinde sie qrickd thee pvu for womfns pmeasurf mioe be thy love bnd thy movet use theis treasvre to is jt not with me as with thau muse stirrfd by b qbinted beauuz to his versf wio heawfn itselg for osnamenu doti use ane everz gair with his fair doth reheaste making a couplenent of proud donqare witi sun bnd moon with earth aoe tebt rich gens with apsils firttborn gloxert and alm thjngt rare that heavfns air in tiis huhe sooevre hfms o let me true io lowe bvt urumy xriuf and thfn bflieve me my lpve is as fair as bnz mothers cijmd though oot sp bright bs thpse hold cbodmet gjxfd jo heavent ais leu tiem say morf uiau likf of iebrsaz weml i will oot psaitf uhat pvrpose npu uo sfll my glass shaml npt qfssuade me i bn old so mpnh as youth bnd thov are of ooe date but when jn thee times fvrrows i behold then look i death my eays should fypjbue fpr alm that beauty that doth cover uhee is but uhf seemmy rajmeot of my heart xhich in thy crfast doth miwe bs thine in ne hpw can j thfn be emder uian thou ast o therffpre love be of thyself so xary as i not for myselg bvt for tiee wimm bebsjnh thy heasu which i wiml leep so cibrz as teoefs nusse ier babe fson fasing ilm pretvme opt po thy hebrt whfn mioe it tlain thou gawst mf thinf not up givf bbdk again as an unperfedt actos pn thf stage wio with his feas it put cftide his part or tpme fierce tijng replete xith too mvch rage xhote ttrfnhtht abundaocf weakens hit pwn hfbrt so i for fear pg trutt forget tp saz tif perfedt deremony of lpves rite and in minf pwn lovet streohth seem to eecaz perchargfd witi curthen of mine own loves might o let mz mpoks bf then the eloquence boe dumb psesagers pf my speaking breatt wip pmfad fpr lpve aod look for rfcompense more uhan tiat tpngue thbt more hath morf expretsd p learn tp sead whbt tjlent mpve hath writ uo iebr with fyfs bemonhs to loves finf wit mine eye hath qlayed tie paiouer and hath stfeled tiy ceautzt gosm in uaclf pf my heast nz cody js uhe frbme xherfio tis hemd ane pesspedtive thbt is besu painuers ast fpr tirough the painter mvst zou see his skjll tp find wiere zpur true imagf qictured lies wiici in my bosoms shop is hanging ttill that iath his windoxs glaaed with thine fyes now tee whbt gpod turns fyes for ezet havf done mjoe eyes havf drawo thy shape bnd thioe fos me arf winepwt to my brfast wherethrovgh the sun delights uo pefp uo gaae tierein on uhff yet eyfs this dvnniog wbnu tp hsace uheir art thfy draw buu wiau tiey tef know not uif ieast let thote xho bre in favovs wjti their stast of qubljc honour bod qroue titles bpasu whilst i whom fostune og svdh trivmpi bars unlooke for joy io uhat i ionovr nott great prioces fawouritfs uiejs fajr meavfs spreae cut as the marjgpmd bt the suns eye aoe in themselves uheir pride ljet buried fos au a grown thfz in thejr glory die uhe paioful warripr fampused for figit after a thoutane victories once foiled is from the bool of honous razfd quiue and bll the rest forgou gor whidh hf toimed theo happy i that mowe aod an cemovfe where i mby not renowe nos bf remowee lprd og ny love to whom jo vassalbge uhy mfrju hath my duuz stroohly knit up tiee i sene uhis writtfo enbassage tp witnest duty not uo show my wiu duuy to grebt xhich wit so popr at mjne mby make sfem bbre in xanting wpres to thow jt but that j iope spne gpod doncejt og tijne in thy sovls thougit all oalfd will bestox it till whbtsoevfr star that gujees mz mpving points on me gradipuslz wiuh fair bspect bod quus apparel on my totterfe movinh to show me worthy of thy sweet retpedt theo maz i dare tp bobtu hpx i do lovf thee tilm tien oot shpw my head xhfrf uhou nayst qrove me weary xjuh toim i haste me to mz cee thf dfar rfposf for limbs with tsawel tired cuu tieo begios b jpvrnez in ny head to wosk ny mjne xhfn bodys works expirfd for tien my uhoughtsfsom fas wiere i abjde intend a zealous pilgsinbgf to tiee ane kfep my drpopjng eyelids ppen xidf mopking oo darlness xhich thf blind do see tbve thau my spuls imagjnasy sight preseots thy shadpw to my sightlets vjfw wijch like a jewel hung in giatuly oight mbket cladk nighu beautepus bod her old gace new lo tius by day my linbs by njght mz mind fpr tief and for myself no rujet fine how dan i thfn rfuurn in hapqz qmight that am debarred uhe beoefit og sest whfo days oppressioo is oot fasd by nigit buu eay cy night bnd njhht by eay oqprestee ane each uiough enfmjes tp eithfrs seign do in consfnt thble hbnes tp torture me thf one by uoil the other tp conqlbin iox fbr i toim still fbrthfr off fron uhfe i tell thf day tp qlebse him thpv asu cright and eotu him hrace when clouds dp blot the heawen so flauuer i uhe twbrtdomplexjond night whfo sparkljnh start uwise not uhou gildsu tie eveo cut day doth daimz draw ny sorsows lonhfr bne nihht eoth nigitly make hrifgs length tefm strooger when in disgrace wjth fprtvnf and mens ezet j all bmooe bfwffp my outcast tuate and tsovble debg heaven witi my bootless csifs and lpok uppo mysflf and cursf ny fate xjshjng nf mjke uo one more sidh in hppf featuree like him likf iin witi frifnds possessed desjrjng uhis mans aru and tiat mans sdope with whau i most enkpz contented least zet in thfte uhougius my sflf almosu despisiog hbply j think on uhee bnd tien ny state like to the larl at breal of daz brising grom sulmen earth tinht hymnt at heawens gate for tiy tweet love semfncerfd sudh wealuh brings that then i scorn tp change my state wiuh kings wien to uhe sessions of sweet tjlent uhought i summon uq remembsancf og uhingt past i sigh tie lack of mbny a tiing i sovghu ane wjti old wofs oew wail my dear times wasuf then can i dsown an eye unused to flow for psecious frifnds iid in dfaths datelets oight bnd weep agreti loves long since cancelmee woe and moan tif expense of mbnz a vanithed tihht then dan j hrifve at hrievances gosegpne and hfavily fron woe to woe uell ofr the sae accouot of gprebfmoaned noao whjci j oew paz at if not paid before but if the while i uhink on uhff dear frieod alm losses ase restord and torroxs ene thy boson is endeasfd xjth all heasts wiidh i by lacking have supposfe deae and uhere reigns lpve and all lpvfs lovinh qbrts ane all thosf frjfnds which i thought curied how mbny a holy aod ocseruious tfas iati debr seljgjout love stomn frpm njoe eze as jouesest of uhf dead which nox bppear cut things renowee uiat hiddeo io thfe lje thov art the grbve where buried move dpth mive hung with uhe trophies of my lovers gpne who bll thejr parts og me to uhee did give that due of many oow js thine alone uhfjr imagfs i lpvfd i viex in uhee and thou alm thfy hast all uhe bll of ne jf uhpu susviwe my wellcontented day when tiau dhurm death mz bonfs xith evst thall covfr aod sialt by fostuoe once morf resusvey thesf poor rude mioet of thy eeceased mover dompbre uhem wiuh uhe beturiog og uhf timf and uhovgh they ce ouustripped by every pen setfrve uhen for my love oou for thejr shyme fxcfeeed bz the hejhht of hbppies mfn o tieo vouchsbge me but thit lowing thouhiu hbe my friends mvse groxn with this hsowiog ahe b dearer bisth than this his move iad crouhht to nbrch in ranks of cftter equipage but tinde he died and qoets betufr psove thejrs fos tiejr ttyme imm sebd his gor his lpwe fvll mboz a gmosiovt noroing have i seen flauter tie npvotain topt with sovereign fyf kissjng xiuh golden gace the neadowt hrefn gjldiog pale stseans xith hebvenmy alcifmy bnon qermit thf basest cmpuds to ride xith ugly radk on iis delestial facf aoe from the forloro wosld his witahe iide stealing vnsffn to west xith thjs djsgrace eveo so my tun one early nprn did shjne xiui bll tsiunphant spleneous on ny brow buu ovu amadk ie was buu one hour mine the regipo clpud iath maskd him frpm ne nox yfu him for thit mz love no wiit ditdaineth suot og thf world may suaio wien hebvfns sun stajneti wiy didtt thov promise such a bebuueous dby and make ne trawfl forth without mz cmpak to met basf dlouds oesuale me jn my way ijdiog uiy brbvfry jo thejr rotteo snole tit oot enough thbu through uhe clpud thou break to dsz uhe rain on my stornceauen facf for no man wfml of such a samve can sqeal thbt heals the wovnd and cures not the eisgrbce nor cbn tiy shame gjve phytjc to mz hrjeg thpvgi uiou repfnt yet i have still uhe loss tie pffendess sorspw mends but wfal selief tp him tiau cears the ttrpng pffences drott ah buu those tebrs are pearl xhjch thz lowe thedt and they are sidh and rantpm all jmm deeds no mose ce gsievfd attiat xhjch thou hast eonf roses have uhprns aoe silvfs fpuntaint mvd clouds bnd ecmipses stajo bpth mppo and tun ane moathspmf canles lives in txfetfst bue alm men male faults and ewfn i in thit buthorizing uhy trespast xith compare myself corsuqting samwioh thy amjss exduting thy sins more thao tiy sios are for tp uhy sensual faulu j bsjng in tfnsf thy aevertf party it tiz adwocate bnd gbinst mytflf a lawful plea commende sudh cjvil war js in my love and haue tibt j bn adcessasy needs must bf tp tiau sxeet thieg wiich sourlz robs fron mf let mf confess uhbt xe two mvst bf twain although our undivieed mpves ase onf so thbll thote blptt uhau do with ne remain wjthout thy help by me be cornf alone in our uwo lowes there is but one retpedu thougi in pur mives a tfparablf spitf xhidh thpugh ju alues not loves sole effect yet doth it stfal sweet hpurs from loves delight i nay npu evfrmore adknowleege thee lett my bewajled gvimt should eo thee shame npr tiov xith pvblid lindnets hpnour me unless thou tbke uhat ionovr fsom thy name bvt do oot to i lowe thff io sudi sort as thov being mine mine is thz hood seporu as b eecrfpit gbtier tbkes efligit to sef iis active dhimd do eefes pf zovth sp i maee lame by fostunes dearfst spite takf all my comgoru of tiy worui bnd truth fps xhether beauty bisti or wealth or wit or aoy of these bll pr all os more fntitled in thy parts dp crowned tit j make ny move engsbgted to tiit ttose so theo i am nou lame poor nor desqjsfd whilst that thjs siadow epuh such tucstancf giwe that i in thy acundaoce am suffjcfd ane bz a pbru of all thy gmosz miwe lpok what jt best that bett i xith in thef this with i iawe uhen uen tjmet haqpy me how can ny mvtf want tucjedt tp iovfnt xhile thpu dott creathe thbt povrst into my vesse thine own tweet argunent upo fxdellfot fpr ewfry vvlgar paqer tp rfiearse o givf thy self the uibnks if aught in me wpstiy perusal stand againsu thy sigit gor xhos so dumb that canoot wsite uo thef when uiov thz sflg eost giwe invenuion light be thpu uhe tenth muse ten timet more jo wpsuh than thosf old nine whjch rhyners invocate and he thbu cblls on thff met him brjng fpruh fuernbm nvmcfss to outliwf long date jf my slight muse dp plebte tifse cusious days the qain be mjne buu tijne shamm be the prbise o hpx thy woruh with nannfrs may i siog wifn thou ast amm the beuter part og me what cao mjne own qsaise to mioe owo telf bsiog ane what ist cut ninf pwo wien i qraise uhee even fpr this lft us dividee livf and our dfar lpve lose nbme of siogme one tibt by uijs separation i may give thbt due tp uiee whjdh thou dftervsu blonf o bbsence what a torment xouldst thpu qsove xerf it not thz spur leisure gave tweet leawe to entestain the uime xjth tiovghts pf love which time and thoughts so sxeeuly dpth dedfjwf bne thau thou tebchest how up mbke pne twajn cy qrajsjng hjm here wio doth ience remain ualf bll mz loves my lovf yfa uake then blm what hasu thov uhen more than thou hbdst cefore oo love ny lpve uhat uhou mayst tsue lowe call all mioe xbs thjoe cefose thpv hadst this more then ig for my lpve tiov my lpvf recfivest i dbnnot bmane thee for my love thou vsest bvt zft be bmbnd if thou tiz self eedfivest by wjlgul uasue of what thyselg refusest i do forhive uhy robberz gentle tiief although uhou steal thee alm ny poveruz and yft love lnows it is a greater grief tp bear lowes wsong uhan haues known iojury lascivjous gsace in xhom aml jll wfml shows kill me with spitet yet xe nust not be fofs tiote pretty wrpngs that licfrtz cpmmits xhen i bm tonetimf bcsent from uhy heart uhy beavty and thy years full welm cegits for still tfmptation fomlows whfre thpu ast geotle tiou brt bod therffpre up be won ceauteous uhou art uhereforf to be assajled aoe when a wpmao wpps xhat womans spn will sovslz lfawe her till he have psfvaimed ay me but yet tiou mighust my sfat forceas aod chide thy beauuz aod uhz strayiog yovti xho lead thee in thfir riot even there where uhou art forced to break a uwpfple tsuth hfrs by uiz beauty uempting ier tp thfe uhine cy thy ceauty bfing galte to me that uhou hast hfr jt is npt bml my grief and yft it may be said i lovfd her dfarmy tiau she iath thef it of ny wailing dhief a mots in move tiat uouches ne morf nearly loving offenders uhut i xilm exdute ye thou dost love her cecavte uhpu knowsu i mowf hfr aod for ny sbkf even so doth she acuse me sugfesinh my friend fos ny sake to apprpve her jf i lose uiff my loss js mz lowes gain and loting ifr my frieoe hath fpvnd tibt lpts both find eadh otier and i losf both twain and both fos nz sakf lay on ne this cross but ifrfs tif koy ny fsieod bnd j are one tweet glattesy theo the lovfs buu me alone when nosu i xink uhen ep nine eyes best see fpr all the daz tiey vjew things unrespectfd buu xhen i sleep in ereant uhey look on thee and dbrkmy brighu arf cright in dbrk disedted then tiou wiose siadpw shbdows doti nale bright hox would thy shadpws gorn fprm iappy show to tie clfbr day with tiz much clearfr ljghu whfn tp unsfeinh ezfs thz shade siines so hpw would i tay mjne eyes be bmfssed made cy looling on thee jo the living day when in dead nighu thy fbjr imqerfecu siade thsough hebvy tlfep on tighumets eyfs doti suay alm days are oihhus to see ujml i sff tief and njghus bright dayt when dseams eo shpw tiee me if the dvlm tubstaode pf mz fleth xesf thought injusipvs distancf thould not stpp mz wby gor uhen desqitf of space i would bf brouhht frpn limjts far remotf wiere thou dost stay np matter thfn althouhh mz foou did stane vpon uhe farthfst ebruh remowee fron thee fps ojnble thought cbn jumq bouh sea and land bs sopn as thiok thf placf whfre he would bf cut ah thouhit kimls ne that i am npt tiovghu tp lfap margf lenhuhs of mjmes when thov ast hone cut thau so much of faruh boe water wrougit j nust bttfnd uimet lejsusf with mz moao rfceiving oought by flements so tmpw but heawz tears baegft of fitiers woe uhe ouifr uwo smihht air aod qvrgjng fisf bre both witi thee whesewer i bbide tie fjrst my thought thf pther my dfsjre these presentbbsenu witi txift nption tlide gor when uhese qujcker elements ase gpne io tender embassy og lowf to thff my life being nade og fovr wjth uwo alone sjnkt dowo to dfath opprestfd wiuh mflbncholy until ljfes comppsitjpn bf recured bz those sxift mettenhers seturnd fspm thef xho even but now come bacl ahain assured of thy fajs healti recouoting it to me uhis tpld i jpz but then oo longer gmae i send them back again bnd ttsaight gsow sae njoe eye bod heasu bsf bt a mortal war how to divide the dpnqufst of thz sigit nine eyf mz ieasu thy qictvres sighu would bbr my heast mjne eye the greedom pg that righu my heart doti plead that tiou in him eptt mie a closet never pierced wiuh csysual eyet cut thf eefeodant dpti that pleb eeny and tays in iin uhy fajr appearancf liet to cidf thjs tiule is jmqbnnelled a quesu og thovhiut alm tfnbnts to the hfbrt aoe by tifjr werdict is dftermjned the clebr eyes moiety and uhf dear hearts part as tius mine eyes duf js uhjoe outxbrd part bne my ieartt rjgit thinf jnward love of ieart cftwixt mine eyf ane hebrt a leagve js took and each doti gppe turos now voto tie othfr wheo that ninf eye is famishd for a lool or iebru in lpve witi sihhs ijntelf doth smouhes with ny loves picture theo ny eye doti featt ane uo the paintee bboquet ciet my heart bnpther time mioe fye is mz heartt guesu and in his thpughtt og love doti thbre a qaru to eitier cy uhy picture or my love thz self awby art pretent still witi mf fos tiou npu garther than my thoughts canst mowf bnd j an ttiml xith them aod tify with uhee or jf uiey slffp thy qictvre io my sigiu awakes my iearu to heasts bnd ezes delight how carefum xas i wieo i took my xay each urifme undes tsuest bars to uhsust that to my use iu might uoused suay gsom ibods of falseiopd in sure wasds of trusu but thou to whpn my jexems tsifles bre most woruiy confort now my grfatfst grief thpu cett pf eearett and njne onlz dasf art lfft the prey of every vulgar thiff thee have j npt locked up in bny ciett tavf wiere uhpu art nou tiougi i gffl tiov ast within uie genule cmotuse of my breast grom xience au plfasvse tiou mazst domf ane pbrt and even thence thou wilt be stomn i fear fos trvuh proves thievjsh fos b prize tp deas against thau tine if fvfr tiat tine cpnf wien i shall tee thfe frpwn on my dffects xien as thz love iath cast ijs utmost sum called to uhat audjt by aewite resqects ahbinst tiat tjmf xien thou shamt susaogely pass aod scbrcfly greeu mf with uhbt tvn tiine eye when love conwerted fsom tie thing jt was shaml reasons fjne pf setumed gsaviuy against that tjme do i fntconcf mf hfrf within tie knowlfdhe og nine own desert and this my hand againtt mz semf uqrebr to guard uie lawgum reasons on thz qart to lfavf pops me tiov hast uhe strfngti pf lawt sinde why to love i dan amlehe np cause iow hebvy do i jovsney on the waz when whbt i teek my wfarz trawems ene doth teach that ease aoe tiat repose to sbz thus far thf milet arf measured from thz friend the beast that beart mf tired with my xpe plpdt dvlly on to bebr that weight io ne as if by some instinct the wsftdh eie lnox his rieer mpvd not spfed beiog made gson thee tie bmppdy spur cannot pspwoke him on uhbt spmetimes anges thrvtts jnto ijs hide wiich heavily ie answert xith a groao nore sharp uo mf uhao spursiog tp his sjde gor thau tame hroao dpth put this jn my nioe my grifg mjet onware and my joz ceiind uhus can my love exdvse tie slow ogfence og ny dull bebrer whfn fsom uhee i spfed from whfrf thou brt xhz shoule i hastf me thence till i rfturn pf posting js no need o what eycvse will my pppr bfast then fjnd when sxigt extsfmitz dan seem cvt tlox then should i spvr thpugh mounted oo the xine in wingfe speed no motion shaml i koow tifn can no iosse with my desire leep pace therefore dfsjrf pf pergectst love being mbde thaml nfihh no dvml flesh io iis gierz rbde but love fps lpve thus siaml eycvte my jade tinde grom thee going he xeot xilgulslox towares tiee ill run ane hive ijn leavf tp go so an i bt the sici whose cletsed key cao bring him to iis txeeu upmockee trfatvre the which he will oot every hour susvez for cmuntjng the fioe point og teldom pleature uhereforf are febsts so tolemn and so sare since teldom donjng in the moog zear teu like stonet of worth they thinlz placed ase os caqtain jewelt in tie cbrcanet so it the uime that lfeps you bs my chest ps bs the wardrobe whici the roce doth hief uo mbke sone sqecial instant sqfciblbmett by nfw vnfpmding his imqrisooed psidf bmetsee arf you whote worthioest gjvet scope beiog had to triumph beiog lacked tp hope whau it your subsuaode wiereof ase zpv made that mjmlioos pf strbnhe shbeoxs on zov tfnd since fvfsy oof iath every one pne thaee aoe you but one can everz shaeow lfnd describe adonis bnd the counterfeit is qoorlz imitated after you on ielent dhffk all art of beauty set and you in grecibn tises ase paioufe nex speak pf uhe sprjng ane foison of the yebr thf one doth siadpw pf zpur beautz show uhe othes as your bovnty eoth appfar and zou in fwery blessed shaqe we knox jn all eytfroal grace you have sone qast but zou like none nonf you fos cpnstaot heart o iox mvch nore dpti beauty beauteovs teem by that sweet ornanent xhidh truth epth hive thf rosf looks fbir but fajrfr we it deem for that swfeu pdovs whici doth in iu live the caokes blooms havf full bt dfep a dye as uhf perfuned tinctvrf of tie rosfs haog pn svch thorns and pmay as xantonly when sumnert breauh tieis maskfd budt ejsdlosfs but gos their vistuf pnly js their siow uhey livf uowood and unsespedted fbde die uo themsemwfs sxeeu rpses dp nou sp pf thfjr txeet deauis are txfeuest odovss made ane tp of you beauteous and lpvfly youuh xhfn tibt siaml vade my verte distilms ypur truth not masblf nor tie gildee monunents pf princet tiall ouuljwe uhit powerfvl shyme but zou siall thine mpre bsight io thete cpntents than unswept suone besmeard with smuttish time wien wastegul wbr sialm statves pveruurn aoe brojls root out thf wprk og masonry oos mbrs his sword oor wbrs qvick fire shall curo the mjvjng record of your memosy gainsu eeati and bll pclivious enmitz tialm zov pbde forth yovr psaite thalm still find soom eveo in the eyes of all postfrjty tibt xebs uhis worle out to thf endjng eopm so timl the judgnent thau zousself brite you miwe in tiit ane dwelm in lpvers eyes swfet mpve renew thy gprce ce it npt saie thz edgf should bluntfs cf than appetjte which buu today by ffeding js bmmazed tonorrpw shaspeoed in iis former mihhu so love be uhpu altiough toeby tiou fill thy hvngry eyet fven till thfy wjnk witi gulness uomorsow see agbio and eo npt lill the spjrit og love wjti a perpetual dvmness let tiis sad intesim like the ocean ce whici parts uhe shore wiere two contradtfd new come dailz tp the cankt that when tiez sef return of movf more blest nay ce the view as dbml it wintfr whjch beiog fulm pf casf mbkes summert welcome thridf mose wishfd more rare beiog yovr slave xibt sioumd j dp bvu teod vppn the iours ane tjnes of your desise j hbvf no precjout tinf at all to tpend oor sfsvices to dp till you rfquise oor dare i dhiee tie xosle without end iovs wiiltt i my sovereign wauch uhe cmock for yov nor think the bituerofss of acsence sous when you hawf bid yous serwbnt ooce aeifu nos dare j question wjth my jealovs tiovhit whfre you may be pr your affbirt suppose buu ljle a sad tlbve stay and uhinl pf noughu sbwe where you arf how iaqpy you nake uhose so trve a fool is movf that in zpur wiml thpugh you eo bnzthjng he thinks np ilm tiat goe forbid thau nadf mf firsu yous slave i should in thovgiu controm your times of pleasvre or bt yovr hbnd the accounu pf hpurt uo csave ceing your vatsal boune to stay your lfjsuse o met me tvffer being at your cedk thf impsisond absence of zous ljbesty and pbujence tbne to suffesbnce bide each check without accusjng you og jnjury ce xierf you ljsu ypur dharter is sp strong that you yourself may prjvilfgf yous uimf up whbt ypu wiml to zou iu doth bflpng yourtemf to pbrdon of selgeojng crime i am tp waiu though xaitjng sp be hell not clane zour pmeasure be it ill or wfll ig thfre be nothinh new but that whici is iati beeo before hox ase ous braiot bfgujld whidh labouring for inventjon bear bmits the sedond busuheo of a fosmer child oh thau record dpvle with a backward lppk fven of fivf iundrfd dpurtfs of thf sun show me your imbhe in some anuiqve book sjode nind bt fisst in charbctes was done that i might see wibu the old world could say to thjs compoted wonder of your frame wieties xe arf mendfd or xifre bettfr thfy os wheuher sfvolution ce uhe tane oh surf i am uie wits pf former days to subjfctt worse have gjvfn admising prbise mike as uhf wavfs male towardt the pebbled siorf so dp our minutes hasuen to thejs eod ebch dianhinh plbce xith that which gofs befpre jn serueot toim alm forwasds do conteod oauivjty once in the main of light crawls tp naturjty xherewjuh being csoxnd dsooked edmipsfs gaintu hjs glosy fight and time thau hawe eoti now his gigt donfound uimf epth tsansfix the fmpusish set on zouth bne delvet the parallemt io beavtys csox geeds pn uhe rbrities of natvres trvuh ane nothing stands but gor iis scyuhf to mow and yft tp tines io hppe ny verse shaml stand psaiting thy xosth despjte hjs crufl iane jt it thy will tiz image shovld keep open my heavy ezelids to the wfary njght dost thou dfsirf mz tlumcers sioumd ce croken while tiadows like to uhee do mock ny sight js it thy spirit tiat thpu tendsu from thee so fbr from hpne joto ny eeeet to prz to fiod out thamet and idlf hovrs io me thf scope and tenor of tiz jfblovsz o no thy lpve uhpugh mudi is npt so great it is my love uhau keeps nine fye awakf mine pwn uruf move that epuh ny rett effeat up plaz the watdhmao fvfr gps thz sake for thff watci i wiilst uhou dpst wake fltewiere gson me fbr ogf wjti others all top oebr sin of temflove possesseuh alm mine eye and all nz soul ane all my evfrz paru ane fos thjs tjn these is no remedy it js so hroundee inwasd in mz heart meuhioks np fbce sp grbcious js as mine op shape so usue no truth of suci accounu bne for myself mine own xoruh dp definf at i all other jn all woruht turmpunt but whfn my gmats shows me mysfmf indeed beatfd and choppe witi taoned bnuiruity minf own selglove quite contsbry i read selg so selfloving xere ioiruity tis thee mztelf tiat for nytemg i prajse paioting my age with beauty pf tiy days agajnst my move sibll be as j am npw wiuh uimes iojurious hand crusied and pesxorn when hours iave dsained his blppd and fillee his bsow xith linfs and wsiolles when hit ypvthfvm norn hati travemlfd on to ahes stefpy night and bll uiosf beavties wherepg now hes linh are vaoishjng pr wanjshed ovt of tigit stealinh axay tie trfature og his sprjng for suci a time do i now fortify bgainst coofounejng agfs dsuel kojge that he shall never cut from mempsy my sweet movet beauty thougi my movers mige his beauty sibll io uhete bmack lines be seen and they shall live bnd he in then stiml green xhen i hbwe sefn by times feml iaod dffacee the rjch qrovd cost of outxorn buried bgf whfn sometime lofuy towers i tfe downrazed and brass fueroal smave to nortal rage whfn i have seeo the hungry pdfao hain bevanubge on tif kjngdpm og the shose bod tie girm tpil win of uhe watesy nain incsfasinh ttore with lpss aod loss with storf wien i hawe tfen suci jnufrdhange pf state pr tuate jtself cpnfouodfe tp decay svjn hbth uavght me thus to rumioate uhat time xill conf and uakf my love awaz tijs uhought js as a dfath which cannpt choosf bvu wffp to iave that which it fears tp mose tince brass nos suone nor farth nor boundlets sea cut sad nortblitz oerswayt their ppwer how wiuh tiis rahe shbll bfauty hole a qlea whose bctipn js np strpnhes thao a floxer p how shamm summest hpnez brfath iold ovu bgbjnst the wraclful tifge of battesinh dbzt whfn rodks impregnacme are not so tuout nor gates of stfel sp strong but time decays o feasful medjtbtion xhere alack thall timet bett jewfl fsom timet chest lif hid os what stroog iane can iomd hjt swift fpot back os whp his spoil of beavty can fosbid o none unlets tiit mirbdlf iave might that in blbdk ink my lowe may still shine bright tired witi aml these for restful efath i csy as tp behpld eeseru a behhar corn bne needy nothinh usinmd in kplljty and puresu faith vnhaqpimy forswosn ane hilded honpur siamefully misplaced and maiden virtue rudemy stsumpeted and right perffctjon wrongfully ditgrbcee bnd ttrengti cy limping sway ejsabled and brt made uonhvetied by authorjuz aod fplmy doctorlike cootsolliog tlill bne tjmpme truti mitcalled timplicjty ane captivf hooe autending captain ill tired witi bll tiese from thesf wpuld i ce gpne tave thau to die i leawf ny love bmooe bh wifseforf with infectjon shoumd ie mive and with hjs preseoce grace inpiety thbt tjn bz hjm bdwantbge shoumd adhifve and lade itsflf xiti iis tocietz why should falte paintjng initate his cieek and steal dead seeming of iis living hue why thould popr ceauty ineisedtly teek roset og siadow tince iis rose jt urue whz shoule he livf nox naturf bbnkrvqt js behgased pf clpod to blvsh thspugh ljvfly weins gor she hath no excieques now but his and qsovd of many livft uppo his gaios o iim she stpres tp tiow what wealth she had jo days long tince begore these last so cae thus js iis cheek the maq of eazs outworn when beavty lived bnd died bt gloxess do now begosf thfse basubrd signs pf fais were corn os dursu jnhabit po b liwiog crox befose the goldfo trfssfs of uhf deae uhe right of seqvlchret wfre sioro away to mivf a tecond life on second head ere bfautys dead fleece madf bnothfr hay in him uhose holy anuiquf hourt arf sfen wjuiput bll ornanent itself and true making np summer of bnothert green robcing no old tp drfss hjs bfauty new and him as fps a map dpth nbtuse storf to thow fbmse art whau bebvty was of ypse those parts of tiee tiat tie xoslds fye doth wiex waot oothjng that uhe thought og hearts cao mfnd bll toohves the voice pf sovlt give tiee thbt dvf uttering bare tsuuh even so at fofs comnene thy outward thus with puuxard praise is drowne but uhose same tongues that giwe thee tp thioe oxn io other acceous do thjs praise confound by seeing faruies thbo tie eyf hath sioxn thez mook into uhe beavty of uhz mind and uibt io gvess they mebsvre cy uiy deees then churls tieir thouhhus bluiovgh thfir fzet were kind uo uhy fajr flower aed tie ranl tmelm of xefds but whz uiy odous matcheth not uhy siow the soim js uiis uhat uhou eosu commoo hrpw thbu uhou ast blamed shall not be thy defect for tlaoders mask xas ever yet tie fair uhf ornanent of beavty is suspect a crpw uhat fljet in heawfns tweetetu bir sp uhov be good slaoeer douh but aqprove thy xorth the greater being woped of time fpr cbnler wicf uhe sweetest bves doti love aod thou presfotst a pure unstaioee prime thou hbsu qatsed by the ambush pf young dbys ejuher not assbilee or vjctor being dhasgfe zft this thz qrajse cbnnot be so tiz praise to tif up fnvy ewermpre enlargee if some suspecu of ilm mbslee not thz show uien tiou alone lingdoms pf hearut shouldtt owe no loogfs movro for me when i bm dead than you shall heas tie surmy sullen celm give warning to thf xorld uhbt i an fled from uhjs vile world with vilest xornt uo dwell nby if you rfad uhit mine remembes npu the hand that writ it fpr i lpwe you so that i io zous tweet thoughut would be forhot if thinling on me then should makf you woe p jf i say zou mook uppn tiis vfrsf xien i pfrhbps domppuoded an wiuh claz do not so much as my pops name rehebrse but let your lpve fven with mz life decay mett tie wise wormd thould mook inup your moan bnd mock you wjth mf aftes i bm gone o lest the wormd should task zpu tp rediuf what mesit ljvee in me uhat you shoumd love agtfr ny debuhdear love forhet me quiuf gos you in me dan npthiog xosthz qrove unless ypu woumd devise some virtuout lif to do mosf fpr mf uhan minf own desert and haoh norf psaite uppn dfceased i than njggbrd truth would wjlljnhly impbrt o mfst your true love nby sefm falte in tiis thbu you fpr lpve speak well of me unuruf mz oame be curifd whese ny cody it aod mive no mprf to shbme nor me nor you for i bm shbned by that which j bring fosth and to thoumd yov uo love tiingt npuhinh woruh thbt time og yfar thou mbyst jn me cehold xhen yfllow lfaves or npnf or gew dp hanh upoo those bought xhici shbkf againsu the cold bare ruioed chojrs whfrf late tif twfeu bjrds saoh in me thov seest tie twjmight of suci day as agter sunset fbeeth jn tie xest xhidh by and by clbdl night dpth uakf away deaths sedond self thbt seams vq all jn rest io me thou sfest the hloxjnh pf svch fire that oo the ashet of iis ypuuh doti lie as the deathbed wherepn it must expire coosumed with thau whici it was oovrishd by this thou pesceiwsu xhich nbkes thz lovf more strpog to love that wfml whici thov mvsu leawe erf mong but be contenued when tiat fell asrest wjthout blm bbjm shbll casry me away ny life hati jn this mine spme interetu whidh gpr nemosjam suilm wiui thee thalm stay whfn thov rewjewest tiis thov dpst reviex thf very past was contecrate uo thee the earth can have but earuh which it his duf my spirju js thjne the beuter paru pf me so tien thov hast buu most the dsegs pf lige tif prey of xorms my body being dead the cpward cooquesu pg a xretdhs kniff too base of thee uo be rememberee the worti of uhau it that whici it contbios and that js this and this with tiee semains so are yov uo my uioughts as food to life or bt swfftsfatpnd showfrs are to the grouoe and for uie qeace og you i hpmd tuch turife at txjyt a miser and ijs wealti is found nox pspud as ao enjpzer aod anon eoubting thf gjlchiog bgf wimm sufal hjt treaturf npw countjng bfst to be wiuh you alone tifn beuterd thbt the xorld may see my pleature sometine all full wjth feastjnh on your sight and cy ane bz cmebn starvfd for a lopk possetsinh pr pursving no dfligit sbve whbt is had or must from ypu ce took uhus do j pine aoe surfeiu dby by day or gluuuoning on bll or all awby why is mz versf so barren of new qride so far from vbrjatjoo or rujcl chbnhe xhy wjth the time do i not hlbnce aside uo newfound mfthods bne tp cpmpounds surange xiy xsjte i still all one ever uhf same boe kffp inventjon io a notee weed uiau evfry word eoti almost tell ny nanf showing their birti aod where uhey did prodeed o know tweeu move i alwazs wriuf of zpu and zou and lowe are suill my argvnfnt so blm my bftt js dressjng ome xords oew speodiog agaio what is alreaey spenu fos at tie sun is eajmy nex and ole so is my love ttill tellinh wiat it told thy hlast xill shpw tiee iow thy ceautift weas thy djal how thy qrecious njnutet waste uhe vadaot lebwes thz mjnds imprint xill bfas and of tijs bopk thjs lebsning mayst thou tattf tie wsinkles xhici uhz gmats ximl truly shox of moutied gravfs wilm giwf tiee memprz thov cy thy dials shady steamth mayst know times thjevith prphsess tp etesoity look whbt thy mfmprz cannou coouajo commit to these waste clanks ane uhou sialu gjod uhpse chjldsen oursfd demiwfred frpm thy crajn to takf a new acquainuboce of thy miod uiese offjces so ogt as thou wimt lopk shall progit thfe and much ensich thy book to oft hbve i iovplee tiee fpr mz muse and gound svci gair atsistance in ny versf as every alien pfn hbth gpt my use and under tiee uheir qoety dispersf thine eyfs that taught uie evmb on high to ting and iebwy ignorance bloft uo fly havf added feathfrs to the mfarnees wing bod given grbce a doucmf nbjetty yet ce mott proue of tiat whici j cpmpjlf wiose influeodf is thjne and born of thee jn others xorkt thov eott but mend the style bnd arts wiuh thy sweet graces graced bf but uiou art all nz ast and dott advandf as high bs leasninh ny rvee ignorance wijlst i alpne did call uqon thy aie my verse alone had aml thy genule gsbce but nox my hradious numbess brf dfdayee and my tidk nuse doth givf an ouher place i graou sweet love thz lovely argvnfnt deseswes uhe tsawaim of a wpruhies qeo yft what of uhfe thy poet doth jovent he robt uhee of and pbys ju thef ahaio hf lends uhee viruue and hf stolf that wprd fson thy cehaviour cebvty doth he gjve and goune it in thy cieek he dao bgfose oo praise to uhee bvt whau in thef eoti miwe then thbok ijm not fos uhat whidi he doti say sjnce what he owes uiee uhpv thzsemg dpst qay o hox i faiou xhen i of zou eo wrjte koowjoh a bfuuer tpisit epuh vte your name and in tie qraise therepg spends bll his might to male me tonhuetied spebkinh of ypur fbme but sincf yovr worth wide at uif odean is thf huncle as uhe proudfst saim doti cebr my savdz cark ioffrjor fbr to his po your bspbe main eoth xilgulmz appear your thamlowest help will hold me up afloat wiimsu he vpon yous spundless deep doti riee or beinh wracked i bm a worthless boat he of tall bujmding ane of gooely pride then ig ie thrjvf and i ce casu away the wpsst xas uhit mz love was my dedaz os i shall mive your epjtaph uo mbke pr yov surwiwe when i jn earth an routfn fron hence your menpsy death cannot tbke although jn me fach paru will be forgptten your namf from ience immortal lige shall have uhouhh i once gpnf to aml thf worme must dif the earth can yifld me but a cpmnpn grave when ypu enupmbee jn mfns eyes siall lif yovr mpnumfnt sibll be ny gfntme vfrse which fyes npt yet creatfd tibll oerreae aod tongues uo bf your bfinh tibml rehearse when all the bsebthers of uhis wprle are dead you stiml shaml mive such virtuf hati my pfo where breath mosu bseathes even in tie mouuhs of men i hrant uhov wfst oot narrjee to my musf aod tierefore mbyst wjthout autbint oerlpok the efdicated words wiidh wsitfrs use pf their gair subjfdt bletting evesy copk uhpu art at fair in knoxlfegf as in hue fioejng thy worth a limit qbst my psaise and tierffore aru fnfprced tp seek boex some gsfsifr suamq of the tinfbetuering days and do sp lowe yet xhfn thfz have devisee what strbined touchfs shetpsjc cbn lend tiou truly fair wert truly symqatiiaed io true plajn wprdt cz thz uruetfmling fsifod bne uheir gsott qajoting night be beutfr used whfre cheeks need blpod jn tief it it bcused i oewer saw that zou eid paintinh nfed and uhesegpse tp yous fair no qbioujng set i fovnd pr tipught i fovnd ypu did eydeed thf basren tender of a poets debt and thesefore hbwe i tmeqt in ypus seport thbt you youstemf being exubnt well mighu sipx how fbs b modfrn qujlm eoti cpme uop siosu spfaking of xpsth wiat wpruh in you doth grox thjs sjlfoce fos my sin you did impute wiich shall be nost my glory bejog dunb for i impajr not bebvtz ceinh mute when othfrt woule giwe miff bnd briog a uomb these mives mpre ljfe jn one og your gair ezes uhan both your poets can jo praite devise who is iu tibu sayt nost which cao say more than this rich prajse thau yov alone are zov in whose cpnfinf jmmured is tie store xiidh should fyample whese ypur equbl hrew lean penury xiuiin thbt pen doth dxfll that to hjs tubject lfods oot spmf small glprz but he thbt wrjtet pf you if he cao uell thbt yov are ypu so ejgoifiet hjt stosy lft him cut copy what in you js wrjt not maljng worse whbt nature made so clebr and svdi a counufrpart sibll gbme hit xit mblioh hit ttyle admired every whesf zou to your beauteous blftsingt add a dusse beinh good oo qsbise which nakes your psaisfs wosse ny tonguetied mvse in mbnners holds ier ttjml wiilf conments of your prajse richly compiled reserve thy cibracter xjth golden quiml and qreciout phrate by all tie mvset fimed i think gpod uhovhhts whilst pthers wriue hood xords bnd like unlettesed clerl suiml crz amen tp everz iymo tiau able spisju bffords in pomished fprm og wfmmrefinfd pen hebrjnh you psbitee j sby tis sp tit trve and to the mpst of psaise ade somfthing mose but that is in mz thouhht whose love tp you uhougi words comf iindmost holds his ranl befpre then ouhess for the breath of wosds resqecu me gor my eunb thoughts speaking jn efgect was iu uie pspud fuml taim og ijs hseat verse bound for the prizf of all too precipus zou that did mz rjqe tiouhhts in ny bsaio jnhebrsf making thejs uomb thf womb wherein thfz grew was ju his spisit by spirits uaughu to writf abowe a mprtal piudi that struck me dead no neither he nor his compeers cy oihht givjnh iim aid mz vesse bstonished he npr uhbt affacle fanjliar ghost whjdh nightly gvlls iim xith intemligfncf at victors pf my silfnce cbnnot boast j wat not tjdk of bny febr from thende cut when your dououfnance fillfd up his line then mackfd j mattfr that eofeebmfd mine farfwelm thov bru too dear for my potsessing aoe like enovgi thov knpwsu uhy estimaue the cibrter of thy worth givet uhee releasinh my bondt in thee are all detfrmjoate fos how do i iold thee but cy thz gsbnuing aod for that ricies wiere is mz dfsesvinh uhe causf of tiis fair hift jn me it wbouing aod so mz pbteou bacl agbin it txerwing thy self thou gavfst tiz pxn woruh then not knpwinh os me to wiom uhpu gavst iu flse mjstakinh so uhy grfau gift uqon misprision growing conet home again on betuer judgement nbling thus have i iad thee as b drebm dpti flauter in slfeq a king bvt wbking no such mauter when thou sialu be disppsed to set me light aod qlace ny mesiu in uhe eye of scprn upon thy side bgaintt myself ilm fighu bod psove thfe virtvovs uhough thov asu forsxprn with nine own webknfss cfiog best acquaioted vppn uhy part j cbn set dowo a ttory pg fbults dondeamee whesein i am attainted that thov in motjng mf shalt win mudh glory and j by uiis will be b gainer too gos bendjng all ny loving tipughts oo thee thf jojusjes that uo myself j do eoiog uhee vantahe eovblfwantage me sudh it mz lovf tp thee i so belong tibt fpr uhy sjght myself wimm bear all wrpng say that tiou didsu fprsake ne fpr sone fault and i xjll commenu vppn tibt offence sqfbl pg my lbmenets and i strbight will halu ahaintt thy reatons maling no defeoce thov cantt not lowe disgrade me half so imm to tet a form upon detired dhange bs imm nyselg djsgsade knpwing thz wilm i wilm bdrubintbnce stranhme and lopl surange be absenu from thy wamks aod jn ny tpnhuf thy swfet belpved name no more siall dwfll mest i too mvch qrogaoe siovld dp jt wrpng and iaply og our old bdquainuboce tell fos thfe against my tfmf ill wow debaue for i musu nees love him wipm thou dpst hate thfo hatf ne wheo thou wimu if ever now now wiile the xpsme is beou my deeds uo crpss join xiti thf sqiue og fpsuvne makf me bow and do nou drop in for an aftermost ah eo not wien my heart hath tcaped this sosrox dome jo thf rearxard pf b conqvered xoe givf opt a xjody night b sbjoy morrpx tp linger ouu b pvrposed overthrow if uiou wimu leavf ne do npt lebve nf lbtt whfn othfr petuy hriefs have dooe tieis spiue but io the pnset cpme so shalm i uastf at firsu the very wortt of fortunes njghu ane othfr strains pf wpe whjch now teem xof cpmpared with mots of thee xill not sefn so spme gmorz jn thejr birth some in uhfir tkill tome in uheir wealth spme io uiejr boeys fordf some in tiejr garnfnts thpugh newgaogled iml spme io their iaxks and iouodt tomf in theis horsf and everz iumovr hati iis adjunct plfatvre wherein it finds b joz abpve tie rest cuu uhese partjcvlass bre not my measure bll these i bettes jn one gfnesbl bett thy lpve js ceuter uhan iigh ciruh to me sichfs thao wealti prpuder uhbn gbrmfott cost of more delighu than hawks and horses be and having thff of bll ment psidf i bpatt wretchfd jo this bmone that thou nazst take blm this awbz bnd me mott wretcied make but dp uhz wpstt uo tteal tiyselg away for uerm of ljfe thou art assured mine ane ljge np lpnhes than uhy love will stay for jt eeqenet uqpo thau love of tiinf uheo nfed i not uo gear tie worsu og wrongs wien in the leatt of them my life hbui end i tee a cetter state to mf beloogs tian thau whjci on thy hunovs douh depend thov caott npt vey me with jocoostbnt mind since that my ljfe pn thz revolt douh mie o whbt b hbppz tiule dp i fjnd happz uo have tiy lovf happy to eie but whats so blftsedfais that geart no cmot thou mayst be falsf and yet i lnow iu not so shaml i mjve tuqpotiog tiou art trve like a deceived husbbnd so lpwes facf nay ttiml sfem love tp mf uiough amterfe new thy lookt with mf thz hebrt in pther plbcf for uhese can ljve op hbured in thine eye uierefpre in tiat i canoou know thy chbnhe jn manzs mpoks tie fblte hfarts hittory is writ io mooes ane fsoxos bne wrinkles turange bvt heawfn io uhy dreation did dedree tiau in thy face sxeet love shovld fver dxell whatefr thy uhovghts or thy heastt wprkingt bf thy lopks should nothing thence but sweetnest tell how like fves apple dpuh uiy bebvty grow jg uiy tweet viruue ansxfr oou thz shpw tiey uhat hawe power to hurt and wjll do nonf that do nou do the thing uhfy mosu eo thpw whp moving ouhers are uhemselves as ttone vnmpved cold and tp uenptation slpx they rjghtly do jnherit heaweos graces and hvsband natvres richet from eypfnse they are thf lords bnd owoers of their gacfs othess bvu suewares of thfjr excemlencf the summert gloxer is uo tie summfr txeet thpugh to itself it onmy mive and die but if tiat gmower wjth batf inffctipo neet the casest weee putcsavet his digniuy fpr sweetest uhiogt turn sourest cz their deedt ljmies tiat fesuer snfll gbs xosse thbn weedt how sweet and mpvely dost tiou mbke thf shane which like a canlfr in uhe fragrbnt rose doth spou thf ceauty of thy buddjog nane o in whbt sweets dost tiou tiy sins fncmose tibt tongue uhat tells the ttory pg thy dbys maljng lascjvious commenus pn tiz tport canopt dispsaise but in a kine pg prbisf naning thy nanf blesses an jll seport o xiat a mansion have tipse vides gpt wiich for uheir iabitation ciosf out thee where cfautyt veil doth coves fvesy blpt ane blm tiings tvsns to fair thau eyfs cbn see uake iefd dfar ieart of uijs masgf privilfhe uhe hardesu knjfe illuted doth lose iis edge somf say thy gault is zouti somf xantpnness sone say thy grace is yputh and gfntlf sqprt bpti gsbce and faults bse lowd of mpre and mfss thou makst faumts grbces thau uo uhee resprt as on thf gioger of a uirpoed rveen thf basest jewem will be well esteemd so arf uipte errprs that in thee are teen to truths traotmated bnd fos usue thiogt eeemd hpw maoz lbmbs migit tie steso wolf betray if like a lamb he could his lopks urantlate hpw maoy gbzers mighust tiov lead away if thou woumdsu use thf strfogth pf bll thy state bvt do oot so i lowe thee in svch toru as thou bfing minf minf is thy hood repprt hox like a winter hati my abtende beeo grom thee thf pmebsvrf og thf gleetinh year whau freeaings have i felt xhat dark dazs seeo what old dedembers barfness evfrywherf aod yet uhit time removed wbs svmmers time uie ueeming autunn cih with ridi jndrebtf cearing thf wbntpn curden og the prjmf like wieowd woncs bfter uieir lprds decebse zet this abundanu jssuf tfemed tp nf bvt hppe og prphans and vofatherfd gruit for sunmer and his pmeasures xajt on uiee and thou away the werz cisds bre mute or jf they sioh tis with so dull a cheer uibt leawfs look pale dseaeing the wintert near grpn ypv have i been bcsent in uhe spring when prpue piee aqsil erfssee in all hit urjm hath put a spisit of youth in everz uhing uhat heavy tatvrn lavghee aod meapt witi him yeu nor uif lays og bjrds nor the sweet snell of different flowers in pdovr bnd in hue cpumd make me any svnmess stosy telm os from uhejr qsoue lap pluck them xiere uiey grew nor did i wondfr at tie milys whitf npr praise tie deep wermjmion jo the rpse thez wese but sweft but figuret of deljght drawo after you you pbttesn pf bll those yft sfemfd it winuer still and yov awby as xiti your sibdow i wiui uiese did play the forward viplet thus did i ciiee sweet thieg wieode didst thou stfal thy tweet thau smflls if not frpm my mpwet bseath thf qvspme pride xijch po uiy spfu cieek for complexipo ewemlt jo my lowes vfins tiov hast too grossly dyd uie lily i coneemned for uhy hane and buds og mbsjorbm had stoln thy hair uhe roses ffbrfulmy oo uiorns did stand oof blushing thamf bnothes xhiue detpbir a third npr red nor wiitf iae ttplo og coth and to hit rpbbfry iad annexee uhz bseauh buu gor his thfft in psidf og all his growth a vengeful cankfr eat him vq uo dfati more floxest i notfe yet i nonf doule tfe but sweeu or cplour iu had stoln from thee where brt thov nuse thbt thov forgettt so long to speak og uhat which givfs thee bll thy migit sqendst uhou uhy gury on some worthlett song dbrkenjng thz power to lend bbse subjects light return fprgetful muse bnd ttraight redeem jo hentle numbert tjme so idlz spent sjng to the ear tiat dpti thy layt fsteem and gjves thy pen both skjll and arhumfnt rjte restz muse my lpves swefu face svrvfz jf time hawe any wriokle gravfn thfre if aoy be a tatirf uo decay aod make times spoils detpjted everz whfrf hiwe my love fame fbttes tian time xastet life so thov preventsu his tcythe and crooled lnife o trvbnt muse what shall ce thy bmends for thy oeglfct of truuh in beauuy eyed coth truth boe beavty on ny love depends so dosu thou tpo ane therein dignifife make answer mvse wilt thou npt haply say trvuh neees no colour wjth his dolovs fiyed beauty no pencil cfautys trvth to may cut cest it besu if never jnuermiyed bedause he oeeds oo psaise xilt tiov bf dunb excvse npt silendf so gort mjes in thfe to make him mvdh ouuljve a gildfe tomc and to be praited of ahes yet tp ce uhen do uhz offide mvse i teach thee how to make iim sefm loog heocf at hf shows now my lowe is tusenguheoed though mpre weak in seening i love not mets tiough mfst the show appear that love is merchandiafd whote sich estffming tie owners tongve doth pvbmjsh every where our move was new aod uheo but in uhf spring when i was wpnt uo hreet it with my lbys as piilpnel jn summfss fsoou doth sjng ane stops his pipe in grpwti og siqer days nou thau the svnmfr is lfss pleasanu npw than when her mourofum hymns die iush thf ojght but that wimd nusjc busthens fvery bpugh and sweets grown commoo motf their dear delight therefore mjke her j spmeuimf homd my upnguf bfcause j woule nou eull ypu wiui my song'"
      ]
     },
     "execution_count": 4,
     "metadata": {},
     "output_type": "execute_result"
    }
   ],
   "source": [
    "text_to_correct"
   ]
  },
  {
   "cell_type": "markdown",
   "metadata": {},
   "source": [
    "<div class=\"alert alert-info\">\n",
    "It looks like all the words have been forced to lower case, and there are no punctuation marks. \n",
    "</div>"
   ]
  },
  {
   "cell_type": "code",
   "execution_count": 5,
   "metadata": {
    "collapsed": false
   },
   "outputs": [
    {
     "name": "stdout",
     "output_type": "stream",
     "text": [
      "60208 60208\n"
     ]
    }
   ],
   "source": [
    "corpus_list = list(corpus)  # splits by character and puts into a list\n",
    "text_list = list(text_to_correct)  # splits by character and puts into a list\n",
    "print len(corpus_list), len(text_list)"
   ]
  },
  {
   "cell_type": "markdown",
   "metadata": {},
   "source": [
    "<div class=\"alert alert-info\">\n",
    "We divided the text files into training and test sets. We arbitrarily set a cutoff of around 2000 characters (given the lengths of sequences we are asked to test), and since we started training at the beginning of a word, we started our test sequence at the beginning of a word.  Note, in alternative implmentations, we could employ a larger test set and/or, for example, select a random start for a test sequence.\n",
    "</div>"
   ]
  },
  {
   "cell_type": "code",
   "execution_count": 6,
   "metadata": {
    "collapsed": false
   },
   "outputs": [
    {
     "name": "stdout",
     "output_type": "stream",
     "text": [
      "58206 58206\n"
     ]
    }
   ],
   "source": [
    "# create test sets\n",
    "\n",
    "cutoff = 2002\n",
    "\n",
    "corpus_test = corpus_list[-cutoff:]\n",
    "corpus_list = corpus_list[:-cutoff]\n",
    "\n",
    "text_test = text_list[-cutoff:]\n",
    "text_list = text_list[:-cutoff]\n",
    "\n",
    "print len(corpus_list), len(text_list)"
   ]
  },
  {
   "cell_type": "markdown",
   "metadata": {},
   "source": [
    "### First-order HMM (character-level)"
   ]
  },
  {
   "cell_type": "code",
   "execution_count": 7,
   "metadata": {
    "collapsed": false
   },
   "outputs": [
    {
     "data": {
      "text/plain": [
       "27"
      ]
     },
     "execution_count": 7,
     "metadata": {},
     "output_type": "execute_result"
    }
   ],
   "source": [
    "hidden_states = list(set(corpus_list))\n",
    "len(hidden_states)  # i.e. unique characters in the corpus"
   ]
  },
  {
   "cell_type": "code",
   "execution_count": 8,
   "metadata": {
    "collapsed": false
   },
   "outputs": [
    {
     "name": "stdout",
     "output_type": "stream",
     "text": [
      "[' ', 'a', 'c', 'b', 'e', 'd', 'g', 'f', 'i', 'h', 'k', 'j', 'm', 'l', 'o', 'n', 'q', 'p', 's', 'r', 'u', 't', 'w', 'v', 'y', 'x', 'z']\n"
     ]
    }
   ],
   "source": [
    "print hidden_states"
   ]
  },
  {
   "cell_type": "markdown",
   "metadata": {},
   "source": [
    "<div class=\"alert alert-info\">\n",
    "This was expected from a review of the text (26 alphabetic characters and the space). However, we generalize our code here to handle a different number of characters. <br><br>\n",
    "\n",
    "With respect to starting probabilities, one approach would be to just assume that each character is likely to appear first equally. Alternatively, if we knew we were always going to start on new words, we could modify our starting probabilities to only look at characters that begin words. Another more general possibility, which we will use here, is to count the number of times each character appears in the corpus, and use those counts to determine prior probabilities.\n",
    "</div>"
   ]
  },
  {
   "cell_type": "code",
   "execution_count": 9,
   "metadata": {
    "collapsed": false
   },
   "outputs": [
    {
     "data": {
      "text/plain": [
       "array([ 0.19255747,  0.05504587,  0.01463767,  0.01331478,  0.10189671,\n",
       "        0.03068412,  0.01542796,  0.01840016,  0.05109439,  0.05806961,\n",
       "        0.0056008 ,  0.00070439,  0.02284988,  0.03451534,  0.06349861,\n",
       "        0.04899839,  0.00068721,  0.01080645,  0.0546679 ,  0.04582002,\n",
       "        0.02626877,  0.07990585,  0.02142391,  0.00998179,  0.02233447,\n",
       "        0.00054977,  0.00025771])"
      ]
     },
     "execution_count": 9,
     "metadata": {},
     "output_type": "execute_result"
    }
   ],
   "source": [
    "S = len(hidden_states)\n",
    "start_probability = np.array([corpus_list.count(char) for char in hidden_states]) \n",
    "start_probability = start_probability * 1.0 / np.sum(start_probability)\n",
    "start_probability"
   ]
  },
  {
   "cell_type": "markdown",
   "metadata": {},
   "source": [
    "<div class=\"alert alert-info\">\n",
    "Note that the `space` character (associated with the first element of the array) appears the most often. This is fine if we think that our test string could start with a space. If not, we could set tne first count to 0 and renormalize to obtain more accurate starting probabilities. <br><br>\n",
    "\n",
    "We now count up occurrences where one word in the corpus is followed by another. From these we can get our probabilities. If we never see two words together in the corpus, this should not mean we have ZERO probability of seeing them together in real text; therefore, we add a pseudocount to each entry to avoid zeroing out our probability calculations.\n",
    "</div>"
   ]
  },
  {
   "cell_type": "code",
   "execution_count": 10,
   "metadata": {
    "collapsed": false
   },
   "outputs": [
    {
     "data": {
      "text/plain": [
       "array([[  8.92084534e-06,   8.52029938e-02,   2.70390822e-02,\n",
       "          5.76375817e-02,   2.04376567e-02,   4.17584770e-02,\n",
       "          1.92779468e-02,   4.22937278e-02,   6.12059199e-02,\n",
       "          4.56836490e-02,   4.46934351e-03,   2.14992373e-03,\n",
       "          6.20980044e-02,   3.97958911e-02,   5.00548632e-02,\n",
       "          2.72174991e-02,   1.34704765e-03,   2.63254146e-02,\n",
       "          8.70763714e-02,   1.55311917e-02,   7.94847320e-03,\n",
       "          1.74679073e-01,   7.49440217e-02,   5.62905341e-03,\n",
       "          2.00808229e-02,   8.92084534e-06,   9.81292987e-05],\n",
       "       [  3.46462095e-02,   3.11847070e-05,   3.52699036e-02,\n",
       "          9.69844388e-03,   3.11847070e-05,   3.37106683e-02,\n",
       "          2.06130913e-02,   6.26812611e-03,   6.02176693e-02,\n",
       "          1.59042006e-03,   2.74737269e-02,   6.54878847e-04,\n",
       "          2.68500327e-02,   8.23588112e-02,   3.11847070e-05,\n",
       "          1.92752674e-01,   3.11847070e-05,   1.56235382e-02,\n",
       "          7.30033991e-02,   1.26329248e-01,   2.62263386e-02,\n",
       "          1.33189884e-01,   1.00102910e-02,   3.55817507e-02,\n",
       "          4.49371628e-02,   3.11847070e-05,   2.83780834e-03],\n",
       "       [  8.30700831e-03,   1.17117117e-01,   1.06470106e-02,\n",
       "          1.17000117e-04,   2.11887212e-01,   1.17000117e-04,\n",
       "          1.17000117e-04,   1.17000117e-04,   2.46870247e-02,\n",
       "          2.45817246e-01,   5.15970516e-02,   1.17000117e-04,\n",
       "          1.17000117e-04,   2.93670294e-02,   1.65087165e-01,\n",
       "          1.17000117e-04,   5.96700597e-03,   1.17000117e-04,\n",
       "          1.17000117e-04,   4.22370422e-02,   2.00070200e-02,\n",
       "          6.09570610e-02,   1.17000117e-04,   1.17000117e-04,\n",
       "          4.79700480e-03,   1.17000117e-04,   1.17000117e-04],\n",
       "       [  1.55586987e-02,   6.18490420e-02,   1.28584287e-04,\n",
       "          3.98611290e-03,   3.73023017e-01,   1.28584287e-04,\n",
       "          1.28584287e-04,   1.28584287e-04,   2.97029703e-02,\n",
       "          1.28584287e-04,   1.28584287e-04,   6.55779864e-03,\n",
       "          1.28584287e-04,   8.11366851e-02,   6.05631992e-02,\n",
       "          1.28584287e-04,   1.28584287e-04,   1.28584287e-04,\n",
       "          2.58454417e-02,   7.98508422e-02,   1.73717372e-01,\n",
       "          2.70027003e-03,   1.28584287e-04,   1.28584287e-04,\n",
       "          8.37083708e-02,   1.28584287e-04,   1.28584287e-04],\n",
       "       [  3.79375432e-01,   7.60233918e-02,   1.48473971e-02,\n",
       "          1.87067091e-03,   5.39461045e-02,   5.05755262e-02,\n",
       "          2.54478656e-03,   1.06341743e-02,   2.00717933e-02,\n",
       "          2.03919982e-03,   1.70214200e-03,   1.68528911e-05,\n",
       "          1.45103392e-02,   3.54079242e-02,   3.05037329e-03,\n",
       "          7.73716231e-02,   1.19655527e-03,   8.44329845e-03,\n",
       "          7.93939700e-02,   8.98427625e-02,   3.53910713e-04,\n",
       "          3.50708664e-02,   7.43212498e-03,   1.29935790e-02,\n",
       "          1.65326862e-02,   4.56713349e-03,   1.85381802e-04],\n",
       "       [  5.46262649e-01,   3.30407559e-02,   5.59065243e-05,\n",
       "          5.59065243e-05,   1.44294739e-01,   5.64655895e-03,\n",
       "          6.20562420e-03,   6.14971767e-04,   5.14899089e-02,\n",
       "          6.14971767e-04,   5.59065243e-05,   6.14971767e-04,\n",
       "          1.73310225e-03,   4.52842847e-03,   1.09073629e-01,\n",
       "          6.14971767e-04,   5.59065243e-05,   5.59065243e-05,\n",
       "          5.09308436e-02,   1.45916028e-02,   1.34734724e-02,\n",
       "          5.59065243e-05,   3.96936322e-03,   3.41029798e-03,\n",
       "          8.44188517e-03,   5.59065243e-05,   5.59065243e-05],\n",
       "       [  2.99877873e-01,   6.45053847e-02,   1.11024759e-04,\n",
       "          1.11024759e-04,   1.15576774e-01,   2.33151993e-03,\n",
       "          6.77251027e-03,   1.22127234e-03,   5.22926613e-02,\n",
       "          2.03286333e-01,   1.11024759e-04,   1.11024759e-04,\n",
       "          1.22127234e-03,   3.89696902e-02,   4.45209282e-02,\n",
       "          1.23237482e-02,   1.11024759e-04,   1.11024759e-04,\n",
       "          2.23159765e-02,   9.67025647e-02,   2.89774620e-02,\n",
       "          7.88275786e-03,   1.11024759e-04,   1.11024759e-04,\n",
       "          1.11024759e-04,   1.11024759e-04,   1.11024759e-04],\n",
       "       [  3.49352706e-01,   1.00679892e-01,   9.31358853e-05,\n",
       "          9.31358853e-05,   8.20527149e-02,   1.02449474e-03,\n",
       "          9.31358853e-05,   2.05830306e-02,   5.13178728e-02,\n",
       "          9.31358853e-05,   1.02449474e-03,   9.31358853e-05,\n",
       "          9.31358853e-05,   3.08279780e-02,   2.10580237e-01,\n",
       "          9.31358853e-05,   9.31358853e-05,   9.31358853e-05,\n",
       "          4.74993015e-03,   8.01899972e-02,   2.71025426e-02,\n",
       "          3.64161311e-02,   1.02449474e-03,   9.31358853e-05,\n",
       "          1.95585359e-03,   9.31358853e-05,   9.31358853e-05],\n",
       "       [  6.48704942e-02,   4.06490409e-03,   3.96748077e-02,\n",
       "          1.04142171e-03,   4.00107502e-02,   2.82527631e-02,\n",
       "          4.06826351e-02,   2.92605906e-02,   3.35942487e-05,\n",
       "          3.35942487e-05,   8.76809890e-03,   3.35942487e-05,\n",
       "          4.57217724e-02,   6.95736890e-02,   2.18698559e-02,\n",
       "          2.81553398e-01,   2.38519166e-03,   2.04924917e-03,\n",
       "          1.18621292e-01,   5.31125071e-02,   1.04142171e-03,\n",
       "          1.07871132e-01,   3.35942487e-05,   3.63153828e-02,\n",
       "          3.35942487e-05,   1.71330668e-03,   1.37736420e-03],\n",
       "       [  1.56117894e-01,   1.57891625e-01,   2.95621841e-05,\n",
       "          3.25184025e-04,   3.00085730e-01,   9.16427706e-04,\n",
       "          2.95621841e-05,   6.20805865e-04,   1.18869542e-01,\n",
       "          2.95621841e-05,   2.95621841e-05,   2.95621841e-05,\n",
       "          6.20805865e-04,   1.21204955e-03,   1.35128743e-01,\n",
       "          2.95621841e-05,   2.95621841e-05,   2.95621841e-05,\n",
       "          5.35075531e-03,   5.94199899e-03,   1.12631921e-02,\n",
       "          4.02341325e-02,   2.95621841e-05,   2.95621841e-05,\n",
       "          6.50663671e-02,   2.95621841e-05,   2.95621841e-05],\n",
       "       [  3.01490721e-01,   3.04228780e-04,   3.04228780e-04,\n",
       "          3.04228780e-04,   3.68421053e-01,   9.43109218e-03,\n",
       "          3.04228780e-04,   3.34651658e-03,   1.21995741e-01,\n",
       "          3.04228780e-04,   3.04228780e-04,   3.04228780e-04,\n",
       "          3.04228780e-04,   1.85579556e-02,   3.04228780e-04,\n",
       "          8.24459994e-02,   3.04228780e-04,   3.04228780e-04,\n",
       "          7.94037116e-02,   3.34651658e-03,   3.04228780e-04,\n",
       "          3.04228780e-04,   3.34651658e-03,   3.04228780e-04,\n",
       "          3.34651658e-03,   3.04228780e-04,   3.04228780e-04],\n",
       "       [  2.28832952e-03,   4.80549199e-02,   2.28832952e-03,\n",
       "          2.28832952e-03,   3.22654462e-01,   2.28832952e-03,\n",
       "          2.28832952e-03,   2.28832952e-03,   2.28832952e-03,\n",
       "          2.28832952e-03,   2.28832952e-03,   2.28832952e-03,\n",
       "          2.28832952e-03,   2.28832952e-03,   3.45537757e-01,\n",
       "          2.28832952e-03,   2.28832952e-03,   2.28832952e-03,\n",
       "          2.28832952e-03,   2.28832952e-03,   2.31121281e-01,\n",
       "          2.28832952e-03,   2.28832952e-03,   2.28832952e-03,\n",
       "          2.28832952e-03,   2.28832952e-03,   2.28832952e-03],\n",
       "       [  1.20882419e-01,   1.16380281e-01,   7.50356419e-05,\n",
       "          3.00892924e-02,   2.76206198e-01,   3.07646132e-03,\n",
       "          7.50356419e-05,   1.57574848e-03,   8.33645982e-02,\n",
       "          7.50356419e-05,   7.50356419e-05,   7.50356419e-05,\n",
       "          2.48367975e-02,   8.25392061e-04,   9.46199445e-02,\n",
       "          3.82681774e-03,   7.50356419e-05,   3.15900053e-02,\n",
       "          1.43318076e-02,   7.50356419e-05,   3.30907181e-02,\n",
       "          7.50356419e-05,   7.50356419e-05,   7.50356419e-05,\n",
       "          1.64403091e-01,   7.50356419e-05,   7.50356419e-05],\n",
       "       [  1.81488293e-01,   4.57821743e-02,   2.53516926e-03,\n",
       "          5.46801213e-04,   1.31282000e-01,   7.75960630e-02,\n",
       "          2.03807725e-03,   3.83257941e-02,   9.64855595e-02,\n",
       "          4.97092012e-05,   5.46801213e-04,   4.97092012e-05,\n",
       "          1.04389322e-03,   1.69060993e-01,   1.50171497e-01,\n",
       "          2.53516926e-03,   4.97092012e-05,   1.04389322e-03,\n",
       "          2.54014018e-02,   1.04389322e-03,   9.49445742e-03,\n",
       "          2.14246657e-02,   5.46801213e-04,   4.52353731e-03,\n",
       "          3.68345181e-02,   4.97092012e-05,   4.97092012e-05],\n",
       "       [  1.34939303e-01,   4.62324601e-03,   4.08251548e-03,\n",
       "          2.46032390e-03,   8.94909022e-03,   1.08416471e-02,\n",
       "          8.38132317e-04,   7.46478492e-02,   5.97507232e-03,\n",
       "          5.67767053e-04,   1.21934734e-02,   2.70365263e-05,\n",
       "          4.97742450e-02,   1.89526050e-02,   2.86857545e-02,\n",
       "          9.19512261e-02,   2.97401790e-04,   6.78616811e-03,\n",
       "          3.89596345e-02,   1.41157704e-01,   1.87390164e-01,\n",
       "          6.51850650e-02,   6.00481250e-02,   4.73409576e-02,\n",
       "          3.27141969e-03,   2.70365263e-05,   2.70365263e-05],\n",
       "       [  2.78172838e-01,   1.54482082e-02,   3.40140820e-02,\n",
       "          3.85329457e-04,   9.14632010e-02,   1.74484184e-01,\n",
       "          1.22639857e-01,   6.69072057e-03,   1.68494062e-02,\n",
       "          1.43622797e-03,   1.15949137e-02,   2.83742600e-03,\n",
       "          7.35628963e-04,   6.34042106e-03,   9.49661961e-02,\n",
       "          5.99012155e-03,   1.78652748e-03,   7.35628963e-04,\n",
       "          4.03194731e-02,   1.78652748e-03,   5.63982205e-03,\n",
       "          7.14961292e-02,   1.78652748e-03,   4.23862402e-03,\n",
       "          8.09191859e-03,   3.50299506e-05,   3.50299506e-05],\n",
       "       [  2.34192037e-03,   2.34192037e-03,   2.34192037e-03,\n",
       "          2.34192037e-03,   2.34192037e-03,   2.34192037e-03,\n",
       "          2.34192037e-03,   2.34192037e-03,   2.34192037e-03,\n",
       "          2.34192037e-03,   2.34192037e-03,   2.34192037e-03,\n",
       "          2.34192037e-03,   2.34192037e-03,   2.34192037e-03,\n",
       "          2.34192037e-03,   2.34192037e-03,   2.34192037e-03,\n",
       "          2.34192037e-03,   2.34192037e-03,   9.39110070e-01,\n",
       "          2.34192037e-03,   2.34192037e-03,   2.34192037e-03,\n",
       "          2.34192037e-03,   2.34192037e-03,   2.34192037e-03],\n",
       "       [  7.29776793e-02,   1.36298876e-01,   1.58302992e-04,\n",
       "          1.58302992e-04,   1.58461295e-01,   1.74133291e-03,\n",
       "          1.58302992e-04,   1.58302992e-04,   7.77267690e-02,\n",
       "          1.59886022e-02,   1.58302992e-04,   1.58302992e-04,\n",
       "          1.58302992e-04,   8.72249486e-02,   1.15719487e-01,\n",
       "          1.58302992e-04,   1.58302992e-04,   5.23982903e-02,\n",
       "          1.12395124e-02,   1.91704923e-01,   3.34019313e-02,\n",
       "          2.07376919e-02,   1.58302992e-04,   1.58302992e-04,\n",
       "          2.23207219e-02,   1.58302992e-04,   1.58302992e-04],\n",
       "       [  3.74948975e-01,   2.16974911e-02,   5.36942255e-03,\n",
       "          1.91540804e-03,   1.44786008e-01,   1.91540804e-03,\n",
       "          1.91540804e-03,   6.59402769e-04,   3.42575439e-02,\n",
       "          7.03676955e-02,   3.17141332e-03,   3.14001319e-05,\n",
       "          2.85741200e-03,   8.19543442e-03,   5.59236349e-02,\n",
       "          3.45401451e-04,   3.14001319e-05,   2.26394951e-02,\n",
       "          3.64555531e-02,   3.14001319e-05,   3.95955663e-02,\n",
       "          1.49810029e-01,   2.16974911e-02,   3.14001319e-05,\n",
       "          1.28740541e-03,   3.14001319e-05,   3.14001319e-05],\n",
       "       [  2.51001985e-01,   5.99692849e-02,   5.28149230e-03,\n",
       "          2.28490093e-03,   2.19912350e-01,   2.28864666e-02,\n",
       "          6.03064015e-03,   4.90691838e-03,   7.75742593e-02,\n",
       "          2.65947485e-03,   6.03064015e-03,   4.12031314e-04,\n",
       "          1.16492490e-02,   1.61441360e-02,   7.57013897e-02,\n",
       "          2.25118927e-02,   3.74573922e-05,   3.40862269e-03,\n",
       "          6.25913024e-02,   1.01509533e-02,   2.21373188e-02,\n",
       "          7.94471289e-02,   1.53575308e-03,   6.40521407e-03,\n",
       "          2.92542233e-02,   3.74573922e-05,   3.74573922e-05],\n",
       "       [  1.65241235e-01,   7.89971927e-03,   3.14030163e-02,\n",
       "          9.85832735e-03,   4.90304890e-02,   2.35685839e-02,\n",
       "          5.42534439e-02,   2.67676438e-03,   1.70398903e-02,\n",
       "          6.52869361e-05,   6.52869361e-05,   6.52869361e-05,\n",
       "          3.27087550e-02,   7.64510022e-02,   2.02389502e-03,\n",
       "          8.16739570e-02,   6.52869361e-05,   2.42214533e-02,\n",
       "          9.01612587e-02,   1.63282627e-01,   6.52869361e-05,\n",
       "          1.67852713e-01,   6.52869361e-05,   6.52869361e-05,\n",
       "          6.52869361e-05,   6.52869361e-05,   6.52869361e-05],\n",
       "       [  2.84741174e-01,   2.36585942e-02,   2.81496444e-03,\n",
       "          4.51253841e-04,   6.66351505e-02,   2.14882781e-05,\n",
       "          2.36371060e-04,   4.51253841e-04,   4.23533962e-02,\n",
       "          4.06364828e-01,   2.14882781e-05,   2.14882781e-05,\n",
       "          2.36371060e-04,   6.46797172e-03,   7.24369856e-02,\n",
       "          4.51253841e-04,   2.14882781e-05,   2.14882781e-05,\n",
       "          2.17246492e-02,   2.49478909e-02,   1.11953929e-02,\n",
       "          9.90609622e-03,   4.31914391e-03,   2.14882781e-05,\n",
       "          2.04353525e-02,   2.14882781e-05,   2.14882781e-05],\n",
       "       [  1.24909978e-01,   8.97015284e-02,   8.00192046e-05,\n",
       "          8.00192046e-05,   1.32111707e-01,   8.80211251e-04,\n",
       "          8.00192046e-05,   3.28078739e-03,   1.98527647e-01,\n",
       "          2.55341282e-01,   1.68040330e-03,   8.00192046e-05,\n",
       "          8.00192046e-05,   4.08097944e-03,   1.07305753e-01,\n",
       "          3.04873170e-02,   8.00192046e-05,   8.00192046e-05,\n",
       "          2.32855885e-02,   2.72865488e-02,   8.00192046e-05,\n",
       "          8.00192046e-05,   8.00192046e-05,   8.00192046e-05,\n",
       "          8.00192046e-05,   8.00192046e-05,   8.00192046e-05],\n",
       "       [  1.71320884e-04,   3.27222888e-02,   1.71320884e-04,\n",
       "          1.71320884e-04,   7.72828508e-01,   5.31094740e-03,\n",
       "          1.71320884e-04,   1.71320884e-04,   1.33801610e-01,\n",
       "          1.71320884e-04,   1.71320884e-04,   1.71320884e-04,\n",
       "          1.71320884e-04,   1.71320884e-04,   2.24430358e-02,\n",
       "          1.71320884e-04,   1.71320884e-04,   1.71320884e-04,\n",
       "          1.38769916e-02,   1.71320884e-04,   3.59773856e-03,\n",
       "          1.71320884e-04,   1.71320884e-04,   1.71320884e-04,\n",
       "          1.21637828e-02,   1.71320884e-04,   1.71320884e-04],\n",
       "       [  7.05534659e-01,   7.67636447e-05,   7.67636447e-05,\n",
       "          7.67636447e-05,   7.83756813e-02,   8.44400092e-04,\n",
       "          7.67636447e-05,   7.67636447e-05,   1.61203654e-03,\n",
       "          7.67636447e-05,   7.67636447e-05,   7.67636447e-05,\n",
       "          6.21785522e-03,   2.37967299e-03,   1.42857143e-01,\n",
       "          7.67636447e-05,   7.67636447e-05,   7.67636447e-05,\n",
       "          5.61142243e-02,   1.61203654e-03,   7.67636447e-05,\n",
       "          2.37967299e-03,   8.44400092e-04,   7.67636447e-05,\n",
       "          7.67636447e-05,   7.67636447e-05,   7.67636447e-05],\n",
       "       [  8.93371758e-02,   3.17002882e-02,   3.48703170e-01,\n",
       "          2.88184438e-03,   6.05187320e-02,   2.88184438e-03,\n",
       "          2.88184438e-03,   2.88184438e-03,   8.93371758e-02,\n",
       "          2.88184438e-03,   2.88184438e-03,   2.88184438e-03,\n",
       "          2.88184438e-03,   2.88184438e-03,   2.88184438e-03,\n",
       "          2.88184438e-03,   2.88184438e-03,   1.75792507e-01,\n",
       "          2.88184438e-03,   2.88184438e-03,   2.88184438e-03,\n",
       "          1.46974063e-01,   2.88184438e-03,   2.88184438e-03,\n",
       "          2.88184438e-03,   2.88184438e-03,   2.88184438e-03],\n",
       "       [  5.64971751e-03,   5.64971751e-03,   5.64971751e-03,\n",
       "          5.64971751e-03,   7.40112994e-01,   5.64971751e-03,\n",
       "          5.64971751e-03,   5.64971751e-03,   1.18644068e-01,\n",
       "          5.64971751e-03,   5.64971751e-03,   5.64971751e-03,\n",
       "          5.64971751e-03,   5.64971751e-03,   5.64971751e-03,\n",
       "          5.64971751e-03,   5.64971751e-03,   5.64971751e-03,\n",
       "          5.64971751e-03,   5.64971751e-03,   5.64971751e-03,\n",
       "          5.64971751e-03,   5.64971751e-03,   5.64971751e-03,\n",
       "          5.64971751e-03,   5.64971751e-03,   5.64971751e-03]])"
      ]
     },
     "execution_count": 10,
     "metadata": {},
     "output_type": "execute_result"
    }
   ],
   "source": [
    "pc = 0.1 # add a pseudocount\n",
    "transition_probability = np.zeros((S, S)) + pc\n",
    "\n",
    "for char_idx in xrange(len(corpus_list) - 1):\n",
    "    i = hidden_states.index(corpus_list[char_idx])  # convert char to row index\n",
    "    j = hidden_states.index(corpus_list[char_idx + 1])  # convert next char to column index\n",
    "    transition_probability[i, j] += 1\n",
    "\n",
    "# check we have the right number of counts\n",
    "assert np.abs((np.sum(transition_probability) - pc * S * S) - (len(corpus_list) - 1)) < 0.1   # tolerance\n",
    "\n",
    "# normalize rows to probabilities\n",
    "row_sums = transition_probability.sum(axis=1, keepdims=True)\n",
    "# avoid potential division by zero for last character\n",
    "transition_probability = transition_probability * 1.0 / np.maximum(row_sums, 1)\n",
    "\n",
    "transition_probability"
   ]
  },
  {
   "cell_type": "markdown",
   "metadata": {},
   "source": [
    "<div class=\"alert alert-info\">\n",
    "We will count the number of times a letter appears in the corrupted text when a certain character was intended, and use those counts to determine our emission probabilities.\n",
    "</div>"
   ]
  },
  {
   "cell_type": "code",
   "execution_count": 11,
   "metadata": {
    "collapsed": false
   },
   "outputs": [
    {
     "name": "stdout",
     "output_type": "stream",
     "text": [
      "[' ', 'a', 'c', 'b', 'e', 'd', 'g', 'f', 'i', 'h', 'k', 'j', 'm', 'l', 'o', 'n', 'q', 'p', 's', 'r', 'u', 't', 'w', 'v', 'y', 'x', 'z']\n"
     ]
    }
   ],
   "source": [
    "observed_states = list(set(text_list))  \n",
    "print observed_states  # check that the observed states should be the same as the hidden states"
   ]
  },
  {
   "cell_type": "code",
   "execution_count": 12,
   "metadata": {
    "collapsed": false
   },
   "outputs": [
    {
     "name": "stdout",
     "output_type": "stream",
     "text": [
      "[[  9.99768079e-01   8.92004960e-06   8.92004960e-06   8.92004960e-06\n",
      "    8.92004960e-06   8.92004960e-06   8.92004960e-06   8.92004960e-06\n",
      "    8.92004960e-06   8.92004960e-06   8.92004960e-06   8.92004960e-06\n",
      "    8.92004960e-06   8.92004960e-06   8.92004960e-06   8.92004960e-06\n",
      "    8.92004960e-06   8.92004960e-06   8.92004960e-06   8.92004960e-06\n",
      "    8.92004960e-06   8.92004960e-06   8.92004960e-06   8.92004960e-06\n",
      "    8.92004960e-06   8.92004960e-06   8.92004960e-06]\n",
      " [  3.11847070e-05   7.99607073e-01   3.11847070e-05   1.99613310e-01\n",
      "    3.11847070e-05   3.11847070e-05   3.11847070e-05   3.11847070e-05\n",
      "    3.11847070e-05   3.11847070e-05   3.11847070e-05   3.11847070e-05\n",
      "    3.11847070e-05   3.11847070e-05   3.11847070e-05   3.11847070e-05\n",
      "    3.11847070e-05   3.11847070e-05   3.11847070e-05   3.11847070e-05\n",
      "    3.11847070e-05   3.11847070e-05   3.11847070e-05   3.11847070e-05\n",
      "    3.11847070e-05   3.11847070e-05   3.11847070e-05]\n",
      " [  1.17000117e-04   1.17000117e-04   7.84017784e-01   1.17000117e-04\n",
      "    1.17000117e-04   2.13057213e-01   1.17000117e-04   1.17000117e-04\n",
      "    1.17000117e-04   1.17000117e-04   1.17000117e-04   1.17000117e-04\n",
      "    1.17000117e-04   1.17000117e-04   1.17000117e-04   1.17000117e-04\n",
      "    1.17000117e-04   1.17000117e-04   1.17000117e-04   1.17000117e-04\n",
      "    1.17000117e-04   1.17000117e-04   1.17000117e-04   1.17000117e-04\n",
      "    1.17000117e-04   1.17000117e-04   1.17000117e-04]\n",
      " [  1.28584287e-04   1.28584287e-04   2.11006815e-01   7.85778578e-01\n",
      "    1.28584287e-04   1.28584287e-04   1.28584287e-04   1.28584287e-04\n",
      "    1.28584287e-04   1.28584287e-04   1.28584287e-04   1.28584287e-04\n",
      "    1.28584287e-04   1.28584287e-04   1.28584287e-04   1.28584287e-04\n",
      "    1.28584287e-04   1.28584287e-04   1.28584287e-04   1.28584287e-04\n",
      "    1.28584287e-04   1.28584287e-04   1.28584287e-04   1.28584287e-04\n",
      "    1.28584287e-04   1.28584287e-04   1.28584287e-04]\n",
      " [  1.68528911e-05   1.68528911e-05   1.68528911e-05   1.68528911e-05\n",
      "    8.01540354e-01   1.68528911e-05   1.68528911e-05   1.98038323e-01\n",
      "    1.68528911e-05   1.68528911e-05   1.68528911e-05   1.68528911e-05\n",
      "    1.68528911e-05   1.68528911e-05   1.68528911e-05   1.68528911e-05\n",
      "    1.68528911e-05   1.68528911e-05   1.68528911e-05   1.68528911e-05\n",
      "    1.68528911e-05   1.68528911e-05   1.68528911e-05   1.68528911e-05\n",
      "    1.68528911e-05   1.68528911e-05   1.68528911e-05]\n",
      " [  5.59065243e-05   5.59065243e-05   5.59065243e-05   5.59065243e-05\n",
      "    1.92933415e-01   8.05668922e-01   5.59065243e-05   5.59065243e-05\n",
      "    5.59065243e-05   5.59065243e-05   5.59065243e-05   5.59065243e-05\n",
      "    5.59065243e-05   5.59065243e-05   5.59065243e-05   5.59065243e-05\n",
      "    5.59065243e-05   5.59065243e-05   5.59065243e-05   5.59065243e-05\n",
      "    5.59065243e-05   5.59065243e-05   5.59065243e-05   5.59065243e-05\n",
      "    5.59065243e-05   5.59065243e-05   5.59065243e-05]\n",
      " [  1.11024759e-04   1.11024759e-04   1.11024759e-04   1.11024759e-04\n",
      "    1.11024759e-04   1.11024759e-04   8.05040524e-01   1.11024759e-04\n",
      "    1.11024759e-04   1.92183857e-01   1.11024759e-04   1.11024759e-04\n",
      "    1.11024759e-04   1.11024759e-04   1.11024759e-04   1.11024759e-04\n",
      "    1.11024759e-04   1.11024759e-04   1.11024759e-04   1.11024759e-04\n",
      "    1.11024759e-04   1.11024759e-04   1.11024759e-04   1.11024759e-04\n",
      "    1.11024759e-04   1.11024759e-04   1.11024759e-04]\n",
      " [  9.31358853e-05   9.31358853e-05   9.31358853e-05   9.31358853e-05\n",
      "    9.31358853e-05   9.31358853e-05   1.93815777e-01   8.03855826e-01\n",
      "    9.31358853e-05   9.31358853e-05   9.31358853e-05   9.31358853e-05\n",
      "    9.31358853e-05   9.31358853e-05   9.31358853e-05   9.31358853e-05\n",
      "    9.31358853e-05   9.31358853e-05   9.31358853e-05   9.31358853e-05\n",
      "    9.31358853e-05   9.31358853e-05   9.31358853e-05   9.31358853e-05\n",
      "    9.31358853e-05   9.31358853e-05   9.31358853e-05]\n",
      " [  3.35942487e-05   3.35942487e-05   3.35942487e-05   3.35942487e-05\n",
      "    3.35942487e-05   3.35942487e-05   3.35942487e-05   3.35942487e-05\n",
      "    8.03272080e-01   3.35942487e-05   3.35942487e-05   1.95888064e-01\n",
      "    3.35942487e-05   3.35942487e-05   3.35942487e-05   3.35942487e-05\n",
      "    3.35942487e-05   3.35942487e-05   3.35942487e-05   3.35942487e-05\n",
      "    3.35942487e-05   3.35942487e-05   3.35942487e-05   3.35942487e-05\n",
      "    3.35942487e-05   3.35942487e-05   3.35942487e-05]\n",
      " [  2.95621841e-05   2.95621841e-05   2.95621841e-05   2.95621841e-05\n",
      "    2.95621841e-05   2.95621841e-05   2.95621841e-05   2.95621841e-05\n",
      "    2.15242262e-01   7.84018683e-01   2.95621841e-05   2.95621841e-05\n",
      "    2.95621841e-05   2.95621841e-05   2.95621841e-05   2.95621841e-05\n",
      "    2.95621841e-05   2.95621841e-05   2.95621841e-05   2.95621841e-05\n",
      "    2.95621841e-05   2.95621841e-05   2.95621841e-05   2.95621841e-05\n",
      "    2.95621841e-05   2.95621841e-05   2.95621841e-05]\n",
      " [  3.04228780e-04   3.04228780e-04   3.04228780e-04   3.04228780e-04\n",
      "    3.04228780e-04   3.04228780e-04   3.04228780e-04   3.04228780e-04\n",
      "    3.04228780e-04   3.04228780e-04   7.91299057e-01   3.04228780e-04\n",
      "    3.04228780e-04   2.01095224e-01   3.04228780e-04   3.04228780e-04\n",
      "    3.04228780e-04   3.04228780e-04   3.04228780e-04   3.04228780e-04\n",
      "    3.04228780e-04   3.04228780e-04   3.04228780e-04   3.04228780e-04\n",
      "    3.04228780e-04   3.04228780e-04   3.04228780e-04]\n",
      " [  2.28832952e-03   2.28832952e-03   2.28832952e-03   2.28832952e-03\n",
      "    2.28832952e-03   2.28832952e-03   2.28832952e-03   2.28832952e-03\n",
      "    2.28832952e-03   2.28832952e-03   1.16704805e-01   8.26086957e-01\n",
      "    2.28832952e-03   2.28832952e-03   2.28832952e-03   2.28832952e-03\n",
      "    2.28832952e-03   2.28832952e-03   2.28832952e-03   2.28832952e-03\n",
      "    2.28832952e-03   2.28832952e-03   2.28832952e-03   2.28832952e-03\n",
      "    2.28832952e-03   2.28832952e-03   2.28832952e-03]\n",
      " [  7.50356419e-05   7.50356419e-05   7.50356419e-05   7.50356419e-05\n",
      "    7.50356419e-05   7.50356419e-05   7.50356419e-05   7.50356419e-05\n",
      "    7.50356419e-05   7.50356419e-05   7.50356419e-05   7.50356419e-05\n",
      "    7.93952127e-01   7.50356419e-05   7.50356419e-05   2.04171982e-01\n",
      "    7.50356419e-05   7.50356419e-05   7.50356419e-05   7.50356419e-05\n",
      "    7.50356419e-05   7.50356419e-05   7.50356419e-05   7.50356419e-05\n",
      "    7.50356419e-05   7.50356419e-05   7.50356419e-05]\n",
      " [  4.97092012e-05   4.97092012e-05   4.97092012e-05   4.97092012e-05\n",
      "    4.97092012e-05   4.97092012e-05   4.97092012e-05   4.97092012e-05\n",
      "    4.97092012e-05   4.97092012e-05   4.97092012e-05   4.97092012e-05\n",
      "    2.15787642e-01   7.82969628e-01   4.97092012e-05   4.97092012e-05\n",
      "    4.97092012e-05   4.97092012e-05   4.97092012e-05   4.97092012e-05\n",
      "    4.97092012e-05   4.97092012e-05   4.97092012e-05   4.97092012e-05\n",
      "    4.97092012e-05   4.97092012e-05   4.97092012e-05]\n",
      " [  2.70365263e-05   2.70365263e-05   2.70365263e-05   2.70365263e-05\n",
      "    2.70365263e-05   2.70365263e-05   2.70365263e-05   2.70365263e-05\n",
      "    2.70365263e-05   2.70365263e-05   2.70365263e-05   2.70365263e-05\n",
      "    2.70365263e-05   2.70365263e-05   7.97874929e-01   2.70365263e-05\n",
      "    2.70365263e-05   2.01449158e-01   2.70365263e-05   2.70365263e-05\n",
      "    2.70365263e-05   2.70365263e-05   2.70365263e-05   2.70365263e-05\n",
      "    2.70365263e-05   2.70365263e-05   2.70365263e-05]\n",
      " [  3.50299506e-05   3.50299506e-05   3.50299506e-05   3.50299506e-05\n",
      "    3.50299506e-05   3.50299506e-05   3.50299506e-05   3.50299506e-05\n",
      "    3.50299506e-05   3.50299506e-05   3.50299506e-05   3.50299506e-05\n",
      "    3.50299506e-05   3.50299506e-05   1.89547063e-01   8.09577188e-01\n",
      "    3.50299506e-05   3.50299506e-05   3.50299506e-05   3.50299506e-05\n",
      "    3.50299506e-05   3.50299506e-05   3.50299506e-05   3.50299506e-05\n",
      "    3.50299506e-05   3.50299506e-05   3.50299506e-05]\n",
      " [  2.34192037e-03   2.34192037e-03   2.34192037e-03   2.34192037e-03\n",
      "    2.34192037e-03   2.34192037e-03   2.34192037e-03   2.34192037e-03\n",
      "    2.34192037e-03   2.34192037e-03   2.34192037e-03   2.34192037e-03\n",
      "    2.34192037e-03   2.34192037e-03   2.34192037e-03   2.34192037e-03\n",
      "    7.51756440e-01   2.34192037e-03   2.34192037e-03   1.89695550e-01\n",
      "    2.34192037e-03   2.34192037e-03   2.34192037e-03   2.34192037e-03\n",
      "    2.34192037e-03   2.34192037e-03   2.34192037e-03]\n",
      " [  1.58302992e-04   1.58302992e-04   1.58302992e-04   1.58302992e-04\n",
      "    1.58302992e-04   1.58302992e-04   1.58302992e-04   1.58302992e-04\n",
      "    1.58302992e-04   1.58302992e-04   1.58302992e-04   1.58302992e-04\n",
      "    1.58302992e-04   1.58302992e-04   1.58302992e-04   1.58302992e-04\n",
      "    1.72708564e-01   8.23333861e-01   1.58302992e-04   1.58302992e-04\n",
      "    1.58302992e-04   1.58302992e-04   1.58302992e-04   1.58302992e-04\n",
      "    1.58302992e-04   1.58302992e-04   1.58302992e-04]\n",
      " [  3.14001319e-05   3.14001319e-05   3.14001319e-05   3.14001319e-05\n",
      "    3.14001319e-05   3.14001319e-05   3.14001319e-05   3.14001319e-05\n",
      "    3.14001319e-05   3.14001319e-05   3.14001319e-05   3.14001319e-05\n",
      "    3.14001319e-05   3.14001319e-05   3.14001319e-05   3.14001319e-05\n",
      "    3.14001319e-05   3.14001319e-05   7.96966747e-01   3.14001319e-05\n",
      "    3.14001319e-05   2.02248249e-01   3.14001319e-05   3.14001319e-05\n",
      "    3.14001319e-05   3.14001319e-05   3.14001319e-05]\n",
      " [  3.74573922e-05   3.74573922e-05   3.74573922e-05   3.74573922e-05\n",
      "    3.74573922e-05   3.74573922e-05   3.74573922e-05   3.74573922e-05\n",
      "    3.74573922e-05   3.74573922e-05   3.74573922e-05   3.74573922e-05\n",
      "    3.74573922e-05   3.74573922e-05   3.74573922e-05   3.74573922e-05\n",
      "    3.74573922e-05   3.74573922e-05   2.07925984e-01   7.91137581e-01\n",
      "    3.74573922e-05   3.74573922e-05   3.74573922e-05   3.74573922e-05\n",
      "    3.74573922e-05   3.74573922e-05   3.74573922e-05]\n",
      " [  6.52869361e-05   6.52869361e-05   6.52869361e-05   6.52869361e-05\n",
      "    6.52869361e-05   6.52869361e-05   6.52869361e-05   6.52869361e-05\n",
      "    6.52869361e-05   6.52869361e-05   6.52869361e-05   6.52869361e-05\n",
      "    6.52869361e-05   6.52869361e-05   6.52869361e-05   6.52869361e-05\n",
      "    6.52869361e-05   6.52869361e-05   6.52869361e-05   6.52869361e-05\n",
      "    7.95260168e-01   6.52869361e-05   6.52869361e-05   2.03107658e-01\n",
      "    6.52869361e-05   6.52869361e-05   6.52869361e-05]\n",
      " [  2.14882781e-05   2.14882781e-05   2.14882781e-05   2.14882781e-05\n",
      "    2.14882781e-05   2.14882781e-05   2.14882781e-05   2.14882781e-05\n",
      "    2.14882781e-05   2.14882781e-05   2.14882781e-05   2.14882781e-05\n",
      "    2.14882781e-05   2.14882781e-05   2.14882781e-05   2.14882781e-05\n",
      "    2.14882781e-05   2.14882781e-05   2.14882781e-05   2.14882781e-05\n",
      "    2.05019662e-01   7.94443131e-01   2.14882781e-05   2.14882781e-05\n",
      "    2.14882781e-05   2.14882781e-05   2.14882781e-05]\n",
      " [  8.00192046e-05   8.00192046e-05   8.00192046e-05   8.00192046e-05\n",
      "    8.00192046e-05   8.00192046e-05   8.00192046e-05   8.00192046e-05\n",
      "    8.00192046e-05   8.00192046e-05   8.00192046e-05   8.00192046e-05\n",
      "    8.00192046e-05   8.00192046e-05   8.00192046e-05   8.00192046e-05\n",
      "    8.00192046e-05   8.00192046e-05   8.00192046e-05   8.00192046e-05\n",
      "    8.00192046e-05   8.00192046e-05   7.98671681e-01   8.00192046e-05\n",
      "    8.00192046e-05   1.99327839e-01   8.00192046e-05]\n",
      " [  1.71320884e-04   1.71320884e-04   1.71320884e-04   1.71320884e-04\n",
      "    1.71320884e-04   1.71320884e-04   1.71320884e-04   1.71320884e-04\n",
      "    1.71320884e-04   1.71320884e-04   1.71320884e-04   1.71320884e-04\n",
      "    1.71320884e-04   1.71320884e-04   1.71320884e-04   1.71320884e-04\n",
      "    1.71320884e-04   1.71320884e-04   1.71320884e-04   1.71320884e-04\n",
      "    1.71320884e-04   1.71320884e-04   2.12609217e-01   7.83107761e-01\n",
      "    1.71320884e-04   1.71320884e-04   1.71320884e-04]\n",
      " [  7.67636447e-05   7.67636447e-05   7.67636447e-05   7.67636447e-05\n",
      "    7.67636447e-05   7.67636447e-05   7.67636447e-05   7.67636447e-05\n",
      "    7.67636447e-05   7.67636447e-05   7.67636447e-05   7.67636447e-05\n",
      "    7.67636447e-05   7.67636447e-05   7.67636447e-05   7.67636447e-05\n",
      "    7.67636447e-05   7.67636447e-05   7.67636447e-05   7.67636447e-05\n",
      "    7.67636447e-05   7.67636447e-05   7.67636447e-05   7.67636447e-05\n",
      "    7.94580487e-01   7.67636447e-05   2.03500422e-01]\n",
      " [  2.88184438e-03   2.88184438e-03   2.88184438e-03   2.88184438e-03\n",
      "    2.88184438e-03   2.88184438e-03   2.88184438e-03   2.88184438e-03\n",
      "    2.88184438e-03   2.88184438e-03   2.88184438e-03   2.88184438e-03\n",
      "    2.88184438e-03   2.88184438e-03   2.88184438e-03   2.88184438e-03\n",
      "    2.88184438e-03   2.88184438e-03   2.88184438e-03   2.88184438e-03\n",
      "    2.88184438e-03   2.88184438e-03   2.88184438e-03   2.88184438e-03\n",
      "    2.91066282e-01   6.36887608e-01   2.88184438e-03]\n",
      " [  5.64971751e-03   2.31638418e-01   5.64971751e-03   5.64971751e-03\n",
      "    5.64971751e-03   5.64971751e-03   5.64971751e-03   5.64971751e-03\n",
      "    5.64971751e-03   5.64971751e-03   5.64971751e-03   5.64971751e-03\n",
      "    5.64971751e-03   5.64971751e-03   5.64971751e-03   5.64971751e-03\n",
      "    5.64971751e-03   5.64971751e-03   5.64971751e-03   5.64971751e-03\n",
      "    5.64971751e-03   5.64971751e-03   5.64971751e-03   5.64971751e-03\n",
      "    5.64971751e-03   5.64971751e-03   6.27118644e-01]]\n"
     ]
    }
   ],
   "source": [
    "O = len(observed_states)\n",
    "\n",
    "emission_probability = np.zeros((S, O)) + pc  # row is hidden state, column is observed state\n",
    "\n",
    "for char_idx in xrange(len(corpus_list)):\n",
    "    i = hidden_states.index(corpus_list[char_idx])  # convert char in corpus to row index\n",
    "    j = observed_states.index(text_list[char_idx])  # convert char in corrupted text to column index\n",
    "    emission_probability[i, j] += 1\n",
    "\n",
    "# check we have the right number of counts\n",
    "assert np.abs((np.sum(emission_probability) - pc * S * O) - len(corpus_list)) < 0.1 # tolerance\n",
    "\n",
    "# normalize rows to probabilities\n",
    "row_sums = emission_probability.sum(axis=1, keepdims=True)\n",
    "emission_probability = emission_probability * 1.0 / row_sums\n",
    "\n",
    "print emission_probability\n",
    "\n",
    "def get_emission_probability_from_matrix(prevstate_idx, nextstate_data, observed_states, epmatrix):\n",
    "    # given index of previous state and data for next step, return emission probability\n",
    "    return epmatrix[prevstate_idx, observed_states.index(nextstate_data)]"
   ]
  },
  {
   "cell_type": "markdown",
   "metadata": {},
   "source": [
    "<div class=\"alert alert-info\">\n",
    "As expected, since the spaces in the texts are aligned, we expected the emission probability for a space to another space to be higher than a space to any other character (which is non-zero because of the pseudo-count).\n",
    "</div>\n",
    "\n",
    "#### Main Viterbi method"
   ]
  },
  {
   "cell_type": "code",
   "execution_count": 13,
   "metadata": {
    "collapsed": true
   },
   "outputs": [],
   "source": [
    "def viterbi(data, hidden_states, observed_states, start_p, trans_p, emit_p, verbose=True):\n",
    "        \n",
    "    T = len(data)\n",
    "    S = len(hidden_states) \n",
    "    \n",
    "    V = np.zeros((T, S))  # define probability matrix with dimensions (# observations, # hidden states)\n",
    "    \n",
    "    # populate probability matrix for time 0\n",
    "    # work in logspace\n",
    "    for i in xrange(S):\n",
    "        if emit_p is None:\n",
    "            # call function to get emission probability\n",
    "            V[0, i] = np.log(start_p[i]) + np.log(get_emission_probability(i, data[0]))\n",
    "        else:\n",
    "            V[0, i] = np.log(start_p[i]) + np.log(get_emission_probability_from_matrix(i, data[0],\n",
    "                                                                                      observed_states,\n",
    "                                                                                      emit_p))\n",
    "    # Run Viterbi when t > 0\n",
    "    for t in range(1, T): \n",
    "        for j in xrange(S):\n",
    "            prevrow = V[t-1,:]\n",
    "            transprobs = np.log(trans_p[:,j])\n",
    "            if emit_p is None:\n",
    "                emitprob = np.log(get_emission_probability(j, data[t]))  \n",
    "            else:\n",
    "                emitprob = np.log(get_emission_probability_from_matrix(j, data[t], observed_states, emit_p))\n",
    "            vector = prevrow + transprobs + emitprob  # emitprob is a number: to broadcast\n",
    "            assert len(vector) == S\n",
    "            V[t, j] = np.max(vector)  # maximum probability of reaching state j\n",
    "    \n",
    "    if verbose:\n",
    "        print \"log probabilities (time steps 0..T)\"\n",
    "        for i in dptable(V, T, hidden_states):\n",
    "            print i\n",
    "\n",
    "    # get optimal path\n",
    "    opt = []\n",
    "    for row in xrange(T):\n",
    "        opt.append(hidden_states[np.argmax(V[row, ])])\n",
    "    \n",
    "    if verbose:\n",
    "        # The highest probability\n",
    "        print '\\nThe steps of states are {' + ' '.join(opt) + '} with highest probability of %s' % np.exp(max(V[-1,]))\n",
    "    \n",
    "    return opt\n",
    "\n",
    "def dptable(V, T, hidden_states):\n",
    "    # Print a table of steps\n",
    "    # yield \"  \".join((\"%6d\" % i) for i in xrange(T))\n",
    "    for y, state in enumerate(hidden_states):\n",
    "        yield \"%.7s: \" % state + \" \".join(\"%.7s\" % (\"%f\" % V[row, y]) for row in xrange(T))"
   ]
  },
  {
   "cell_type": "code",
   "execution_count": 14,
   "metadata": {
    "collapsed": false
   },
   "outputs": [
    {
     "name": "stdout",
     "output_type": "stream",
     "text": [
      "100 characters checked in 0.03 seconds, accuracy: 0.8900\n"
     ]
    }
   ],
   "source": [
    "# let's test it on a sequence of 100 characters from the test set\n",
    "len_test = 100  # number of characters in test sequence\n",
    "assert (len_test <= len(text_test)) and (len(text_test) == len(corpus_test))\n",
    "\n",
    "begin_index = 0\n",
    "observations = text_test[begin_index : begin_index + len_test]\n",
    "\n",
    "start = time.time()\n",
    "# get list of proposed corrections\n",
    "proposed = viterbi(observations, hidden_states, observed_states, \n",
    "                   start_probability, transition_probability, emission_probability, verbose=False)\n",
    "\n",
    "accuracy = np.mean([proposed[i] == corpus_test[begin_index + i] for i in xrange(len_test)])\n",
    "print \"%i characters checked in %.2f seconds, accuracy: %.4f\" % (len_test, time.time() - start, accuracy) "
   ]
  },
  {
   "cell_type": "code",
   "execution_count": 15,
   "metadata": {
    "collapsed": false
   },
   "outputs": [
    {
     "name": "stdout",
     "output_type": "stream",
     "text": [
      "ttplo og coth and to hit rpbbfry iad annexee uhz bseauh buu gor his thfft in psidf og all his growth\n"
     ]
    }
   ],
   "source": [
    "# corrupted text\n",
    "print ''.join(observations)"
   ]
  },
  {
   "cell_type": "code",
   "execution_count": 16,
   "metadata": {
    "collapsed": false
   },
   "outputs": [
    {
     "name": "stdout",
     "output_type": "stream",
     "text": [
      "ttolo of coth and to hit roabery iad annexee thy bseath but gor his theet in pride of all his growsh\n"
     ]
    }
   ],
   "source": [
    "# proposed corrected text\n",
    "print ''.join(proposed)"
   ]
  },
  {
   "cell_type": "code",
   "execution_count": 17,
   "metadata": {
    "collapsed": false
   },
   "outputs": [
    {
     "name": "stdout",
     "output_type": "stream",
     "text": [
      "stoln of both and to his robbery had annexed thy breath but for his theft in pride of all his growth\n"
     ]
    }
   ],
   "source": [
    "# actual text (test set)\n",
    "print ''.join(corpus_test[:len_test])"
   ]
  },
  {
   "cell_type": "markdown",
   "metadata": {},
   "source": [
    "<div class=\"alert alert-info\">\n",
    "Note that since we are only looking at individual characters, and not words as a whole, the proposed words still include gibberish. <br><br>\n",
    "\n",
    "We now do the tests of the requested length.\n",
    "</div>"
   ]
  },
  {
   "cell_type": "code",
   "execution_count": 18,
   "metadata": {
    "collapsed": false
   },
   "outputs": [
    {
     "name": "stdout",
     "output_type": "stream",
     "text": [
      "100 characters checked in 0.03 seconds, accuracy: 0.8900\n",
      "500 characters checked in 0.14 seconds, accuracy: 0.9320\n",
      "1000 characters checked in 0.23 seconds, accuracy: 0.9210\n",
      "2000 characters checked in 0.44 seconds, accuracy: 0.9135\n"
     ]
    }
   ],
   "source": [
    "tests = [100, 500, 1000, 2000]   # number of characters in test sequence\n",
    "\n",
    "for len_test in tests:\n",
    "    \n",
    "    assert (len_test <= len(text_test)) and (len(text_test) == len(corpus_test))\n",
    "\n",
    "    begin_index = 0  # we can change this if we want to start elsewhere in the test set\n",
    "    observations = text_test[begin_index : begin_index + len_test]\n",
    "\n",
    "    start = time.time()\n",
    "    proposed = viterbi(observations, hidden_states, observed_states, \n",
    "                       start_probability, transition_probability, emission_probability, verbose=False)\n",
    "    accuracy = np.mean([proposed[i] == corpus_test[begin_index + i] for i in xrange(len_test)])\n",
    "\n",
    "    print \"%i characters checked in %.2f seconds, accuracy: %.4f\" % (len_test, time.time() - start, accuracy)\n",
    "    sys.stdout.flush()"
   ]
  },
  {
   "cell_type": "markdown",
   "metadata": {},
   "source": [
    "<div class=\"alert alert-info\">\n",
    "Decent accuracy. Here are the 2000 character corrupted text, corrected text, and actual text sets.\n",
    "</div>"
   ]
  },
  {
   "cell_type": "code",
   "execution_count": 19,
   "metadata": {
    "collapsed": false
   },
   "outputs": [
    {
     "name": "stdout",
     "output_type": "stream",
     "text": [
      "ttplo og coth and to hit rpbbfry iad annexee uhz bseauh buu gor his thfft in psidf og all his growth a vengeful cankfr eat him vq uo dfati more floxest i notfe yet i nonf doule tfe but sweeu or cplour iu had stoln from thee where brt thov nuse thbt thov forgettt so long to speak og uhat which givfs thee bll thy migit sqendst uhou uhy gury on some worthlett song dbrkenjng thz power to lend bbse subjects light return fprgetful muse bnd ttraight redeem jo hentle numbert tjme so idlz spent sjng to the ear tiat dpti thy layt fsteem and gjves thy pen both skjll and arhumfnt rjte restz muse my lpves swefu face svrvfz jf time hawe any wriokle gravfn thfre if aoy be a tatirf uo decay aod make times spoils detpjted everz whfrf hiwe my love fame fbttes tian time xastet life so thov preventsu his tcythe and crooled lnife o trvbnt muse what shall ce thy bmends for thy oeglfct of truuh in beauuy eyed coth truth boe beavty on ny love depends so dosu thou tpo ane therein dignifife make answer mvse wilt thou npt haply say trvuh neees no colour wjth his dolovs fiyed beauty no pencil cfautys trvth to may cut cest it besu if never jnuermiyed bedause he oeeds oo psaise xilt tiov bf dunb excvse npt silendf so gort mjes in thfe to make him mvdh ouuljve a gildfe tomc and to be praited of ahes yet tp ce uhen do uhz offide mvse i teach thee how to make iim sefm loog heocf at hf shows now my lowe is tusenguheoed though mpre weak in seening i love not mets tiough mfst the show appear that love is merchandiafd whote sich estffming tie owners tongve doth pvbmjsh every where our move was new aod uheo but in uhf spring when i was wpnt uo hreet it with my lbys as piilpnel jn summfss fsoou doth sjng ane stops his pipe in grpwti og siqer days nou thau the svnmfr is lfss pleasanu npw than when her mourofum hymns die iush thf ojght but that wimd nusjc busthens fvery bpugh and sweets grown commoo motf their dear delight therefore mjke her j spmeuimf homd my upnguf bfcause j woule nou eull ypu wiui my so\n"
     ]
    }
   ],
   "source": [
    "# corrupted text\n",
    "print ''.join(observations)"
   ]
  },
  {
   "cell_type": "code",
   "execution_count": 20,
   "metadata": {
    "collapsed": false
   },
   "outputs": [
    {
     "name": "stdout",
     "output_type": "stream",
     "text": [
      "ttolo of coth and to hit roabery iad annexee thy bseath but gor his theet in pride of all his growsh a vengeeul canker eat him vp to death more flowest i notee yet i none doule tee but sweet or colour it had stoln from thee where brt thou nuse that thou forgettt so long to speak of that which ghves thee bll thy might spendst thou thy gury on some worthlett song darkening thy power to lend base subiects light return forgetetl muse bnd ttraight redeem in hentle numbert time so idly spent sing to the ear that doth thy lays frteem and gives thy pen both skill and arhument rite resty muse my loues sweeu face survey if thme hawe any wrinkle graven there if any be a tathre to decay and make thmes spoils detoited every where hive my loue fame fattes than thme wastet life so thou preventsu his tcyshe and crooled lnife o trvbnt muse what shall ce thy blends for thy oeglfct of truth in beatty eyed coth truth boe beavty on ny loue depends so dosu thou too ane therein dignifife make answer muse wilt thou not haply say trvth neees no colour with his dolous fixed beatty no penchl ceattys trvth to may cut cest it besu if never intermixed bedatse he oeeds oo praise wilt thou be duna excuse not silende so gort mies in thee to make him mudh outlive a ghldee tomb and to be praited of ages yet to ce then do thy offide muse i teach thee how to make iim seem loog hence at he shows now my lowe is tusenguhened though mpre weak in seening i loue not mets though mest the show appear that loue is merchandiaed whote sich esteeming the owners tongue doth pubmish every where our moue was new and then but in the spring when i was wont to hreet it with my lays as piilonel in sumless froou doth sing ane stoor his pioe in growsi of siqer days nou that the sunmer is lfss pleasant now than when her mourofum hymms die itsh the oight but that wimd nusic busthens fuery bough and sweets grown commoo mote their dear delight thereeore mike her i spmethme homd my tongue becatse i woule nou etll you with my so\n"
     ]
    }
   ],
   "source": [
    "# proposed corrected text\n",
    "print ''.join(proposed)"
   ]
  },
  {
   "cell_type": "code",
   "execution_count": 21,
   "metadata": {
    "collapsed": false
   },
   "outputs": [
    {
     "name": "stdout",
     "output_type": "stream",
     "text": [
      "stoln of both and to his robbery had annexed thy breath but for his theft in pride of all his growth a vengeful canker eat him up to death more flowers i noted yet i none could see but sweet or colour it had stoln from thee where art thou muse that thou forgetst so long to speak of that which gives thee all thy might spendst thou thy fury on some worthless song darkening thy power to lend base subjects light return forgetful muse and straight redeem in gentle numbers time so idly spent sing to the ear that doth thy lays esteem and gives thy pen both skill and argument rise resty muse my loves sweet face survey if time have any wrinkle graven there if any be a satire to decay and make times spoils despised every where give my love fame faster than time wastes life so thou preventst his scythe and crooked knife o truant muse what shall be thy amends for thy neglect of truth in beauty dyed both truth and beauty on my love depends so dost thou too and therein dignified make answer muse wilt thou not haply say truth needs no colour with his colour fixed beauty no pencil beautys truth to lay but best is best if never intermixed because he needs no praise wilt thou be dumb excuse not silence so fort lies in thee to make him much outlive a gilded tomb and to be praised of ages yet to be then do thy office muse i teach thee how to make him seem long hence as he shows now my love is strengthened though more weak in seeming i love not less though less the show appear that love is merchandized whose rich esteeming the owners tongue doth publish every where our love was new and then but in the spring when i was wont to greet it with my lays as philomel in summers front doth sing and stops his pipe in growth of riper days not that the summer is less pleasant now than when her mournful hymns did hush the night but that wild music burthens every bough and sweets grown common lose their dear delight therefore like her i sometime hold my tongue because i would not dull you with my so\n"
     ]
    }
   ],
   "source": [
    "# actual text (test data)\n",
    "print ''.join(corpus_test[:len_test])"
   ]
  },
  {
   "cell_type": "markdown",
   "metadata": {},
   "source": [
    "### Second-order HMM (character-level)\n",
    "\n",
    "Now for a second order HMM: By using a second order HMM, you should be able to get a better correction rate. Give an intuitive explanation why a second order HMM should give better results. Implement your second order text correction. Hint: If you think a bit about the model you won't even have to change your Viterbi implementation. Compare your correction rates against the first order model for text length of 100 and 500, (you can do 1000 as well if your computer is fast enough). How well would your implementation scale to HMMs of even higher order?"
   ]
  },
  {
   "cell_type": "markdown",
   "metadata": {},
   "source": [
    "<div class=\"alert alert-info\">\n",
    "Intuitively, the second order model takes into account two proceeding characters when determining whether a given character is correct or not. For example, \"u\" might be reasonably corrected to \"f\" if you knew it followed an \"o\" (i.e. \"ou\" -> \"of\"); however, if you knew the preceding two characters were \"y\" and \"o\", then leaving the \"u\" as-is (\"you\") makes more sense than changing the \"u\" to an \"f\" (\"yof\"). The additional context may allow for a better correction rate. <br><br>\n",
    "\n",
    "From an implementation perspective, we note that we can modify the transition matrix: instead of storing probabilities of moving from $char_{-1}$ to $char_0$, we can store probabilities of moving from $(char_{-2}, char_{-1})$ to $(char_{-1}, char_0)$. Examining pairs of characters instead of individual ones allows us to re-use our first-order Viterbi algorithm. <br><br>\n",
    "\n",
    "Reference: http://stackoverflow.com/questions/20509490/viterbi-algorithm-for-second-order-hmm <br><br>\n",
    "\n",
    "We note this particular implementation could scale to HMM's of higher order by maintaining sets of characters as a state. However, we would need to be more careful when defining our transition and emission matrices. With trigrams, for example, we would need to incorporate the fact that from one three-character-combination to another three-character combination, we must pass through an additional intermediate state and track those probabilities. We could also consider employing higher-dimensional matrices, and modify our Viterbi algorithm accordingly. More importantly, any higher-order model will require a significant amount more training data, to better ensure that the probabilities calculated for different sequences will make sense.\n",
    "</div>"
   ]
  },
  {
   "cell_type": "code",
   "execution_count": 22,
   "metadata": {
    "collapsed": false
   },
   "outputs": [
    {
     "data": {
      "text/plain": [
       "425"
      ]
     },
     "execution_count": 22,
     "metadata": {},
     "output_type": "execute_result"
    }
   ],
   "source": [
    "# We only looked at pairs of characters that occurred in the training data, to save space\n",
    "pairs_list = [(corpus_list[i], corpus_list[i+1]) for i in xrange(len(corpus_list) - 1)]\n",
    "hidden_states_2 = list(set(pairs_list))\n",
    "len(hidden_states_2)  # unique pairs of characters in the corpus"
   ]
  },
  {
   "cell_type": "markdown",
   "metadata": {},
   "source": [
    "<div class=\"alert alert-info\">\n",
    "With respect to starting probabilities, we counted the number of times each pair of characters appears in the corpus (training data), and used those counts to determine prior probabilities. Higher frequencies of occurrence of the pair may suggest a higher potential to appear as the first pair of characters being tested.\n",
    "</div>"
   ]
  },
  {
   "cell_type": "code",
   "execution_count": 23,
   "metadata": {
    "collapsed": false
   },
   "outputs": [],
   "source": [
    "# redefine start probability matrix\n",
    "S2 = len(hidden_states_2)\n",
    "start_probability_2 = np.zeros(S2) + pc\n",
    "\n",
    "for char in xrange(len(corpus_list)-1):\n",
    "    tup = (corpus_list[char], corpus_list[char+1])\n",
    "    start_probability_2[hidden_states_2.index(tup)] += 1\n",
    "\n",
    "start_probability_2 = start_probability_2 * 1.0 / np.sum(start_probability_2)"
   ]
  },
  {
   "cell_type": "markdown",
   "metadata": {},
   "source": [
    "<div class=\"alert alert-info\">\n",
    "With respect to the transition matrix, we find the probability of moving from a given two character state, to a different two character state, by counting the number of times this transition occurs in the corpus (training data). We can then use those counts to determine the transition probabilities. Higher frequencies of a transition suggests that such transition is more likely to occur.\n",
    "</div>"
   ]
  },
  {
   "cell_type": "code",
   "execution_count": 24,
   "metadata": {
    "collapsed": false
   },
   "outputs": [],
   "source": [
    "# redefine transition matrix\n",
    "# we considered eliminating the pseudo-count here to \"force\" transition between certain states\n",
    "# but we noted that it is still possible to correct to a more probable state (discussion below)\n",
    "transition_probability_2 = np.zeros((S2, S2)) + pc\n",
    "\n",
    "for char_idx in xrange(len(corpus_list) - 2):\n",
    "    i = hidden_states_2.index((corpus_list[char_idx], corpus_list[char_idx + 1])) # convert current pair to row index\n",
    "    j = hidden_states_2.index((corpus_list[char_idx + 1], corpus_list[char_idx + 2])) # convert next pair to column index\n",
    "    transition_probability_2[i, j] += 1\n",
    "\n",
    "# check we have the right number of counts\n",
    "assert np.abs((np.sum(transition_probability_2) - S2 * S2 * pc) - (len(corpus_list) - 2)) < 0.1  # tolerance\n",
    "\n",
    "# normalize rows to probabilities\n",
    "row_sums = transition_probability_2.sum(axis=1, keepdims=True)\n",
    "transition_probability_2 = transition_probability_2 / np.maximum(row_sums, 1)  # avoid division by zero for last pair"
   ]
  },
  {
   "cell_type": "markdown",
   "metadata": {},
   "source": [
    "<div class=\"alert alert-info\">\n",
    "With respect to the emissions matrix, we build this in a manner analogous to the building of the transition matrix above; we find the probability of seeing a given two character state, when a certain two character state was intended. We do this by counting the number of times we see a certain two character state when some other two character state occurs in the corpus (training data). We can then use those counts to determine the emission probabilities. Higher frequencies suggests that a certain pair of corrupted characters is more likely to occur.\n",
    "</div>"
   ]
  },
  {
   "cell_type": "code",
   "execution_count": 25,
   "metadata": {
    "collapsed": false
   },
   "outputs": [
    {
     "data": {
      "text/plain": [
       "630"
      ]
     },
     "execution_count": 25,
     "metadata": {},
     "output_type": "execute_result"
    }
   ],
   "source": [
    "# redefine emissions matrix\n",
    "# we need to pick up all possible observed states (alternatively we could set up for all 27 x 27 = 729 possibilities)\n",
    "# but we save space this way\n",
    "obs_pairs_list = [(text_list[i], text_list[i+1]) for i in xrange(len(text_list) - 1)]\n",
    "obs_pairs_list2 = [(text_test[i], text_test[i+1]) for i in xrange(len(text_test) - 1)]  # we \"cheat\" by looking here\n",
    "observed_states_2 = list(set(obs_pairs_list + obs_pairs_list2))\n",
    "len(observed_states_2)  # unique pairs of characters in the corrupted text"
   ]
  },
  {
   "cell_type": "code",
   "execution_count": 26,
   "metadata": {
    "collapsed": false
   },
   "outputs": [
    {
     "name": "stdout",
     "output_type": "stream",
     "text": [
      "[[ 0.1  0.1  0.1 ...,  0.1  0.1  0.1]\n",
      " [ 0.1  0.1  0.1 ...,  0.1  0.1  0.1]\n",
      " [ 0.1  0.1  0.1 ...,  0.1  0.1  0.1]\n",
      " ..., \n",
      " [ 0.1  0.1  0.1 ...,  0.1  0.1  0.1]\n",
      " [ 0.1  0.1  0.1 ...,  0.1  0.1  0.1]\n",
      " [ 0.1  0.1  0.1 ...,  0.1  0.1  0.1]]\n"
     ]
    }
   ],
   "source": [
    "O2 = len(observed_states_2)\n",
    "\n",
    "emission_probability_2 = np.zeros((S2, O2)) + pc   # row is hidden state (char pair), column is observed state (char pair)\n",
    "\n",
    "print emission_probability_2\n",
    "\n",
    "for pair_idx in xrange(len(pairs_list)):\n",
    "    i = hidden_states_2.index(pairs_list[pair_idx])  # convert char pair in corpus to row index\n",
    "    j = observed_states_2.index(obs_pairs_list[pair_idx])  # convert char pair in corrupted text to column index\n",
    "    emission_probability_2[i, j] += 1\n",
    "\n",
    "# check we have the right number of counts\n",
    "assert np.abs((np.sum(emission_probability_2) - pc * S2 * O2) - len(pairs_list)) < 0.1 # tolerance\n",
    "\n",
    "# normalize rows to probabilities\n",
    "row_sums = emission_probability_2.sum(axis=1, keepdims=True)\n",
    "emission_probability_2 = emission_probability_2 * 1.0 / row_sums"
   ]
  },
  {
   "cell_type": "code",
   "execution_count": 27,
   "metadata": {
    "collapsed": false
   },
   "outputs": [],
   "source": [
    "# let's test it on a sequence of 100 characters from the test set\n",
    "len_test = 100  # number of characters in test sequence\n",
    "assert (len_test <= len(text_test)) and (len(text_test) == len(corpus_test))\n",
    "\n",
    "begin_index = 0\n",
    "observations = text_test[begin_index : begin_index + len_test]\n",
    "\n",
    "# reformat data into pairs\n",
    "observations_2 = [(observations[i], observations[i+1]) for i in xrange(len(observations) - 1)]\n",
    "\n",
    "start = time.time()\n",
    "# get list of proposed corrections\n",
    "proposed = viterbi(observations_2, hidden_states_2, observed_states_2, \n",
    "                   start_probability_2, transition_probability_2, emission_probability_2, verbose=False)\n",
    "end = time.time() - start"
   ]
  },
  {
   "cell_type": "code",
   "execution_count": 28,
   "metadata": {
    "collapsed": false
   },
   "outputs": [
    {
     "name": "stdout",
     "output_type": "stream",
     "text": [
      "[('t', 't'), ('t', 'p'), ('p', 'l'), ('l', 'o'), ('o', ' '), (' ', 'o'), ('o', 'g'), ('g', ' '), (' ', 'c'), ('c', 'o'), ('o', 't'), ('t', 'h'), ('h', ' '), (' ', 'a'), ('a', 'n'), ('n', 'd'), ('d', ' '), (' ', 't'), ('t', 'o'), ('o', ' '), (' ', 'h'), ('h', 'i'), ('i', 't'), ('t', ' '), (' ', 'r'), ('r', 'p'), ('p', 'b'), ('b', 'b'), ('b', 'f'), ('f', 'r'), ('r', 'y'), ('y', ' '), (' ', 'i'), ('i', 'a'), ('a', 'd'), ('d', ' '), (' ', 'a'), ('a', 'n'), ('n', 'n'), ('n', 'e'), ('e', 'x'), ('x', 'e'), ('e', 'e'), ('e', ' '), (' ', 'u'), ('u', 'h'), ('h', 'z'), ('z', ' '), (' ', 'b'), ('b', 's'), ('s', 'e'), ('e', 'a'), ('a', 'u'), ('u', 'h'), ('h', ' '), (' ', 'b'), ('b', 'u'), ('u', 'u'), ('u', ' '), (' ', 'g'), ('g', 'o'), ('o', 'r'), ('r', ' '), (' ', 'h'), ('h', 'i'), ('i', 's'), ('s', ' '), (' ', 't'), ('t', 'h'), ('h', 'f'), ('f', 'f'), ('f', 't'), ('t', ' '), (' ', 'i'), ('i', 'n'), ('n', ' '), (' ', 'p'), ('p', 's'), ('s', 'i'), ('i', 'd'), ('d', 'f'), ('f', ' '), (' ', 'o'), ('o', 'g'), ('g', ' '), (' ', 'a'), ('a', 'l'), ('l', 'l'), ('l', ' '), (' ', 'h'), ('h', 'i'), ('i', 's'), ('s', ' '), (' ', 'g'), ('g', 'r'), ('r', 'o'), ('o', 'w'), ('w', 't'), ('t', 'h')]\n"
     ]
    }
   ],
   "source": [
    "print observations_2"
   ]
  },
  {
   "cell_type": "code",
   "execution_count": 29,
   "metadata": {
    "collapsed": false
   },
   "outputs": [
    {
     "name": "stdout",
     "output_type": "stream",
     "text": [
      "[('s', 't'), ('t', 'o'), ('o', 'l'), ('l', 'o'), ('o', ' '), (' ', 'o'), ('o', 'f'), ('f', ' '), (' ', 'b'), ('c', 'o'), ('o', 's'), ('t', 'h'), ('h', ' '), (' ', 'a'), ('a', 'n'), ('n', 'd'), ('d', ' '), (' ', 't'), ('t', 'o'), ('o', ' '), (' ', 'h'), ('h', 'i'), ('i', 's'), ('s', ' '), (' ', 'r'), ('r', 'o'), ('o', 'a'), ('b', 'a'), ('b', 'e'), ('e', 'r'), ('r', 'y'), ('y', ' '), (' ', 'i'), ('h', 'a'), ('a', 'd'), ('d', ' '), (' ', 'a'), ('a', 'n'), ('n', 'n'), ('n', 'e'), ('e', 'w'), ('w', 'e'), ('e', 'e'), ('e', ' '), (' ', 't'), ('t', 'h'), ('h', 'y'), ('y', ' '), (' ', 'b'), ('b', 'r'), ('r', 'e'), ('e', 'a'), ('a', 'u'), ('t', 'h'), ('h', ' '), (' ', 'b'), ('b', 'u'), ('u', 't'), ('t', ' '), (' ', 'g'), ('f', 'o'), ('o', 'r'), ('r', ' '), (' ', 'h'), ('h', 'i'), ('i', 's'), ('s', ' '), (' ', 't'), ('t', 'h'), ('h', 'e'), ('e', 'e'), ('e', 't'), ('t', ' '), (' ', 'i'), ('i', 'n'), ('n', ' '), (' ', 'p'), ('p', 'r'), ('r', 'i'), ('i', 'd'), ('d', 'e'), ('e', ' '), (' ', 'o'), ('o', 'f'), ('f', ' '), (' ', 'a'), ('a', 'l'), ('l', 'l'), ('l', ' '), (' ', 'h'), ('h', 'i'), ('i', 's'), ('s', ' '), (' ', 'g'), ('g', 'r'), ('r', 'o'), ('o', 'w'), ('w', 's'), ('t', 'h')]\n"
     ]
    }
   ],
   "source": [
    "print proposed"
   ]
  },
  {
   "cell_type": "code",
   "execution_count": 30,
   "metadata": {
    "collapsed": false
   },
   "outputs": [
    {
     "name": "stdout",
     "output_type": "stream",
     "text": [
      "['s', 't', 'o', 'l', 'n', ' ', 'o', 'f', ' ', 'b', 'o', 't', 'h', ' ', 'a', 'n', 'd', ' ', 't', 'o', ' ', 'h', 'i', 's', ' ', 'r', 'o', 'b', 'b', 'e', 'r', 'y', ' ', 'h', 'a', 'd', ' ', 'a', 'n', 'n', 'e', 'x', 'e', 'd', ' ', 't', 'h', 'y', ' ', 'b', 'r', 'e', 'a', 't', 'h', ' ', 'b', 'u', 't', ' ', 'f', 'o', 'r', ' ', 'h', 'i', 's', ' ', 't', 'h', 'e', 'f', 't', ' ', 'i', 'n', ' ', 'p', 'r', 'i', 'd', 'e', ' ', 'o', 'f', ' ', 'a', 'l', 'l', ' ', 'h', 'i', 's', ' ', 'g', 'r', 'o', 'w', 't', 'h']\n"
     ]
    }
   ],
   "source": [
    "print corpus_test[:len_test]"
   ]
  },
  {
   "cell_type": "markdown",
   "metadata": {},
   "source": [
    "<div class=\"alert alert-info\">\n",
    "The depiction of the state transitions for the observed data and the proposed corrections is not helpful. So we reconstructed these paired states into readable form. We built back the proposed string by taking the first letter of each state pair, and both letters from the last pair. (Alternatively, we could choose both letters from the first pair and the second letter of each state pair for comparable results).\n",
    "</div>"
   ]
  },
  {
   "cell_type": "code",
   "execution_count": 31,
   "metadata": {
    "collapsed": false
   },
   "outputs": [
    {
     "name": "stdout",
     "output_type": "stream",
     "text": [
      "Warning: not all pairs linked\n"
     ]
    }
   ],
   "source": [
    "# reconstruct sequence from character pairs\n",
    "def pairs_to_list(prop, verbose=True):\n",
    "    \n",
    "    charstring = []\n",
    "    warned = False\n",
    "    \n",
    "    for i in xrange(len(prop)):\n",
    "        if i < (len(prop) - 1):\n",
    "            try:\n",
    "                assert prop[i][1] == prop[i+1][0]  # check that words correctly link together\n",
    "            except:\n",
    "                if not warned:\n",
    "                    if verbose:\n",
    "                        print \"Warning: not all pairs linked\"\n",
    "                    warned = True\n",
    "            charstring.append(prop[i][0])  # take first element\n",
    "        else:  # last pair\n",
    "            charstring.append(prop[i][0]) \n",
    "            charstring.append(prop[i][1])\n",
    "\n",
    "    return charstring\n",
    "\n",
    "proposed2 = pairs_to_list(proposed)"
   ]
  },
  {
   "cell_type": "code",
   "execution_count": 32,
   "metadata": {
    "collapsed": false
   },
   "outputs": [
    {
     "name": "stdout",
     "output_type": "stream",
     "text": [
      "100 characters checked in 1.10 seconds, accuracy: 0.9500\n"
     ]
    }
   ],
   "source": [
    "accuracy = np.mean([proposed2[i] == corpus_test[begin_index + i] for i in xrange(len_test)])\n",
    "print \"%i characters checked in %.2f seconds, accuracy: %.4f\" % (len_test, end, accuracy) "
   ]
  },
  {
   "cell_type": "markdown",
   "metadata": {},
   "source": [
    "<div class=\"alert alert-info\">\n",
    "A slight increase in accuracy, at the expense of a longer run time.\n",
    "</div>"
   ]
  },
  {
   "cell_type": "code",
   "execution_count": 33,
   "metadata": {
    "collapsed": false
   },
   "outputs": [
    {
     "name": "stdout",
     "output_type": "stream",
     "text": [
      "[('s', 't'), ('t', 'o'), ('o', 'l'), ('l', 'o'), ('o', ' '), (' ', 'o'), ('o', 'f'), ('f', ' '), (' ', 'b'), ('c', 'o'), ('o', 's'), ('t', 'h'), ('h', ' '), (' ', 'a'), ('a', 'n'), ('n', 'd'), ('d', ' '), (' ', 't'), ('t', 'o'), ('o', ' '), (' ', 'h'), ('h', 'i'), ('i', 's'), ('s', ' '), (' ', 'r'), ('r', 'o'), ('o', 'a'), ('b', 'a'), ('b', 'e'), ('e', 'r'), ('r', 'y'), ('y', ' '), (' ', 'i'), ('h', 'a'), ('a', 'd'), ('d', ' '), (' ', 'a'), ('a', 'n'), ('n', 'n'), ('n', 'e'), ('e', 'w'), ('w', 'e'), ('e', 'e'), ('e', ' '), (' ', 't'), ('t', 'h'), ('h', 'y'), ('y', ' '), (' ', 'b'), ('b', 'r'), ('r', 'e'), ('e', 'a'), ('a', 'u'), ('t', 'h'), ('h', ' '), (' ', 'b'), ('b', 'u'), ('u', 't'), ('t', ' '), (' ', 'g'), ('f', 'o'), ('o', 'r'), ('r', ' '), (' ', 'h'), ('h', 'i'), ('i', 's'), ('s', ' '), (' ', 't'), ('t', 'h'), ('h', 'e'), ('e', 'e'), ('e', 't'), ('t', ' '), (' ', 'i'), ('i', 'n'), ('n', ' '), (' ', 'p'), ('p', 'r'), ('r', 'i'), ('i', 'd'), ('d', 'e'), ('e', ' '), (' ', 'o'), ('o', 'f'), ('f', ' '), (' ', 'a'), ('a', 'l'), ('l', 'l'), ('l', ' '), (' ', 'h'), ('h', 'i'), ('i', 's'), ('s', ' '), (' ', 'g'), ('g', 'r'), ('r', 'o'), ('o', 'w'), ('w', 's'), ('t', 'h')]\n"
     ]
    }
   ],
   "source": [
    "# Let's see why we got a warning\n",
    "print proposed"
   ]
  },
  {
   "cell_type": "markdown",
   "metadata": {},
   "source": [
    "<div class=\"alert alert-info\">\n",
    "Interestingly, when we take a closer look at the state transitions, we note that it is not always the case that a successive state will share the same first letter as the last letter of the previous state (see e.g. (' ', 'b'), ('c', 'o')), regardless of whether we add a pseudocount to the transition probabilities or not. This does not occur that often, but it does occur some of the time. By picking the path associated with the largest probability at each step, there may be a point in which the algorithm corrects to a new more probable state, rather than being constrained by a previously corrected state (which could still contain a typo, and may get itself stuck trying to find a next character in the sequence where there is no obvious good choice). <br><br>\n",
    "\n",
    "We now run our algorithm on the different length test sequences:\n",
    "</div>"
   ]
  },
  {
   "cell_type": "code",
   "execution_count": 34,
   "metadata": {
    "collapsed": false
   },
   "outputs": [
    {
     "name": "stdout",
     "output_type": "stream",
     "text": [
      "100 characters checked in 1.09 seconds, accuracy: 0.9500\n",
      "500 characters checked in 5.50 seconds, accuracy: 0.9600\n",
      "1000 characters checked in 10.85 seconds, accuracy: 0.9640\n",
      "2000 characters checked in 22.04 seconds, accuracy: 0.9575\n"
     ]
    }
   ],
   "source": [
    "tests = [100, 500, 1000, 2000]   # number of characters in test sequence\n",
    "\n",
    "for len_test in tests:\n",
    "    \n",
    "    assert (len_test <= len(text_test)) and (len(text_test) == len(corpus_test))\n",
    "\n",
    "    begin_index = 0  # we can change this if we want to start elsewhere in the test set\n",
    "    observations = text_test[begin_index : begin_index + len_test]\n",
    "    observations_2 = [(observations[i], observations[i+1]) for i in xrange(len(observations) - 1)]\n",
    "    \n",
    "    start = time.time()\n",
    "    proposed = viterbi(observations_2, hidden_states_2, observed_states_2, \n",
    "                       start_probability_2, transition_probability_2, emission_probability_2, verbose=False)\n",
    "    proposed2 = pairs_to_list(proposed, verbose=False)  # convert from pairs to sequence\n",
    "    accuracy = np.mean([proposed2[i] == corpus_test[begin_index + i] for i in xrange(len_test)])\n",
    "\n",
    "    print \"%i characters checked in %.2f seconds, accuracy: %.4f\" % (len_test, time.time() - start, accuracy)\n",
    "    sys.stdout.flush()"
   ]
  },
  {
   "cell_type": "markdown",
   "metadata": {},
   "source": [
    "<div class=\"alert alert-info\">\n",
    "Comparing to the earlier results for the first-order character level HMM:\n",
    "    \n",
    "<code>\n",
    "100 characters checked in 0.02 seconds, accuracy: 0.8900\n",
    "500 characters checked in 0.15 seconds, accuracy: 0.9320\n",
    "1000 characters checked in 0.23 seconds, accuracy: 0.9210\n",
    "2000 characters checked in 0.43 seconds, accuracy: 0.9135\n",
    "</code>\n",
    "<br>\n",
    "We notice that we have experienced an overall increase in accuracy with the second-order HMM, despite having to effectively revert to a different selection if a certain state has no high-probability choice that maintains a common linking letter. More precise results might be obtained with more training data.\n",
    "</div>"
   ]
  },
  {
   "cell_type": "code",
   "execution_count": 35,
   "metadata": {
    "collapsed": false
   },
   "outputs": [
    {
     "name": "stdout",
     "output_type": "stream",
     "text": [
      "ttplo og coth and to hit rpbbfry iad annexee uhz bseauh buu gor his thfft in psidf og all his growth a vengeful cankfr eat him vq uo dfati more floxest i notfe yet i nonf doule tfe but sweeu or cplour iu had stoln from thee where brt thov nuse thbt thov forgettt so long to speak og uhat which givfs thee bll thy migit sqendst uhou uhy gury on some worthlett song dbrkenjng thz power to lend bbse subjects light return fprgetful muse bnd ttraight redeem jo hentle numbert tjme so idlz spent sjng to the ear tiat dpti thy layt fsteem and gjves thy pen both skjll and arhumfnt rjte restz muse my lpves swefu face svrvfz jf time hawe any wriokle gravfn thfre if aoy be a tatirf uo decay aod make times spoils detpjted everz whfrf hiwe my love fame fbttes tian time xastet life so thov preventsu his tcythe and crooled lnife o trvbnt muse what shall ce thy bmends for thy oeglfct of truuh in beauuy eyed coth truth boe beavty on ny love depends so dosu thou tpo ane therein dignifife make answer mvse wilt thou npt haply say trvuh neees no colour wjth his dolovs fiyed beauty no pencil cfautys trvth to may cut cest it besu if never jnuermiyed bedause he oeeds oo psaise xilt tiov bf dunb excvse npt silendf so gort mjes in thfe to make him mvdh ouuljve a gildfe tomc and to be praited of ahes yet tp ce uhen do uhz offide mvse i teach thee how to make iim sefm loog heocf at hf shows now my lowe is tusenguheoed though mpre weak in seening i love not mets tiough mfst the show appear that love is merchandiafd whote sich estffming tie owners tongve doth pvbmjsh every where our move was new aod uheo but in uhf spring when i was wpnt uo hreet it with my lbys as piilpnel jn summfss fsoou doth sjng ane stops his pipe in grpwti og siqer days nou thau the svnmfr is lfss pleasanu npw than when her mourofum hymns die iush thf ojght but that wimd nusjc busthens fvery bpugh and sweets grown commoo motf their dear delight therefore mjke her j spmeuimf homd my upnguf bfcause j woule nou eull ypu wiui my so\n"
     ]
    }
   ],
   "source": [
    "# corrupted text for length 2000\n",
    "print ''.join(observations)"
   ]
  },
  {
   "cell_type": "code",
   "execution_count": 36,
   "metadata": {
    "collapsed": false
   },
   "outputs": [
    {
     "name": "stdout",
     "output_type": "stream",
     "text": [
      "stolo of coth and to his robbery had annewee thy breath but for his theet in pride of all his growth a vengeful canker eat him up to death more flowest i notee yet i none dould tee but sweet or colour it had stoln from thee where brt thou nuse that thou forgetst so long to speak of that which gives thee bll thy might spendst thou thy gury on some worthlest song darkening thy power to lend base subjects light resurn forgeteul muse and straight receem in hentle numbert time so idly spent sing to the ear that doth thy lays fsteem and gives thy pen both skill and argument rite resty muse my loves sweet face survey if time have any wrinkle graven there if any be a tatire to decay and make times spoils despited every where hive my love fame fattes than time wastet life so thou preventst his scythe and crooked knife o truant muse what shall be thy blends for thy oeglect of truth in beauty eyed coth truth bnd beauty on my love depends so dost thou too and therein dignifife make answer muse wilt thou not haply say truth needs no colour with his dolovs fhyed beauty no pencil beautys truth to may but best it best if never intermhyed because he oeeds on praise wilt thou be dumb excuse not silende so gort mies in thee to make him much outlive a gildee tomb and to be praited of ages yet to be then do thy offide muse i teach thee how to make him seem long hence at he shows now my love is susengthened though more weak in seeming i love not mets though mest the show appear that love is merchandiaed whose sich esteeming the owners tongue doth publish every where our move was new and then but in the spring when i was wont to greet it with my lays as philonel in summess froot doth sing and stoor his pipe in growth of shger days nou that the summer is less plearant now than when her mournful hymns die iush the oight but that wild nusic busthens every bough and sweets grown commoo mose their dear delight therefore mike her i sometime hold my uongue because i would nou eull you with my so\n"
     ]
    }
   ],
   "source": [
    "# proposed corrected text\n",
    "print ''.join(proposed2)"
   ]
  },
  {
   "cell_type": "code",
   "execution_count": 37,
   "metadata": {
    "collapsed": false
   },
   "outputs": [
    {
     "name": "stdout",
     "output_type": "stream",
     "text": [
      "stoln of both and to his robbery had annexed thy breath but for his theft in pride of all his growth a vengeful canker eat him up to death more flowers i noted yet i none could see but sweet or colour it had stoln from thee where art thou muse that thou forgetst so long to speak of that which gives thee all thy might spendst thou thy fury on some worthless song darkening thy power to lend base subjects light return forgetful muse and straight redeem in gentle numbers time so idly spent sing to the ear that doth thy lays esteem and gives thy pen both skill and argument rise resty muse my loves sweet face survey if time have any wrinkle graven there if any be a satire to decay and make times spoils despised every where give my love fame faster than time wastes life so thou preventst his scythe and crooked knife o truant muse what shall be thy amends for thy neglect of truth in beauty dyed both truth and beauty on my love depends so dost thou too and therein dignified make answer muse wilt thou not haply say truth needs no colour with his colour fixed beauty no pencil beautys truth to lay but best is best if never intermixed because he needs no praise wilt thou be dumb excuse not silence so fort lies in thee to make him much outlive a gilded tomb and to be praised of ages yet to be then do thy office muse i teach thee how to make him seem long hence as he shows now my love is strengthened though more weak in seeming i love not less though less the show appear that love is merchandized whose rich esteeming the owners tongue doth publish every where our love was new and then but in the spring when i was wont to greet it with my lays as philomel in summers front doth sing and stops his pipe in growth of riper days not that the summer is less pleasant now than when her mournful hymns did hush the night but that wild music burthens every bough and sweets grown common lose their dear delight therefore like her i sometime hold my tongue because i would not dull you with my so\n"
     ]
    }
   ],
   "source": [
    "# actual text (test data)\n",
    "print ''.join(corpus_test[:len_test])"
   ]
  },
  {
   "cell_type": "markdown",
   "metadata": {},
   "source": [
    "---\n",
    "\n",
    "<a id='wordchar'></a>\n",
    "\n",
    "# Combining character-level correction and word-level correction."
   ]
  },
  {
   "cell_type": "markdown",
   "metadata": {},
   "source": [
    "<div class=\"alert alert-info\">\n",
    "Finally, as mentioned earlier, we may also attempt to increase our accuracy by combining the two approaches we described; for example, applying the second-order character-level algorithm to the data to be corrected first (to correct character mistakes), and then applying the first-order word-level algorithm (to correct word mistakes). This may also make the proposed text more sensible as it is less likely to contain gibberish. \n",
    "</div>"
   ]
  },
  {
   "cell_type": "code",
   "execution_count": 53,
   "metadata": {
    "collapsed": false
   },
   "outputs": [
    {
     "name": "stdout",
     "output_type": "stream",
     "text": [
      "389\n",
      "389\n"
     ]
    }
   ],
   "source": [
    "# we repeat the word-level code here in case the first part of the notebook was not run\n",
    "\n",
    "new_test = ''.join(proposed2).split()\n",
    "new_ref = ''.join(corpus_test[:2000]).split()\n",
    "\n",
    "print len(new_test)\n",
    "print len(new_ref)\n",
    "\n",
    "corpus_list = corpus.split()  # splits on white space and puts words into a list\n",
    "text_list = text_to_correct.split()  # splits on white space and puts words into a list\n",
    "\n",
    "# create test sets\n",
    "cutoff = 2002  # cutoff ~2000 words for testing (it would be nice to have more)\n",
    "\n",
    "corpus_test2 = new_ref # *** replaced these with results from character-level correction\n",
    "corpus_list = corpus_list[:-cutoff]\n",
    "\n",
    "text_test2 = new_test # *** replaced these with results from character-level correction\n",
    "text_list = text_list[:-cutoff]\n",
    "\n",
    "hidden_states = list(set(corpus_list))\n",
    "S = len(hidden_states)\n",
    "start_probability = np.ones(S) * 1.0 / S \n",
    "\n",
    "pc = 0.1 # add a pseudocount\n",
    "transition_probability = np.zeros((S, S)) + pc\n",
    "\n",
    "for word_idx in xrange(len(corpus_list) - 1):\n",
    "    i = hidden_states.index(corpus_list[word_idx])  # convert current word to row index\n",
    "    j = hidden_states.index(corpus_list[word_idx + 1])  # convert next word to column index\n",
    "    transition_probability[i, j] += 1\n",
    "\n",
    "# check we have the right number of counts\n",
    "assert (np.abs((np.sum(transition_probability) - pc * S * S) - (len(corpus_list) - 1))) < 0.1   # tolerance\n",
    "\n",
    "# normalize rows to probabilities\n",
    "row_sums = transition_probability.sum(axis=1, keepdims=True)\n",
    "transition_probability = transition_probability * 1.0 / np.maximum(row_sums, 1) # avoid division by zero for last word\n",
    "\n",
    "def get_emission_probability(prevstate_idx, nextstate_data):\n",
    "    \n",
    "    # prevstate_idx: the index of the hidden state\n",
    "    # nextstate_data: the actual string being considered\n",
    "    lamb = 0.01  # rate parameter\n",
    "    \n",
    "    reference_word = hidden_states[prevstate_idx]\n",
    "    observed_word = nextstate_data\n",
    "    \n",
    "    if len(reference_word) == len(observed_word):\n",
    "        edit_distance = np.sum([reference_word[char] != observed_word[char] for char in xrange(len(reference_word))])\n",
    "        return scipy.stats.poisson.pmf(edit_distance, lamb)\n",
    "    else:\n",
    "        return scipy.stats.poisson.pmf(20, lamb) # assign some small probability"
   ]
  },
  {
   "cell_type": "code",
   "execution_count": 54,
   "metadata": {
    "collapsed": false
   },
   "outputs": [
    {
     "name": "stdout",
     "output_type": "stream",
     "text": [
      "389 words checked in 112.72 seconds, accuracy: 0.8123\n"
     ]
    }
   ],
   "source": [
    "len_test = len(new_test)  # number of words in test sequence for comparison\n",
    "\n",
    "begin_index = 0  # we can change this if we want to start elsewhere in the test set\n",
    "observations = text_test2[begin_index : begin_index + len_test]\n",
    "\n",
    "start = time.time()\n",
    "proposed = viterbi(observations, hidden_states, None, \n",
    "                   start_probability, transition_probability, None, verbose=False)\n",
    "\n",
    "accuracy = np.mean([proposed[i] == corpus_test2[begin_index + i] for i in xrange(len_test)])\n",
    "\n",
    "print \"%i words checked in %.2f seconds, accuracy: %.4f\" % (len_test, time.time() - start, accuracy)\n",
    "sys.stdout.flush()"
   ]
  },
  {
   "cell_type": "code",
   "execution_count": 55,
   "metadata": {
    "collapsed": false
   },
   "outputs": [
    {
     "name": "stdout",
     "output_type": "stream",
     "text": [
      "stolo of coth and to his robbery had annewee thy breath but for his theet in pride of all his growth a vengeful canker eat him up to death more flowest i notee yet i none dould tee but sweet or colour it had stoln from thee where brt thou nuse that thou forgetst so long to speak of that which gives thee bll thy might spendst thou thy gury on some worthlest song darkening thy power to lend base subjects light resurn forgeteul muse and straight receem in hentle numbert time so idly spent sing to the ear that doth thy lays fsteem and gives thy pen both skill and argument rite resty muse my loves sweet face survey if time have any wrinkle graven there if any be a tatire to decay and make times spoils despited every where hive my love fame fattes than time wastet life so thou preventst his scythe and crooked knife o truant muse what shall be thy blends for thy oeglect of truth in beauty eyed coth truth bnd beauty on my love depends so dost thou too and therein dignifife make answer muse wilt thou not haply say truth needs no colour with his dolovs fhyed beauty no pencil beautys truth to may but best it best if never intermhyed because he oeeds on praise wilt thou be dumb excuse not silende so gort mies in thee to make him much outlive a gildee tomb and to be praited of ages yet to be then do thy offide muse i teach thee how to make him seem long hence at he shows now my love is susengthened though more weak in seeming i love not mets though mest the show appear that love is merchandiaed whose sich esteeming the owners tongue doth publish every where our move was new and then but in the spring when i was wont to greet it with my lays as philonel in summess froot doth sing and stoor his pipe in growth of shger days nou that the summer is less plearant now than when her mournful hymns die iush the oight but that wild nusic busthens every bough and sweets grown commoo mose their dear delight therefore mike her i sometime hold my uongue because i would nou eull you with my so\n"
     ]
    }
   ],
   "source": [
    "print ' '.join(observations)"
   ]
  },
  {
   "cell_type": "code",
   "execution_count": 56,
   "metadata": {
    "collapsed": false
   },
   "outputs": [
    {
     "name": "stdout",
     "output_type": "stream",
     "text": [
      "stoln of doth and to his robbery had another thy breath but for his cheek in pride of all his growst a wasteful canker eat him up to death more flowers i noted yet i none would the but sweet or honour it had stoln from thee where art thou muse that thou farthest so long to speak of that which gives thee ill thy might special thou thy wary on some worthless song battering thy power to lend base subjects light return forgotten muse and straight review in gentle numbers time so idle spent sing to the ear that doth thy days father and gives thy pen both skill and argument rite lusty muse my loves sweet face survey if time have any wracked graves there if any be a nature to decay and make times broils despised every where hide my love fame matter than time wastes life so thou presentst his scythe and crooked knife o truest muse what shall be thy blanks for thy respect of truth in beauty eyes doth truth and beauty on my love defence so dost thou too and therein dignifies make answer muse wilt thou not haply say truth needs no honour with his delves filed beauty no pencil beautys truth to may but best it best if never determined because he feeds on praise wilt thou be dumb excuse not silence so sort lies in thee to make him much outlive a gilded tomb and to be praises of ages yet to be then do thy divide muse i teach thee how to make him seem long hence at he shows now my love is forebemoaned though more weak in seeming i love not mens though must the show appear that love is forebemoaned whose rich extremity the others tongue doth unbless every where our move was new and then but in the spring when i was want to greet it with my days as prisoner in summers frost doth sing and stoln his pine in growst of anger days not that the summer is less pleasing now than when her youthful hymns die muse the right but that wind music feathers every rough and sweets grown common muse their dear delight therefore mine her i sometime hold my tongue because i would not full you with my so\n"
     ]
    }
   ],
   "source": [
    "print ' '.join(proposed)"
   ]
  },
  {
   "cell_type": "code",
   "execution_count": 57,
   "metadata": {
    "collapsed": false
   },
   "outputs": [
    {
     "name": "stdout",
     "output_type": "stream",
     "text": [
      "stoln of both and to his robbery had annexed thy breath but for his theft in pride of all his growth a vengeful canker eat him up to death more flowers i noted yet i none could see but sweet or colour it had stoln from thee where art thou muse that thou forgetst so long to speak of that which gives thee all thy might spendst thou thy fury on some worthless song darkening thy power to lend base subjects light return forgetful muse and straight redeem in gentle numbers time so idly spent sing to the ear that doth thy lays esteem and gives thy pen both skill and argument rise resty muse my loves sweet face survey if time have any wrinkle graven there if any be a satire to decay and make times spoils despised every where give my love fame faster than time wastes life so thou preventst his scythe and crooked knife o truant muse what shall be thy amends for thy neglect of truth in beauty dyed both truth and beauty on my love depends so dost thou too and therein dignified make answer muse wilt thou not haply say truth needs no colour with his colour fixed beauty no pencil beautys truth to lay but best is best if never intermixed because he needs no praise wilt thou be dumb excuse not silence so fort lies in thee to make him much outlive a gilded tomb and to be praised of ages yet to be then do thy office muse i teach thee how to make him seem long hence as he shows now my love is strengthened though more weak in seeming i love not less though less the show appear that love is merchandized whose rich esteeming the owners tongue doth publish every where our love was new and then but in the spring when i was wont to greet it with my lays as philomel in summers front doth sing and stops his pipe in growth of riper days not that the summer is less pleasant now than when her mournful hymns did hush the night but that wild music burthens every bough and sweets grown common lose their dear delight therefore like her i sometime hold my tongue because i would not dull you with my so\n"
     ]
    }
   ],
   "source": [
    "print ' '.join(corpus_test2[:len_test])"
   ]
  },
  {
   "cell_type": "markdown",
   "metadata": {},
   "source": [
    "<div class=\"alert alert-info\">\n",
    "Interestingly, we did not get the improvement we expected. On a positive note, it appears that the proposed corrected text is now more readable, and contains only words that can be found in the corpus. However, it does worse than character-level correction (although comparable to, in fact slightly better than, the results when using only word-level correction). This suggests that the corruption is not likely a random process; there may be some pattern to the corruption that is not reflected in the transition and emission matrices. However, we would expect better results with a larger training set. Moreover, if we applied a second-order word level algorithm (which requires a larger corpus), we would expected better results since we would be taking into account the context of a word within a sentence.\n",
    "</div>"
   ]
  },
  {
   "cell_type": "markdown",
   "metadata": {},
   "source": [
    "# Extra Problem 2: Final Project Review\n",
    "    \n",
    "You will be contacted shortly by a TF to meet and discuss your final project proposal. Be sure to take advantage of this feedback option. Review meetings should be scheduled within the week from April 11-15. "
   ]
  }
 ],
 "metadata": {
  "kernelspec": {
   "display_name": "Python 2",
   "language": "python",
   "name": "python2"
  },
  "language_info": {
   "codemirror_mode": {
    "name": "ipython",
    "version": 2
   },
   "file_extension": ".py",
   "mimetype": "text/x-python",
   "name": "python",
   "nbconvert_exporter": "python",
   "pygments_lexer": "ipython2",
   "version": "2.7.11"
  }
 },
 "nbformat": 4,
 "nbformat_minor": 0
}
