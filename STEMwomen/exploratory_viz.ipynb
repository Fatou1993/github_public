{
 "cells": [
  {
   "cell_type": "markdown",
   "metadata": {},
   "source": [
    "# Exploratory Data Analysis"
   ]
  },
  {
   "cell_type": "markdown",
   "metadata": {},
   "source": [
    "<div class=\"alert alert-info\">\n",
    "<pre>\n",
    "######################\n",
    "#\n",
    "# Submission by Kendrick Lo (Harvard ID: 70984997) for\n",
    "# AC 209 - Data Science (Profs. H. Pfister, J. Blitzstein, V. Kaynig-Fittkau)\n",
    "# \n",
    "# This is part of a joint project with Amy Lee and Gioia Dominedo.\n",
    "#\n",
    "######################\n",
    "</pre>\n",
    "\n",
    "Documentation referenced: <br><p>\n",
    "<ul>\n",
    "<li>Visualization Lectures</li>\n",
    "<li>Tableau Documentation</li>\n",
    "</ul>\n",
    "</div>"
   ]
  },
  {
   "cell_type": "markdown",
   "metadata": {},
   "source": [
    "## Are women going to college? Are they getting into STEM fields?"
   ]
  },
  {
   "cell_type": "markdown",
   "metadata": {},
   "source": [
    "<img src=\"images/college_gender.png\">"
   ]
  },
  {
   "cell_type": "markdown",
   "metadata": {},
   "source": [
    "<div class=\"alert alert-info\">\n",
    "Women are not shying away from higher education. That's great!\n",
    "</div>"
   ]
  },
  {
   "cell_type": "markdown",
   "metadata": {},
   "source": [
    "<img src=\"images/college_stem_gender.png\">"
   ]
  },
  {
   "cell_type": "markdown",
   "metadata": {},
   "source": [
    "<div class=\"alert alert-info\">\n",
    "While 60% of college students surveyed were female, only 42% were in STEM majors.  There seems to be more men than women, but perhaps that is not too surprising. Actually, it doesn't seem that bad...\n",
    "</div>"
   ]
  },
  {
   "cell_type": "markdown",
   "metadata": {},
   "source": [
    "<img src=\"images/stem_female.png\">"
   ]
  },
  {
   "cell_type": "markdown",
   "metadata": {},
   "source": [
    "<div class=\"alert alert-warning\">\n",
    "But if you look at it this way... only 12.7% of female college students chose to pursue studies in a STEM major.\n",
    "</div>"
   ]
  },
  {
   "cell_type": "markdown",
   "metadata": {},
   "source": [
    "## Demographics"
   ]
  },
  {
   "cell_type": "markdown",
   "metadata": {},
   "source": [
    "<img src=\"images/women_stem_age.png\">"
   ]
  },
  {
   "cell_type": "markdown",
   "metadata": {},
   "source": [
    "<div class=\"alert alert-info\">\n",
    "Interesting how spread out the ages are. Makes sense that the bulk is centered around 22, but do we want to consider everyone above say 30? Should the focus be on \"young\" women?\n",
    "</div>"
   ]
  },
  {
   "cell_type": "markdown",
   "metadata": {},
   "source": [
    "<div class=\"alert alert-warning\">\n",
    "[GD]: Should we check the data for the college indicator? Seems strange to have so many \"older\" people currently in college.\n",
    "</div>"
   ]
  },
  {
   "cell_type": "markdown",
   "metadata": {},
   "source": [
    "<img src=\"images/women_stem_birthqtr.png\">"
   ]
  },
  {
   "cell_type": "markdown",
   "metadata": {},
   "source": [
    "<div class=\"alert alert-info\">\n",
    "Seems pretty balanced. I guess it doesn't depend on astrological sign after all. \n",
    "</div>"
   ]
  },
  {
   "cell_type": "markdown",
   "metadata": {},
   "source": [
    "[22 Nov]"
   ]
  },
  {
   "cell_type": "markdown",
   "metadata": {},
   "source": [
    "## Race and Language"
   ]
  },
  {
   "cell_type": "markdown",
   "metadata": {},
   "source": [
    "<img src=\"images/race_bar.png\">"
   ]
  },
  {
   "cell_type": "markdown",
   "metadata": {},
   "source": [
    "<img src=\"images/race_table.png\">"
   ]
  },
  {
   "cell_type": "markdown",
   "metadata": {},
   "source": [
    "<img src=\"images/race_pies.png\">"
   ]
  },
  {
   "cell_type": "markdown",
   "metadata": {},
   "source": [
    "<div class=\"alert alert-info\">\n",
    "At first glance, as a proportion of total students, Chinese seems to be the greatest (~1/3), and native american lowest (less than 5%), although some subsamples are too small to make any reasonable inference. Most others in the range of 10-20%.\n",
    "</div>"
   ]
  },
  {
   "cell_type": "markdown",
   "metadata": {},
   "source": [
    "<img src=\"images/lang_logbar.png\">"
   ]
  },
  {
   "cell_type": "markdown",
   "metadata": {},
   "source": [
    "<img src=\"images/lang_logcircle.png\">"
   ]
  },
  {
   "cell_type": "markdown",
   "metadata": {},
   "source": [
    "<div class=\"alert alert-info\">\n",
    "These are not that helpful, except just to note that the blue dot (non-STEM) is consistently higher than STEM. No surprise.\n",
    "</div>"
   ]
  },
  {
   "cell_type": "markdown",
   "metadata": {},
   "source": [
    "## Family"
   ]
  },
  {
   "cell_type": "markdown",
   "metadata": {},
   "source": [
    "<img src=\"images/famsize.png\">"
   ]
  },
  {
   "cell_type": "markdown",
   "metadata": {},
   "source": [
    "<img src=\"images/siblings.png\">"
   ]
  },
  {
   "cell_type": "markdown",
   "metadata": {},
   "source": [
    "<div class=\"alert alert-info\">\n",
    "Not sure whether or not these provide any interesting insights. Note that the data only consider family members <b>within the same household</b>, so this may or may not capture the size or makeup of the individual's immediate family if they are not all living within the same household. <p>\n",
    "\n",
    "I suspect what may be more useful are features such as: <br>\n",
    "<ul>\n",
    "<li>mother's occupation</li>\n",
    "<li>father's occupation</li>\n",
    "<li>whether the respondent is an oldest child or not</li>\n",
    "<li>whether the respondent is a youngest child or not</li>\n",
    "<li>occupation of oldest sibling if male</li>\n",
    "<li>occupation of oldest sibling if female</li>\n",
    "<li>major of study of elder sibling if in college</li>\n",
    "<li>etc....</li>\n",
    "</ul>\n",
    "<p>\n",
    "\n",
    "We would have to determine whether it makes sense to look at these things given the limitation on \"household\" within the study; if so, we need to find a way to create these features from the data.\n",
    "</div>"
   ]
  },
  {
   "cell_type": "markdown",
   "metadata": {},
   "source": [
    "## Economic Characteristics & Income"
   ]
  },
  {
   "cell_type": "markdown",
   "metadata": {},
   "source": [
    "<img src=\"images/income_hist.png\">"
   ]
  },
  {
   "cell_type": "markdown",
   "metadata": {},
   "source": [
    "<img src=\"images/income_pies.png\">"
   ]
  },
  {
   "cell_type": "markdown",
   "metadata": {},
   "source": [
    "<img src=\"images/poverty.png\">"
   ]
  },
  {
   "cell_type": "markdown",
   "metadata": {},
   "source": [
    "<div class=\"alert alert-info\">\n",
    "The first two graphs illustrate that there is a steady decrease in household incomes; a positively skewed graph. Not too surprising. We also chopped off incomes over $400,000 (there was a small blip of million dollar income earners.). I thought there might be some association between income level and choice of field of study. There may be -- but it is not that clear from these graphs. <br><p>\n",
    "\n",
    "The last graph represents number of individuals with family's total income as a percentage of poverty threshold. Not surprisingly, there are a lot more people in college when the family's total income is much higher than the poverty threshold (more well-off families can afford to send their kids to school?).  The graph may be a bit misleading with respect to points less than the poverty threshold -- perhaps we should convert to \"above the poverty threshold\" and \"below the poverty threshold\" and re-examine the results (see below):\n",
    "</div>"
   ]
  },
  {
   "cell_type": "markdown",
   "metadata": {},
   "source": [
    "<img src=\"images/poverty_circles.png\">"
   ]
  },
  {
   "cell_type": "markdown",
   "metadata": {},
   "source": [
    "## Geographic"
   ]
  },
  {
   "cell_type": "markdown",
   "metadata": {},
   "source": [
    "<img src=\"images/metro.png\">"
   ]
  },
  {
   "cell_type": "markdown",
   "metadata": {},
   "source": [
    "<div class=\"alert alert-info\">\n",
    "Doesn't seem to be a significant difference, based on metropolitan status.\n",
    "</div>"
   ]
  },
  {
   "cell_type": "markdown",
   "metadata": {},
   "source": [
    "<img src=\"images/map_1.png\">"
   ]
  },
  {
   "cell_type": "markdown",
   "metadata": {},
   "source": [
    "<img src=\"images/map_2.png\">"
   ]
  },
  {
   "cell_type": "markdown",
   "metadata": {},
   "source": [
    "<img src=\"images/map_3.png\">"
   ]
  },
  {
   "cell_type": "markdown",
   "metadata": {},
   "source": [
    "<div class=\"alert alert-info\">\n",
    "A bit interesting to see which states have more college students (although maybe that is more reflective of states where lots of people go to college, and not necessarily where the students \"home\" is... it is a bit unclear on how this would be reflected in the census data). If this is important, maybe this could be something to look into -- i.e. how to reflect what we want to look at. <b><pr>\n",
    "\n",
    "As far as percentage of STEM students, however, there does not seem to be any noticeable difference by state.\n",
    "</div>"
   ]
  },
  {
   "cell_type": "markdown",
   "metadata": {
    "collapsed": true
   },
   "source": [
    "## More Household Income"
   ]
  },
  {
   "cell_type": "markdown",
   "metadata": {},
   "source": [
    "<img src=\"images/stem_mean.png\">"
   ]
  },
  {
   "cell_type": "markdown",
   "metadata": {},
   "source": [
    "<img src=\"images/stem_hh.png\">"
   ]
  },
  {
   "cell_type": "markdown",
   "metadata": {},
   "source": [
    "<div class=\"alert alert-warning\">\n",
    "Revisiting this... look at the huge number as 9990K... this is throwing the mean/median comparison off (which otherwise might have been interesting...)\n",
    "</div>"
   ]
  }
 ],
 "metadata": {
  "kernelspec": {
   "display_name": "Python 2",
   "language": "python",
   "name": "python2"
  },
  "language_info": {
   "codemirror_mode": {
    "name": "ipython",
    "version": 2
   },
   "file_extension": ".py",
   "mimetype": "text/x-python",
   "name": "python",
   "nbconvert_exporter": "python",
   "pygments_lexer": "ipython2",
   "version": "2.7.10"
  }
 },
 "nbformat": 4,
 "nbformat_minor": 0
}
